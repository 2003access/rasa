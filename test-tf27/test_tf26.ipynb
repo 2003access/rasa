{
 "cells": [
  {
   "cell_type": "markdown",
   "id": "114d7aff-85cc-49f0-a247-9d0cbb106988",
   "metadata": {},
   "source": [
    "# tf2.6 + Python 3.8"
   ]
  },
  {
   "cell_type": "code",
   "execution_count": 1,
   "id": "5e04920c-664a-4c6f-bc5a-4832ff9ee002",
   "metadata": {},
   "outputs": [
    {
     "name": "stdout",
     "output_type": "stream",
     "text": [
      "Python 3.8.10\n"
     ]
    }
   ],
   "source": [
    "!python --version"
   ]
  },
  {
   "cell_type": "code",
   "execution_count": 2,
   "id": "4b971e57-d618-40af-9c5e-f942a2850cdb",
   "metadata": {},
   "outputs": [
    {
     "name": "stdout",
     "output_type": "stream",
     "text": [
      "tensorflow               2.6.1\n",
      "tensorflow-addons        0.14.0\n",
      "tensorflow-estimator     2.6.0\n",
      "tensorflow-hub           0.12.0\n",
      "tensorflow-probability   0.13.0\n",
      "tensorflow-text          2.6.0\n"
     ]
    }
   ],
   "source": [
    "!pip list | grep tensorflow"
   ]
  },
  {
   "cell_type": "code",
   "execution_count": 3,
   "id": "2f14dcbc-c29b-4b6d-b79a-b31ff7a83cc5",
   "metadata": {},
   "outputs": [
    {
     "name": "stdout",
     "output_type": "stream",
     "text": [
      "transformers             2.11.0\n"
     ]
    }
   ],
   "source": [
    "!pip list | grep transformers"
   ]
  },
  {
   "cell_type": "markdown",
   "id": "c7b01f66-207e-4556-bf39-cd78f6d7789a",
   "metadata": {},
   "source": [
    "### Prepare"
   ]
  },
  {
   "cell_type": "code",
   "execution_count": 4,
   "id": "4b82375a-1226-41c0-a951-c00d9976d2ce",
   "metadata": {},
   "outputs": [],
   "source": [
    "from tqdm import tqdm\n",
    "from typing import Tuple\n",
    "import pandas as pd\n",
    "\n",
    "import common"
   ]
  },
  {
   "cell_type": "code",
   "execution_count": 5,
   "id": "2d102ee5-82f4-4a5d-82a7-4866344fc0a4",
   "metadata": {},
   "outputs": [],
   "source": [
    "#!pip install ipywidgets\n",
    "#!jupyter nbextension enable --py widgetsnbextension"
   ]
  },
  {
   "cell_type": "code",
   "execution_count": 6,
   "id": "b6b0fb13-6eed-4cee-b39a-7630cd18d3e7",
   "metadata": {},
   "outputs": [
    {
     "data": {
      "text/plain": [
       "{'model_name': 'bert',\n",
       " 'model_weights': None,\n",
       " 'texts': ['Good evening.', 'here is the sentence I want embeddings for.'],\n",
       " 'expected_shape': [(3, 768), (9, 768)],\n",
       " 'expected_sequence_vec': [[0.6569931, 0.77279466],\n",
       "  [0.21718428, 0.34955627, 0.59124136, 0.6869872, 0.16993292]],\n",
       " 'expected_cls_vec': [[0.29528213,\n",
       "   0.5543281,\n",
       "   -0.4091331,\n",
       "   0.65817744,\n",
       "   0.81740487],\n",
       "  [-0.17215663, 0.26811457, -0.1922609, -0.63926417, -1.626383]]}"
      ]
     },
     "execution_count": 6,
     "metadata": {},
     "output_type": "execute_result"
    }
   ],
   "source": [
    "common.TEST_CASES[0]"
   ]
  },
  {
   "cell_type": "code",
   "execution_count": 7,
   "id": "61419dc2-d51c-45fa-93d3-3514c6777359",
   "metadata": {},
   "outputs": [
    {
     "data": {
      "text/plain": [
       "True"
      ]
     },
     "execution_count": 7,
     "metadata": {},
     "output_type": "execute_result"
    }
   ],
   "source": [
    "len(set(f\"{test_case['model_name']}+{test_case['model_weights']}\" for test_case in common.TEST_CASES)) == len(common.TEST_CASES)"
   ]
  },
  {
   "cell_type": "code",
   "execution_count": 8,
   "id": "6d38e37c-32e2-44ac-91ad-78da867128df",
   "metadata": {},
   "outputs": [
    {
     "name": "stderr",
     "output_type": "stream",
     "text": [
      "2022-01-10 11:23:11.004769: I tensorflow/core/platform/cpu_feature_guard.cc:142] This TensorFlow binary is optimized with oneAPI Deep Neural Network Library (oneDNN) to use the following CPU instructions in performance-critical operations:  AVX2 FMA\n",
      "To enable them in other operations, rebuild TensorFlow with the appropriate compiler flags.\n",
      "2022-01-10 11:23:19.830459: W tensorflow/python/util/util.cc:348] Sets are not currently considered sequences, but this may change in the future, so consider avoiding using them.\n"
     ]
    }
   ],
   "source": [
    "%%capture\n",
    "for test_case in tqdm(common.TEST_CASES):\n",
    "    common.get_featurizer(test_case)"
   ]
  },
  {
   "cell_type": "markdown",
   "id": "09a342dc-bd77-4461-8d74-70c1013dd219",
   "metadata": {
    "tags": []
   },
   "source": [
    "### Compare"
   ]
  },
  {
   "cell_type": "code",
   "execution_count": 9,
   "id": "c295fe2c-ddf6-4051-a945-fa06a7343379",
   "metadata": {},
   "outputs": [
    {
     "name": "stderr",
     "output_type": "stream",
     "text": [
      "  0%|                                                                                                                                                                                                                | 0/7 [00:00<?, ?it/s]/Users/kabu/Documents/workspace/rasa3/rasa/nlu/featurizers/dense_featurizer/lm_featurizer.py:453: VisibleDeprecationWarning: Creating an ndarray from ragged nested sequences (which is a list-or-tuple of lists-or-tuples-or ndarrays with different lengths or shapes) is deprecated. If you meant to do this, you must specify 'dtype=object' when creating the ndarray\n",
      "  return np.array(nonpadded_sequence_embeddings)\n",
      "/Users/kabu/Documents/workspace/rasa3/rasa/nlu/featurizers/dense_featurizer/lm_featurizer.py:251: VisibleDeprecationWarning: Creating an ndarray from ragged nested sequences (which is a list-or-tuple of lists-or-tuples-or ndarrays with different lengths or shapes) is deprecated. If you meant to do this, you must specify 'dtype=object' when creating the ndarray\n",
      "  np.array(post_processed_sequence_embeddings),\n",
      "/Users/kabu/Documents/workspace/rasa3/rasa/nlu/featurizers/dense_featurizer/lm_featurizer.py:562: VisibleDeprecationWarning: Creating an ndarray from ragged nested sequences (which is a list-or-tuple of lists-or-tuples-or ndarrays with different lengths or shapes) is deprecated. If you meant to do this, you must specify 'dtype=object' when creating the ndarray\n",
      "  return np.array(reshaped_sequence_embeddings)\n",
      "/Users/kabu/Documents/workspace/rasa3/rasa/nlu/featurizers/dense_featurizer/lm_featurizer.py:658: VisibleDeprecationWarning: Creating an ndarray from ragged nested sequences (which is a list-or-tuple of lists-or-tuples-or ndarrays with different lengths or shapes) is deprecated. If you meant to do this, you must specify 'dtype=object' when creating the ndarray\n",
      "  sequence_final_embeddings = np.array(sequence_final_embeddings)\n",
      " 29%|█████████████████████████████████████████████████████████▏                                                                                                                                              | 2/7 [00:11<00:26,  5.36s/it]ftfy or spacy is not installed using BERT BasicTokenizer instead of SpaCy & ftfy.\n",
      "100%|████████████████████████████████████████████████████████████████████████████████████████████████████████████████████████████████████████████████████████████████████████████████████████████████████████| 7/7 [00:27<00:00,  3.89s/it]\n"
     ]
    }
   ],
   "source": [
    "comparisons = common.collect_comparisons(common.TEST_CASES)"
   ]
  },
  {
   "cell_type": "code",
   "execution_count": 10,
   "id": "aaef9322-8abe-4d03-84c9-35ce593ea15b",
   "metadata": {},
   "outputs": [
    {
     "data": {
      "text/html": [
       "<div>\n",
       "<style scoped>\n",
       "    .dataframe tbody tr th:only-of-type {\n",
       "        vertical-align: middle;\n",
       "    }\n",
       "\n",
       "    .dataframe tbody tr th {\n",
       "        vertical-align: top;\n",
       "    }\n",
       "\n",
       "    .dataframe thead th {\n",
       "        text-align: right;\n",
       "    }\n",
       "</style>\n",
       "<table border=\"1\" class=\"dataframe\">\n",
       "  <thead>\n",
       "    <tr style=\"text-align: right;\">\n",
       "      <th></th>\n",
       "      <th>model_name</th>\n",
       "      <th>model_weights</th>\n",
       "      <th>sequence_diff</th>\n",
       "      <th>sentence_diff</th>\n",
       "      <th>max_diff</th>\n",
       "    </tr>\n",
       "  </thead>\n",
       "  <tbody>\n",
       "    <tr>\n",
       "      <th>10</th>\n",
       "      <td>distilbert</td>\n",
       "      <td>None</td>\n",
       "      <td>2.831221e-07</td>\n",
       "      <td>1.639128e-07</td>\n",
       "      <td>2.831221e-07</td>\n",
       "    </tr>\n",
       "    <tr>\n",
       "      <th>13</th>\n",
       "      <td>roberta</td>\n",
       "      <td>None</td>\n",
       "      <td>2.867610e-07</td>\n",
       "      <td>2.086163e-07</td>\n",
       "      <td>2.867610e-07</td>\n",
       "    </tr>\n",
       "    <tr>\n",
       "      <th>11</th>\n",
       "      <td>distilbert</td>\n",
       "      <td>None</td>\n",
       "      <td>4.172325e-07</td>\n",
       "      <td>8.940697e-08</td>\n",
       "      <td>4.172325e-07</td>\n",
       "    </tr>\n",
       "    <tr>\n",
       "      <th>0</th>\n",
       "      <td>bert</td>\n",
       "      <td>None</td>\n",
       "      <td>3.537218e-07</td>\n",
       "      <td>4.813641e-07</td>\n",
       "      <td>4.813641e-07</td>\n",
       "    </tr>\n",
       "    <tr>\n",
       "      <th>12</th>\n",
       "      <td>roberta</td>\n",
       "      <td>None</td>\n",
       "      <td>9.378815e-08</td>\n",
       "      <td>5.587935e-07</td>\n",
       "      <td>5.587935e-07</td>\n",
       "    </tr>\n",
       "    <tr>\n",
       "      <th>6</th>\n",
       "      <td>gpt2</td>\n",
       "      <td>None</td>\n",
       "      <td>2.975506e-07</td>\n",
       "      <td>5.662441e-07</td>\n",
       "      <td>5.662441e-07</td>\n",
       "    </tr>\n",
       "    <tr>\n",
       "      <th>3</th>\n",
       "      <td>bert</td>\n",
       "      <td>bert-base-uncased</td>\n",
       "      <td>7.756384e-07</td>\n",
       "      <td>1.489930e-07</td>\n",
       "      <td>7.756384e-07</td>\n",
       "    </tr>\n",
       "    <tr>\n",
       "      <th>1</th>\n",
       "      <td>bert</td>\n",
       "      <td>None</td>\n",
       "      <td>5.247802e-07</td>\n",
       "      <td>9.504773e-07</td>\n",
       "      <td>9.504773e-07</td>\n",
       "    </tr>\n",
       "    <tr>\n",
       "      <th>7</th>\n",
       "      <td>gpt2</td>\n",
       "      <td>None</td>\n",
       "      <td>9.816301e-07</td>\n",
       "      <td>2.384186e-07</td>\n",
       "      <td>9.816301e-07</td>\n",
       "    </tr>\n",
       "    <tr>\n",
       "      <th>4</th>\n",
       "      <td>gpt</td>\n",
       "      <td>None</td>\n",
       "      <td>9.387732e-07</td>\n",
       "      <td>1.132488e-06</td>\n",
       "      <td>1.132488e-06</td>\n",
       "    </tr>\n",
       "    <tr>\n",
       "      <th>2</th>\n",
       "      <td>bert</td>\n",
       "      <td>bert-base-uncased</td>\n",
       "      <td>1.504973e-06</td>\n",
       "      <td>1.603702e-07</td>\n",
       "      <td>1.504973e-06</td>\n",
       "    </tr>\n",
       "    <tr>\n",
       "      <th>5</th>\n",
       "      <td>gpt</td>\n",
       "      <td>None</td>\n",
       "      <td>2.503395e-06</td>\n",
       "      <td>5.364418e-07</td>\n",
       "      <td>2.503395e-06</td>\n",
       "    </tr>\n",
       "    <tr>\n",
       "      <th>8</th>\n",
       "      <td>xlnet</td>\n",
       "      <td>None</td>\n",
       "      <td>5.960464e-06</td>\n",
       "      <td>5.006790e-06</td>\n",
       "      <td>5.960464e-06</td>\n",
       "    </tr>\n",
       "    <tr>\n",
       "      <th>9</th>\n",
       "      <td>xlnet</td>\n",
       "      <td>None</td>\n",
       "      <td>1.180172e-05</td>\n",
       "      <td>6.675720e-06</td>\n",
       "      <td>1.180172e-05</td>\n",
       "    </tr>\n",
       "  </tbody>\n",
       "</table>\n",
       "</div>"
      ],
      "text/plain": [
       "    model_name      model_weights  sequence_diff  sentence_diff      max_diff\n",
       "10  distilbert               None   2.831221e-07   1.639128e-07  2.831221e-07\n",
       "13     roberta               None   2.867610e-07   2.086163e-07  2.867610e-07\n",
       "11  distilbert               None   4.172325e-07   8.940697e-08  4.172325e-07\n",
       "0         bert               None   3.537218e-07   4.813641e-07  4.813641e-07\n",
       "12     roberta               None   9.378815e-08   5.587935e-07  5.587935e-07\n",
       "6         gpt2               None   2.975506e-07   5.662441e-07  5.662441e-07\n",
       "3         bert  bert-base-uncased   7.756384e-07   1.489930e-07  7.756384e-07\n",
       "1         bert               None   5.247802e-07   9.504773e-07  9.504773e-07\n",
       "7         gpt2               None   9.816301e-07   2.384186e-07  9.816301e-07\n",
       "4          gpt               None   9.387732e-07   1.132488e-06  1.132488e-06\n",
       "2         bert  bert-base-uncased   1.504973e-06   1.603702e-07  1.504973e-06\n",
       "5          gpt               None   2.503395e-06   5.364418e-07  2.503395e-06\n",
       "8        xlnet               None   5.960464e-06   5.006790e-06  5.960464e-06\n",
       "9        xlnet               None   1.180172e-05   6.675720e-06  1.180172e-05"
      ]
     },
     "execution_count": 10,
     "metadata": {},
     "output_type": "execute_result"
    }
   ],
   "source": [
    "comparisons.sort_values('max_diff')[['model_name','model_weights'] + [col for col in comparisons.columns if 'diff' in col]]"
   ]
  },
  {
   "cell_type": "code",
   "execution_count": 11,
   "id": "31bdfe92-3081-4ae5-bebb-4afc5dc846bf",
   "metadata": {},
   "outputs": [],
   "source": [
    "comparisons.to_csv('comparison-tf26.csv',index=False)"
   ]
  },
  {
   "cell_type": "code",
   "execution_count": 12,
   "id": "02307b66-9758-4c90-a635-188636a9f93e",
   "metadata": {},
   "outputs": [
    {
     "data": {
      "text/plain": [
       "array(['bert', 'gpt', 'gpt2', 'xlnet', 'distilbert', 'roberta'],\n",
       "      dtype=object)"
      ]
     },
     "execution_count": 12,
     "metadata": {},
     "output_type": "execute_result"
    }
   ],
   "source": [
    "comparisons[comparisons['max_diff']<1e-4]['model_name'].unique()"
   ]
  },
  {
   "cell_type": "code",
   "execution_count": 13,
   "id": "bcd23404-7ad0-4c86-9d4e-6ad778a8fb4d",
   "metadata": {},
   "outputs": [
    {
     "data": {
      "text/plain": [
       "array([], dtype=object)"
      ]
     },
     "execution_count": 13,
     "metadata": {},
     "output_type": "execute_result"
    }
   ],
   "source": [
    "comparisons[comparisons['max_diff']>1e-4]['model_name'].unique()"
   ]
  },
  {
   "cell_type": "code",
   "execution_count": 14,
   "id": "d74fae7f-9e36-4863-bf7b-3a4072ee5f41",
   "metadata": {},
   "outputs": [],
   "source": [
    "comparisons.to_csv('comparison-tf26.csv', index=False)"
   ]
  },
  {
   "cell_type": "markdown",
   "id": "3f5c99d9-f1a4-4774-8605-1bcfe534c0bf",
   "metadata": {},
   "source": [
    "## Inspect Embeddings, Weights, ..."
   ]
  },
  {
   "cell_type": "code",
   "execution_count": 15,
   "id": "bc642198-8e30-49ac-a7f7-0ead54eb973f",
   "metadata": {},
   "outputs": [],
   "source": [
    "test_case = next(test_case for test_case in common.TEST_CASES if 'xlnet' == test_case['model_name'])"
   ]
  },
  {
   "cell_type": "code",
   "execution_count": 16,
   "id": "9b2d3017-333f-4daa-b7ae-79f45e2e61fd",
   "metadata": {},
   "outputs": [
    {
     "data": {
      "text/plain": [
       "{'model_name': 'xlnet',\n",
       " 'model_weights': None,\n",
       " 'texts': ['Good evening.', 'here is the sentence I want embeddings for.'],\n",
       " 'expected_shape': [(3, 768), (9, 768)],\n",
       " 'expected_sequence_vec': [[1.7612367868423462, 2.5819129943847656],\n",
       "  [0.784195065498352,\n",
       "   0.7068007588386536,\n",
       "   1.5883606672286987,\n",
       "   1.891886591911316,\n",
       "   2.5209126472473145]],\n",
       " 'expected_cls_vec': [[2.171574831008911,\n",
       "   -1.5377449989318848,\n",
       "   -3.2671749591827393,\n",
       "   0.22520869970321655,\n",
       "   -1.598855972290039],\n",
       "  [1.6516317129135132,\n",
       "   0.021670114248991013,\n",
       "   -2.5114030838012695,\n",
       "   1.447351098060608,\n",
       "   -2.5866634845733643]]}"
      ]
     },
     "execution_count": 16,
     "metadata": {},
     "output_type": "execute_result"
    }
   ],
   "source": [
    "test_case"
   ]
  },
  {
   "cell_type": "code",
   "execution_count": 17,
   "id": "3d67b1da-6a32-4575-a83f-030e40478b97",
   "metadata": {},
   "outputs": [],
   "source": [
    "tmp_featurizer = common.get_featurizer(test_case)"
   ]
  },
  {
   "cell_type": "code",
   "execution_count": 18,
   "id": "33848448-6cab-436d-92d2-70b8011b8d72",
   "metadata": {},
   "outputs": [
    {
     "data": {
      "text/plain": [
       "[2803, 2060, 9]"
      ]
     },
     "execution_count": 18,
     "metadata": {},
     "output_type": "execute_result"
    }
   ],
   "source": [
    "tmp_featurizer.tokenizer.encode(test_case['texts'][0], add_special_tokens=False)"
   ]
  },
  {
   "cell_type": "code",
   "execution_count": 19,
   "id": "7fffae84-318b-494e-b6b3-9c006328a8b7",
   "metadata": {},
   "outputs": [
    {
     "data": {
      "text/plain": [
       "[193, 27, 18, 3833, 35, 210, 26405, 3487, 23, 28, 9]"
      ]
     },
     "execution_count": 19,
     "metadata": {},
     "output_type": "execute_result"
    }
   ],
   "source": [
    "tmp_featurizer.tokenizer.encode(test_case['texts'][1], add_special_tokens=False)"
   ]
  },
  {
   "cell_type": "code",
   "execution_count": null,
   "id": "6b5208f0-7841-43fc-838d-ce36aca24abc",
   "metadata": {},
   "outputs": [],
   "source": []
  },
  {
   "cell_type": "code",
   "execution_count": null,
   "id": "13893535-eff6-407f-9351-cc36a0dcf24b",
   "metadata": {},
   "outputs": [],
   "source": []
  }
 ],
 "metadata": {
  "kernelspec": {
   "display_name": "Python 3 (ipykernel)",
   "language": "python",
   "name": "python3"
  },
  "language_info": {
   "codemirror_mode": {
    "name": "ipython",
    "version": 3
   },
   "file_extension": ".py",
   "mimetype": "text/x-python",
   "name": "python",
   "nbconvert_exporter": "python",
   "pygments_lexer": "ipython3",
   "version": "3.8.10"
  }
 },
 "nbformat": 4,
 "nbformat_minor": 5
}
