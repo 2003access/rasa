{
 "cells": [
  {
   "cell_type": "markdown",
   "id": "114d7aff-85cc-49f0-a247-9d0cbb106988",
   "metadata": {},
   "source": [
    "# tf2.7 + Python 3.9"
   ]
  },
  {
   "cell_type": "code",
   "execution_count": 1,
   "id": "5e04920c-664a-4c6f-bc5a-4832ff9ee002",
   "metadata": {},
   "outputs": [
    {
     "name": "stdout",
     "output_type": "stream",
     "text": [
      "Python 3.9.9\n"
     ]
    }
   ],
   "source": [
    "!python --version"
   ]
  },
  {
   "cell_type": "code",
   "execution_count": 2,
   "id": "4b971e57-d618-40af-9c5e-f942a2850cdb",
   "metadata": {},
   "outputs": [
    {
     "name": "stdout",
     "output_type": "stream",
     "text": [
      "tensorflow                   2.7.0\n",
      "tensorflow-addons            0.15.0\n",
      "tensorflow-estimator         2.7.0\n",
      "tensorflow-hub               0.12.0\n",
      "tensorflow-io-gcs-filesystem 0.23.1\n",
      "tensorflow-text              2.7.3\n"
     ]
    }
   ],
   "source": [
    "!pip list | grep tensorflow"
   ]
  },
  {
   "cell_type": "code",
   "execution_count": 3,
   "id": "2f14dcbc-c29b-4b6d-b79a-b31ff7a83cc5",
   "metadata": {},
   "outputs": [
    {
     "name": "stdout",
     "output_type": "stream",
     "text": [
      "transformers                 4.13.0\n"
     ]
    }
   ],
   "source": [
    "!pip list | grep transformers"
   ]
  },
  {
   "cell_type": "markdown",
   "id": "c7b01f66-207e-4556-bf39-cd78f6d7789a",
   "metadata": {},
   "source": [
    "### Prepare"
   ]
  },
  {
   "cell_type": "code",
   "execution_count": 4,
   "id": "4b82375a-1226-41c0-a951-c00d9976d2ce",
   "metadata": {},
   "outputs": [],
   "source": [
    "from tqdm import tqdm\n",
    "from typing import Tuple\n",
    "import pandas as pd\n",
    "\n",
    "import common"
   ]
  },
  {
   "cell_type": "code",
   "execution_count": 5,
   "id": "2d102ee5-82f4-4a5d-82a7-4866344fc0a4",
   "metadata": {},
   "outputs": [],
   "source": [
    "#!pip install ipywidgets\n",
    "#!jupyter nbextension enable --py widgetsnbextension"
   ]
  },
  {
   "cell_type": "code",
   "execution_count": 6,
   "id": "b6b0fb13-6eed-4cee-b39a-7630cd18d3e7",
   "metadata": {},
   "outputs": [
    {
     "data": {
      "text/plain": [
       "{'model_name': 'bert',\n",
       " 'model_weights': None,\n",
       " 'texts': ['Good evening.', 'here is the sentence I want embeddings for.'],\n",
       " 'expected_shape': [(3, 768), (9, 768)],\n",
       " 'expected_sequence_vec': [[0.6569931, 0.77279466],\n",
       "  [0.21718428, 0.34955627, 0.59124136, 0.6869872, 0.16993292]],\n",
       " 'expected_cls_vec': [[0.29528213,\n",
       "   0.5543281,\n",
       "   -0.4091331,\n",
       "   0.65817744,\n",
       "   0.81740487],\n",
       "  [-0.17215663, 0.26811457, -0.1922609, -0.63926417, -1.626383]]}"
      ]
     },
     "execution_count": 6,
     "metadata": {},
     "output_type": "execute_result"
    }
   ],
   "source": [
    "common.TEST_CASES[0]"
   ]
  },
  {
   "cell_type": "code",
   "execution_count": 7,
   "id": "61419dc2-d51c-45fa-93d3-3514c6777359",
   "metadata": {},
   "outputs": [
    {
     "data": {
      "text/plain": [
       "True"
      ]
     },
     "execution_count": 7,
     "metadata": {},
     "output_type": "execute_result"
    }
   ],
   "source": [
    "len(set(f\"{test_case['model_name']}+{test_case['model_weights']}\" for test_case in common.TEST_CASES)) == len(common.TEST_CASES)"
   ]
  },
  {
   "cell_type": "code",
   "execution_count": 8,
   "id": "6d38e37c-32e2-44ac-91ad-78da867128df",
   "metadata": {},
   "outputs": [
    {
     "name": "stderr",
     "output_type": "stream",
     "text": [
      "2022-01-10 18:31:24.253438: I tensorflow/core/platform/cpu_feature_guard.cc:151] This TensorFlow binary is optimized with oneAPI Deep Neural Network Library (oneDNN) to use the following CPU instructions in performance-critical operations:  AVX2 FMA\n",
      "To enable them in other operations, rebuild TensorFlow with the appropriate compiler flags.\n",
      "2022-01-10 18:31:39.765596: W tensorflow/python/util/util.cc:368] Sets are not currently considered sequences, but this may change in the future, so consider avoiding using them.\n"
     ]
    }
   ],
   "source": [
    "%%capture\n",
    "for test_case in tqdm(common.TEST_CASES):\n",
    "    common.get_featurizer(test_case)"
   ]
  },
  {
   "cell_type": "markdown",
   "id": "09a342dc-bd77-4461-8d74-70c1013dd219",
   "metadata": {
    "tags": []
   },
   "source": [
    "### Compare"
   ]
  },
  {
   "cell_type": "code",
   "execution_count": 9,
   "id": "c295fe2c-ddf6-4051-a945-fa06a7343379",
   "metadata": {},
   "outputs": [
    {
     "name": "stderr",
     "output_type": "stream",
     "text": [
      "  0%|                                                                                                                                                                                                                | 0/7 [00:00<?, ?it/s]/Users/kabu/Documents/workspace/rasa2/rasa/nlu/featurizers/dense_featurizer/lm_featurizer.py:454: VisibleDeprecationWarning: Creating an ndarray from ragged nested sequences (which is a list-or-tuple of lists-or-tuples-or ndarrays with different lengths or shapes) is deprecated. If you meant to do this, you must specify 'dtype=object' when creating the ndarray\n",
      "  return np.array(nonpadded_sequence_embeddings)\n",
      "/Users/kabu/Documents/workspace/rasa2/rasa/nlu/featurizers/dense_featurizer/lm_featurizer.py:252: VisibleDeprecationWarning: Creating an ndarray from ragged nested sequences (which is a list-or-tuple of lists-or-tuples-or ndarrays with different lengths or shapes) is deprecated. If you meant to do this, you must specify 'dtype=object' when creating the ndarray\n",
      "  np.array(post_processed_sequence_embeddings),\n",
      "/Users/kabu/Documents/workspace/rasa2/rasa/nlu/featurizers/dense_featurizer/lm_featurizer.py:564: VisibleDeprecationWarning: Creating an ndarray from ragged nested sequences (which is a list-or-tuple of lists-or-tuples-or ndarrays with different lengths or shapes) is deprecated. If you meant to do this, you must specify 'dtype=object' when creating the ndarray\n",
      "  return np.array(reshaped_sequence_embeddings)\n",
      "/Users/kabu/Documents/workspace/rasa2/rasa/nlu/featurizers/dense_featurizer/lm_featurizer.py:660: VisibleDeprecationWarning: Creating an ndarray from ragged nested sequences (which is a list-or-tuple of lists-or-tuples-or ndarrays with different lengths or shapes) is deprecated. If you meant to do this, you must specify 'dtype=object' when creating the ndarray\n",
      "  sequence_final_embeddings = np.array(sequence_final_embeddings)\n",
      "100%|████████████████████████████████████████████████████████████████████████████████████████████████████████████████████████████████████████████████████████████████████████████████████████████████████████| 7/7 [00:50<00:00,  7.25s/it]\n"
     ]
    }
   ],
   "source": [
    "comparisons = common.collect_comparisons(common.TEST_CASES)"
   ]
  },
  {
   "cell_type": "code",
   "execution_count": 10,
   "id": "aaef9322-8abe-4d03-84c9-35ce593ea15b",
   "metadata": {
    "tags": []
   },
   "outputs": [
    {
     "data": {
      "text/html": [
       "<div>\n",
       "<style scoped>\n",
       "    .dataframe tbody tr th:only-of-type {\n",
       "        vertical-align: middle;\n",
       "    }\n",
       "\n",
       "    .dataframe tbody tr th {\n",
       "        vertical-align: top;\n",
       "    }\n",
       "\n",
       "    .dataframe thead th {\n",
       "        text-align: right;\n",
       "    }\n",
       "</style>\n",
       "<table border=\"1\" class=\"dataframe\">\n",
       "  <thead>\n",
       "    <tr style=\"text-align: right;\">\n",
       "      <th></th>\n",
       "      <th>model_name</th>\n",
       "      <th>model_weights</th>\n",
       "      <th>text</th>\n",
       "      <th>sequence_diff</th>\n",
       "      <th>sentence_diff</th>\n",
       "      <th>max_diff</th>\n",
       "    </tr>\n",
       "  </thead>\n",
       "  <tbody>\n",
       "    <tr>\n",
       "      <th>10</th>\n",
       "      <td>distilbert</td>\n",
       "      <td>None</td>\n",
       "      <td>Good evening.</td>\n",
       "      <td>2.831221e-07</td>\n",
       "      <td>1.639128e-07</td>\n",
       "      <td>2.831221e-07</td>\n",
       "    </tr>\n",
       "    <tr>\n",
       "      <th>13</th>\n",
       "      <td>roberta</td>\n",
       "      <td>None</td>\n",
       "      <td>here is the sentence I want embeddings for.</td>\n",
       "      <td>2.867610e-07</td>\n",
       "      <td>2.086163e-07</td>\n",
       "      <td>2.867610e-07</td>\n",
       "    </tr>\n",
       "    <tr>\n",
       "      <th>11</th>\n",
       "      <td>distilbert</td>\n",
       "      <td>None</td>\n",
       "      <td>here is the sentence I want embeddings for.</td>\n",
       "      <td>4.172325e-07</td>\n",
       "      <td>8.940697e-08</td>\n",
       "      <td>4.172325e-07</td>\n",
       "    </tr>\n",
       "    <tr>\n",
       "      <th>0</th>\n",
       "      <td>bert</td>\n",
       "      <td>None</td>\n",
       "      <td>Good evening.</td>\n",
       "      <td>3.537218e-07</td>\n",
       "      <td>4.813641e-07</td>\n",
       "      <td>4.813641e-07</td>\n",
       "    </tr>\n",
       "    <tr>\n",
       "      <th>12</th>\n",
       "      <td>roberta</td>\n",
       "      <td>None</td>\n",
       "      <td>Good evening.</td>\n",
       "      <td>9.378815e-08</td>\n",
       "      <td>5.587935e-07</td>\n",
       "      <td>5.587935e-07</td>\n",
       "    </tr>\n",
       "    <tr>\n",
       "      <th>6</th>\n",
       "      <td>gpt2</td>\n",
       "      <td>None</td>\n",
       "      <td>Good evening.</td>\n",
       "      <td>2.975506e-07</td>\n",
       "      <td>5.662441e-07</td>\n",
       "      <td>5.662441e-07</td>\n",
       "    </tr>\n",
       "    <tr>\n",
       "      <th>3</th>\n",
       "      <td>bert</td>\n",
       "      <td>bert-base-uncased</td>\n",
       "      <td>here is the sentence I want embeddings for.</td>\n",
       "      <td>7.756384e-07</td>\n",
       "      <td>1.489930e-07</td>\n",
       "      <td>7.756384e-07</td>\n",
       "    </tr>\n",
       "    <tr>\n",
       "      <th>1</th>\n",
       "      <td>bert</td>\n",
       "      <td>None</td>\n",
       "      <td>here is the sentence I want embeddings for.</td>\n",
       "      <td>5.247802e-07</td>\n",
       "      <td>9.504773e-07</td>\n",
       "      <td>9.504773e-07</td>\n",
       "    </tr>\n",
       "    <tr>\n",
       "      <th>7</th>\n",
       "      <td>gpt2</td>\n",
       "      <td>None</td>\n",
       "      <td>here is the sentence I want embeddings for.</td>\n",
       "      <td>9.816301e-07</td>\n",
       "      <td>2.384186e-07</td>\n",
       "      <td>9.816301e-07</td>\n",
       "    </tr>\n",
       "    <tr>\n",
       "      <th>2</th>\n",
       "      <td>bert</td>\n",
       "      <td>bert-base-uncased</td>\n",
       "      <td>Good evening.</td>\n",
       "      <td>1.504973e-06</td>\n",
       "      <td>1.603702e-07</td>\n",
       "      <td>1.504973e-06</td>\n",
       "    </tr>\n",
       "    <tr>\n",
       "      <th>5</th>\n",
       "      <td>gpt</td>\n",
       "      <td>None</td>\n",
       "      <td>here is the sentence I want embeddings for.</td>\n",
       "      <td>3.913559e-03</td>\n",
       "      <td>9.931326e-04</td>\n",
       "      <td>3.913559e-03</td>\n",
       "    </tr>\n",
       "    <tr>\n",
       "      <th>4</th>\n",
       "      <td>gpt</td>\n",
       "      <td>None</td>\n",
       "      <td>Good evening.</td>\n",
       "      <td>4.269421e-03</td>\n",
       "      <td>2.383366e-03</td>\n",
       "      <td>4.269421e-03</td>\n",
       "    </tr>\n",
       "    <tr>\n",
       "      <th>9</th>\n",
       "      <td>xlnet</td>\n",
       "      <td>None</td>\n",
       "      <td>here is the sentence I want embeddings for.</td>\n",
       "      <td>9.177446e-03</td>\n",
       "      <td>1.481724e-02</td>\n",
       "      <td>1.481724e-02</td>\n",
       "    </tr>\n",
       "    <tr>\n",
       "      <th>8</th>\n",
       "      <td>xlnet</td>\n",
       "      <td>None</td>\n",
       "      <td>Good evening.</td>\n",
       "      <td>3.271818e-03</td>\n",
       "      <td>1.720691e-02</td>\n",
       "      <td>1.720691e-02</td>\n",
       "    </tr>\n",
       "  </tbody>\n",
       "</table>\n",
       "</div>"
      ],
      "text/plain": [
       "    model_name      model_weights  \\\n",
       "10  distilbert               None   \n",
       "13     roberta               None   \n",
       "11  distilbert               None   \n",
       "0         bert               None   \n",
       "12     roberta               None   \n",
       "6         gpt2               None   \n",
       "3         bert  bert-base-uncased   \n",
       "1         bert               None   \n",
       "7         gpt2               None   \n",
       "2         bert  bert-base-uncased   \n",
       "5          gpt               None   \n",
       "4          gpt               None   \n",
       "9        xlnet               None   \n",
       "8        xlnet               None   \n",
       "\n",
       "                                           text  sequence_diff  sentence_diff  \\\n",
       "10                                Good evening.   2.831221e-07   1.639128e-07   \n",
       "13  here is the sentence I want embeddings for.   2.867610e-07   2.086163e-07   \n",
       "11  here is the sentence I want embeddings for.   4.172325e-07   8.940697e-08   \n",
       "0                                 Good evening.   3.537218e-07   4.813641e-07   \n",
       "12                                Good evening.   9.378815e-08   5.587935e-07   \n",
       "6                                 Good evening.   2.975506e-07   5.662441e-07   \n",
       "3   here is the sentence I want embeddings for.   7.756384e-07   1.489930e-07   \n",
       "1   here is the sentence I want embeddings for.   5.247802e-07   9.504773e-07   \n",
       "7   here is the sentence I want embeddings for.   9.816301e-07   2.384186e-07   \n",
       "2                                 Good evening.   1.504973e-06   1.603702e-07   \n",
       "5   here is the sentence I want embeddings for.   3.913559e-03   9.931326e-04   \n",
       "4                                 Good evening.   4.269421e-03   2.383366e-03   \n",
       "9   here is the sentence I want embeddings for.   9.177446e-03   1.481724e-02   \n",
       "8                                 Good evening.   3.271818e-03   1.720691e-02   \n",
       "\n",
       "        max_diff  \n",
       "10  2.831221e-07  \n",
       "13  2.867610e-07  \n",
       "11  4.172325e-07  \n",
       "0   4.813641e-07  \n",
       "12  5.587935e-07  \n",
       "6   5.662441e-07  \n",
       "3   7.756384e-07  \n",
       "1   9.504773e-07  \n",
       "7   9.816301e-07  \n",
       "2   1.504973e-06  \n",
       "5   3.913559e-03  \n",
       "4   4.269421e-03  \n",
       "9   1.481724e-02  \n",
       "8   1.720691e-02  "
      ]
     },
     "execution_count": 10,
     "metadata": {},
     "output_type": "execute_result"
    }
   ],
   "source": [
    "comparisons.sort_values('max_diff')[['model_name','model_weights', 'text'] + [col for col in comparisons.columns if 'diff' in col]]"
   ]
  },
  {
   "cell_type": "code",
   "execution_count": 11,
   "id": "31bdfe92-3081-4ae5-bebb-4afc5dc846bf",
   "metadata": {},
   "outputs": [],
   "source": [
    "comparisons.to_csv('comparison-tf27.csv',index=False)"
   ]
  },
  {
   "cell_type": "code",
   "execution_count": 12,
   "id": "02307b66-9758-4c90-a635-188636a9f93e",
   "metadata": {},
   "outputs": [
    {
     "data": {
      "text/plain": [
       "array(['bert', 'gpt2', 'distilbert', 'roberta'], dtype=object)"
      ]
     },
     "execution_count": 12,
     "metadata": {},
     "output_type": "execute_result"
    }
   ],
   "source": [
    "comparisons[comparisons['max_diff']<1e-4]['model_name'].unique()"
   ]
  },
  {
   "cell_type": "code",
   "execution_count": 13,
   "id": "bcd23404-7ad0-4c86-9d4e-6ad778a8fb4d",
   "metadata": {},
   "outputs": [
    {
     "data": {
      "text/plain": [
       "array(['gpt', 'xlnet'], dtype=object)"
      ]
     },
     "execution_count": 13,
     "metadata": {},
     "output_type": "execute_result"
    }
   ],
   "source": [
    "comparisons[comparisons['max_diff']>1e-4]['model_name'].unique()"
   ]
  },
  {
   "cell_type": "markdown",
   "id": "df058593-9b75-4e76-ac16-c1127d22a989",
   "metadata": {},
   "source": [
    "## If we update the corresponding test, then the new \"expected\" values should be:"
   ]
  },
  {
   "cell_type": "code",
   "execution_count": 14,
   "id": "aae251c8-c10c-4ec6-94e7-e01884292214",
   "metadata": {},
   "outputs": [],
   "source": [
    "xlnet_gpt = comparisons[comparisons['model_name'].isin(['xlnet', 'gpt'])]"
   ]
  },
  {
   "cell_type": "code",
   "execution_count": 15,
   "id": "5fa2f47e-7750-4e78-be59-491ecfd028aa",
   "metadata": {},
   "outputs": [
    {
     "name": "stdout",
     "output_type": "stream",
     "text": [
      "gpt Good evening.\n",
      "seq [-0.06324312090873718, 0.4072571396827698]\n",
      "sent [0.1720070093870163, 0.1511477530002594, 0.39497435092926025, -0.5745484828948975, 0.05334469676017761]\n",
      "gpt here is the sentence I want embeddings for.\n",
      "seq [0.8041259050369263, -0.08877559006214142, 0.9976294636726379, -0.38815218210220337, 0.08530596643686295]\n",
      "sent [0.4095669686794281, -0.11725597828626633, -0.30236583948135376, -0.4023253917694092, 0.6285617351531982]\n",
      "xlnet Good evening.\n",
      "seq [1.7588920593261719, 2.578641176223755]\n",
      "sent [2.168766498565674, -1.5277889966964722, -3.2499680519104004, 0.23829853534698486, -1.603652000427246]\n",
      "xlnet here is the sentence I want embeddings for.\n",
      "seq [0.7821242213249207, 0.6983698606491089, 1.5819640159606934, 1.891527533531189, 2.511735200881958]\n",
      "sent [1.643880844116211, 0.023089325055480003, -2.497927665710449, 1.4621683359146118, -2.5919559001922607]\n"
     ]
    }
   ],
   "source": [
    "for _, row in xlnet_gpt.iterrows():\n",
    "    print(row['model_name'], row['text'])\n",
    "    print('seq', row['sequence_actual'])\n",
    "    print('sent', row['sentence_actual'])"
   ]
  },
  {
   "cell_type": "markdown",
   "id": "3f5c99d9-f1a4-4774-8605-1bcfe534c0bf",
   "metadata": {},
   "source": [
    "## Inspect Embeddings, Weights, ..."
   ]
  },
  {
   "cell_type": "code",
   "execution_count": 16,
   "id": "bc642198-8e30-49ac-a7f7-0ead54eb973f",
   "metadata": {},
   "outputs": [],
   "source": [
    "test_case = next(test_case for test_case in common.TEST_CASES if 'xlnet' == test_case['model_name'])"
   ]
  },
  {
   "cell_type": "code",
   "execution_count": 17,
   "id": "9b2d3017-333f-4daa-b7ae-79f45e2e61fd",
   "metadata": {},
   "outputs": [
    {
     "data": {
      "text/plain": [
       "{'model_name': 'xlnet',\n",
       " 'model_weights': None,\n",
       " 'texts': ['Good evening.', 'here is the sentence I want embeddings for.'],\n",
       " 'expected_shape': [(3, 768), (9, 768)],\n",
       " 'expected_sequence_vec': [[1.7612367868423462, 2.5819129943847656],\n",
       "  [0.784195065498352,\n",
       "   0.7068007588386536,\n",
       "   1.5883606672286987,\n",
       "   1.891886591911316,\n",
       "   2.5209126472473145]],\n",
       " 'expected_cls_vec': [[2.171574831008911,\n",
       "   -1.5377449989318848,\n",
       "   -3.2671749591827393,\n",
       "   0.22520869970321655,\n",
       "   -1.598855972290039],\n",
       "  [1.6516317129135132,\n",
       "   0.021670114248991013,\n",
       "   -2.5114030838012695,\n",
       "   1.447351098060608,\n",
       "   -2.5866634845733643]]}"
      ]
     },
     "execution_count": 17,
     "metadata": {},
     "output_type": "execute_result"
    }
   ],
   "source": [
    "test_case"
   ]
  },
  {
   "cell_type": "code",
   "execution_count": 18,
   "id": "3d67b1da-6a32-4575-a83f-030e40478b97",
   "metadata": {},
   "outputs": [],
   "source": [
    "tmp_featurizer = common.get_featurizer(test_case)"
   ]
  },
  {
   "cell_type": "code",
   "execution_count": 19,
   "id": "33848448-6cab-436d-92d2-70b8011b8d72",
   "metadata": {},
   "outputs": [
    {
     "data": {
      "text/plain": [
       "[2803, 2060, 9]"
      ]
     },
     "execution_count": 19,
     "metadata": {},
     "output_type": "execute_result"
    }
   ],
   "source": [
    "tmp_featurizer.tokenizer.encode(test_case['texts'][0], add_special_tokens=False)"
   ]
  },
  {
   "cell_type": "code",
   "execution_count": 20,
   "id": "7fffae84-318b-494e-b6b3-9c006328a8b7",
   "metadata": {},
   "outputs": [
    {
     "data": {
      "text/plain": [
       "[193, 27, 18, 3833, 35, 210, 26405, 3487, 23, 28, 9]"
      ]
     },
     "execution_count": 20,
     "metadata": {},
     "output_type": "execute_result"
    }
   ],
   "source": [
    "tmp_featurizer.tokenizer.encode(test_case['texts'][1], add_special_tokens=False)"
   ]
  },
  {
   "cell_type": "code",
   "execution_count": null,
   "id": "6b5208f0-7841-43fc-838d-ce36aca24abc",
   "metadata": {},
   "outputs": [],
   "source": []
  },
  {
   "cell_type": "code",
   "execution_count": null,
   "id": "13893535-eff6-407f-9351-cc36a0dcf24b",
   "metadata": {},
   "outputs": [],
   "source": []
  }
 ],
 "metadata": {
  "kernelspec": {
   "display_name": "Python 3 (ipykernel)",
   "language": "python",
   "name": "python3"
  },
  "language_info": {
   "codemirror_mode": {
    "name": "ipython",
    "version": 3
   },
   "file_extension": ".py",
   "mimetype": "text/x-python",
   "name": "python",
   "nbconvert_exporter": "python",
   "pygments_lexer": "ipython3",
   "version": "3.9.9"
  }
 },
 "nbformat": 4,
 "nbformat_minor": 5
}
