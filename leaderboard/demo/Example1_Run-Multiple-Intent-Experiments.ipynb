{
 "cells": [
  {
   "cell_type": "markdown",
   "id": "c4fc03a9-e2ed-4a47-a9aa-cc168e676d66",
   "metadata": {},
   "source": [
    "## Demo: Run Multiple Intent Experiments"
   ]
  },
  {
   "cell_type": "code",
   "execution_count": 1,
   "id": "50608989-6f97-4ee1-a1a5-ded20736bf95",
   "metadata": {},
   "outputs": [],
   "source": [
    "!rm -rf ./test"
   ]
  },
  {
   "cell_type": "code",
   "execution_count": 2,
   "id": "92599402-ca60-417b-b562-2711395e76c3",
   "metadata": {},
   "outputs": [],
   "source": [
    "%%capture\n",
    "from leaderboard.nlu.base import base_experiment, intent_experiment\n",
    "import copy"
   ]
  },
  {
   "cell_type": "markdown",
   "id": "43d01e02-a6e4-4203-88f6-24edb75ca410",
   "metadata": {},
   "source": [
    "### Chose Configurations"
   ]
  },
  {
   "cell_type": "code",
   "execution_count": 3,
   "id": "c2415fda-8e36-463c-87b0-fc16abd8b0f2",
   "metadata": {},
   "outputs": [],
   "source": [
    "base_config = intent_experiment.IntentExperimentConfiguration(\n",
    "    exclusion_percentage=0.,\n",
    "    drop_intents_with_less_than=2,\n",
    "    data=base_experiment.DataConfig(\n",
    "        name=\"examples-rules-nlu\",\n",
    "        data_path=\"../../examples/rules/data/nlu.yml\",\n",
    "        domain_path=\"../../examples/rules/domain.yml\",\n",
    "    ),\n",
    "    model=base_experiment.ModelConfig(),\n",
    "    clear_rasa_cache=True,\n",
    ")"
   ]
  },
  {
   "cell_type": "code",
   "execution_count": 4,
   "id": "37116ea9-bd8e-4c0e-93b7-777592c87074",
   "metadata": {},
   "outputs": [],
   "source": [
    "variations = {\n",
    "    \"interesting-config-name1\" : \"./config2.yml\" ,\n",
    "    \"another-very-interesting-config-because-reasons\" : \"./config1.yml\" ,\n",
    "}"
   ]
  },
  {
   "cell_type": "code",
   "execution_count": 5,
   "id": "94f7a087-ffc6-48ed-aca2-6eeeff770c59",
   "metadata": {},
   "outputs": [],
   "source": [
    "configs = []\n",
    "for name, config_path in variations.items():\n",
    "    config = copy.deepcopy(base_config)\n",
    "    config.model.name = name\n",
    "    config.model.config_path = config_path\n",
    "    configs.append(config)"
   ]
  },
  {
   "cell_type": "code",
   "execution_count": 6,
   "id": "4ef405d1-0dcf-4d0e-9d38-d23f8e21bf1b",
   "metadata": {},
   "outputs": [
    {
     "data": {
      "text/plain": [
       "[IntentExperimentConfiguration(description='Basic Intent Experiment', model=ModelConfig(name='interesting-config-name1', config_path='./config2.yml'), data=DataConfig(name='examples-rules-nlu', domain_path='../../examples/rules/domain.yml', data_path='../../examples/rules/data/nlu.yml'), clear_rasa_cache=True, drop_intents_with_less_than=2, exclusion_percentage=0.0, random_seed=1234),\n",
       " IntentExperimentConfiguration(description='Basic Intent Experiment', model=ModelConfig(name='another-very-interesting-config-because-reasons', config_path='./config1.yml'), data=DataConfig(name='examples-rules-nlu', domain_path='../../examples/rules/domain.yml', data_path='../../examples/rules/data/nlu.yml'), clear_rasa_cache=True, drop_intents_with_less_than=2, exclusion_percentage=0.0, random_seed=1234)]"
      ]
     },
     "execution_count": 6,
     "metadata": {},
     "output_type": "execute_result"
    }
   ],
   "source": [
    "configs"
   ]
  },
  {
   "cell_type": "markdown",
   "id": "23306964-7159-4675-8bc3-51a3233180f3",
   "metadata": {},
   "source": [
    "### Run!"
   ]
  },
  {
   "cell_type": "code",
   "execution_count": 7,
   "id": "dfdb13ba-76e6-479e-b348-91699234bf4d",
   "metadata": {},
   "outputs": [
    {
     "name": "stdout",
     "output_type": "stream",
     "text": [
      "total 112\n",
      "-rw-r--r--  1 kabu  staff    12K Apr  4 13:08 Example1_Run-Multiple-Intent-Experiments.ipynb\n",
      "-rw-r--r--  1 kabu  staff    25K Apr  4 13:49 Example2_Run-Exp0-Script.ipynb\n",
      "-rw-r--r--  1 kabu  staff     0B Mar 31 19:21 __init__.py\n",
      "-rw-r--r--  1 kabu  staff   213B Mar 31 17:41 config1.yml\n",
      "-rw-r--r--  1 kabu  staff   176B Apr  1 14:33 config2.yml\n",
      "-rw-r--r--  1 kabu  staff   1.1K Apr  4 12:54 run_exp0.py\n",
      "drwxr-xr-x  3 kabu  staff    96B Apr  4 13:04 \u001b[34mtest2\u001b[m\u001b[m\n"
     ]
    }
   ],
   "source": [
    "!ls -lh ./"
   ]
  },
  {
   "cell_type": "code",
   "execution_count": 8,
   "id": "a24156c2-18ad-4825-b9b0-a142a4d5d141",
   "metadata": {},
   "outputs": [
    {
     "name": "stderr",
     "output_type": "stream",
     "text": [
      "100%|████████████████████████████████████████████████████████████████████████████████████████████████████████████████████████████████████████████████████████████████████████████████████████████████████████| 2/2 [01:51<00:00, 55.53s/it]\n"
     ]
    }
   ],
   "source": [
    "intent_experiment.multirun(configs=configs, out_dir='./test', capture=True) # capture=True captures all stdout/stderr output"
   ]
  },
  {
   "cell_type": "markdown",
   "id": "0b5e40cb-1292-4f60-89fe-4bfb464d64f2",
   "metadata": {},
   "source": [
    "### Inspect the Results"
   ]
  },
  {
   "cell_type": "code",
   "execution_count": 9,
   "id": "7c448f5a-ebc8-4ff2-8808-e5a5392e09ae",
   "metadata": {},
   "outputs": [
    {
     "name": "stdout",
     "output_type": "stream",
     "text": [
      "total 0\n",
      "drwxr-xr-x  7 kabu  staff   224B Apr  4 13:51 \u001b[34mconfig:another-very-interesting-config-because-reasons,drop:2,exclude:0.0,seed:1234__2022-04-04_13-50-35\u001b[m\u001b[m\n",
      "drwxr-xr-x  7 kabu  staff   224B Apr  4 13:50 \u001b[34mconfig:interesting-config-name1,drop:2,exclude:0.0,seed:1234__2022-04-04_13-49-40\u001b[m\u001b[m\n"
     ]
    }
   ],
   "source": [
    "!ls -lh ./test/intent_experiment__examples-rules-nlu"
   ]
  },
  {
   "cell_type": "code",
   "execution_count": 10,
   "id": "ed57bf39-ac2d-44c5-a45d-2b5d59b9d1e1",
   "metadata": {},
   "outputs": [],
   "source": [
    "import glob\n",
    "example = list(glob.glob(\"./test/intent_experiment__examples-rules-nlu/*\"))[0]"
   ]
  },
  {
   "cell_type": "code",
   "execution_count": 11,
   "id": "2b2f9ed3-ed9f-46de-a771-82ff20846c8b",
   "metadata": {},
   "outputs": [
    {
     "data": {
      "text/plain": [
       "'./test/intent_experiment__examples-rules-nlu/config:interesting-config-name1,drop:2,exclude:0.0,seed:1234__2022-04-04_13-49-40'"
      ]
     },
     "execution_count": 11,
     "metadata": {},
     "output_type": "execute_result"
    }
   ],
   "source": [
    "example"
   ]
  },
  {
   "cell_type": "code",
   "execution_count": 12,
   "id": "597474b0-ce3a-473e-8edc-3741fafefcf5",
   "metadata": {},
   "outputs": [
    {
     "name": "stdout",
     "output_type": "stream",
     "text": [
      "total 8\n",
      "drwxr-xr-x  7 kabu  staff   224B Apr  4 13:50 \u001b[34m.\u001b[m\u001b[m\n",
      "drwxr-xr-x  4 kabu  staff   128B Apr  4 13:50 \u001b[34m..\u001b[m\u001b[m\n",
      "drwxr-xr-x  5 kabu  staff   160B Apr  4 13:49 \u001b[34m.hydra\u001b[m\u001b[m\n",
      "drwxr-xr-x  4 kabu  staff   128B Apr  4 13:50 \u001b[34mdata\u001b[m\u001b[m\n",
      "-rw-r--r--  1 kabu  staff   2.5K Apr  4 13:50 intent_experiment.log\n",
      "drwxr-xr-x  3 kabu  staff    96B Apr  4 13:50 \u001b[34mmodel\u001b[m\u001b[m\n",
      "drwxr-xr-x  7 kabu  staff   224B Apr  4 13:50 \u001b[34mreport\u001b[m\u001b[m\n"
     ]
    }
   ],
   "source": [
    "!ls -lha {example}"
   ]
  },
  {
   "cell_type": "code",
   "execution_count": 13,
   "id": "81d17168-54bf-4797-9d21-4f5d96c9f936",
   "metadata": {},
   "outputs": [
    {
     "name": "stdout",
     "output_type": "stream",
     "text": [
      "[2022-04-04 13:49:40,809][leaderboard.nlu.base.base_experiment][INFO] - Running Experiment IntentExperiment\n",
      "[2022-04-04 13:49:40,809][leaderboard.nlu.base.base_experiment][INFO] - Description: Experiment where we 1. exclude all intents with less than a fixed number of examples and 2. during training also remove a fixed percentage of the training examples before training.\n",
      "[2022-04-04 13:49:41,659][rasa.engine.training.hooks][INFO] - Starting to train component 'CountVectorsFeaturizer'.\n",
      "[2022-04-04 13:49:41,712][rasa.nlu.featurizers.sparse_featurizer.count_vectors_featurizer][INFO] - 232 vocabulary items were created for text attribute.\n",
      "[2022-04-04 13:49:41,715][rasa.engine.training.hooks][INFO] - Finished training component 'CountVectorsFeaturizer'.\n"
     ]
    }
   ],
   "source": [
    "!head -n 5 {example}/intent_experiment.log"
   ]
  },
  {
   "cell_type": "code",
   "execution_count": 14,
   "id": "a6bd2e29-e694-40f5-9f38-bb6785111679",
   "metadata": {},
   "outputs": [
    {
     "name": "stdout",
     "output_type": "stream",
     "text": [
      " [ 0  0  2  1  2 17  1  1  2]\n",
      " [ 0  0  0  1  1  1  0  0  1]\n",
      " [ 0  0  2  0  1  0  0  0  1]\n",
      " [ 0  0  1  1  0  1  0  0  2]]\n",
      "[2022-04-04 13:50:30,059][rasa.nlu.test][INFO] - Entity evaluation results:\n"
     ]
    }
   ],
   "source": [
    "!tail -n 5 {example}/intent_experiment.log"
   ]
  },
  {
   "cell_type": "code",
   "execution_count": 15,
   "id": "c5405f33-712b-4906-94aa-ac07dcf6857d",
   "metadata": {},
   "outputs": [
    {
     "name": "stdout",
     "output_type": "stream",
     "text": [
      "description: Basic Intent Experiment\n",
      "model:\n",
      "  name: interesting-config-name1\n",
      "  config_path: ./config2.yml\n",
      "data:\n",
      "  name: examples-rules-nlu\n",
      "  domain_path: ../../examples/rules/domain.yml\n",
      "  data_path: ../../examples/rules/data/nlu.yml\n",
      "clear_rasa_cache: true\n",
      "drop_intents_with_less_than: 2\n",
      "exclusion_percentage: 0.0\n",
      "random_seed: 1234\n"
     ]
    }
   ],
   "source": [
    "!cat {example}/.hydra/config.yaml"
   ]
  },
  {
   "cell_type": "code",
   "execution_count": 16,
   "id": "1fafb30d-78e7-48b9-8092-23c774ccdb02",
   "metadata": {},
   "outputs": [
    {
     "name": "stdout",
     "output_type": "stream",
     "text": [
      "hydra:\n",
      "  run:\n",
      "    dir: ./test/intent_experiment__${data.name}/config:${model.name},drop:${drop_intents_with_less_than},exclude:${exclusion_percentage},seed:${random_seed}__${now:%Y-%m-%d_%H-%M-%S}\n",
      "  sweep:\n",
      "    dir: multirun/${now:%Y-%m-%d}/${now:%H-%M-%S}\n",
      "...\n"
     ]
    }
   ],
   "source": [
    "!head -n 5 {example}/.hydra/hydra.yaml\n",
    "!echo '...'"
   ]
  },
  {
   "cell_type": "code",
   "execution_count": 17,
   "id": "3fbe3db3-8f54-463f-bcda-7f7429da161f",
   "metadata": {},
   "outputs": [
    {
     "name": "stdout",
     "output_type": "stream",
     "text": [
      "intent_confusion_matrix.png  intent_report.json\n",
      "intent_errors.json           training_metadata__times.csv\n",
      "intent_histogram.png\n"
     ]
    }
   ],
   "source": [
    "!ls {example}/report/"
   ]
  },
  {
   "cell_type": "code",
   "execution_count": 18,
   "id": "0caf160d-6053-473e-92f7-c3d964ffd17c",
   "metadata": {},
   "outputs": [
    {
     "name": "stdout",
     "output_type": "stream",
     "text": [
      "name, start_time, duration(min), duration(sec)\n",
      "train_CountVectorsFeaturizer1, 2022-04-04 13:49:41, 0.0002, 0.01269388198852539\n",
      "train_DIETClassifier2, 2022-04-04 13:49:41, 0.3565, 21.389381170272827\n"
     ]
    }
   ],
   "source": [
    "!cat {example}/report/training_metadata__times.csv"
   ]
  },
  {
   "cell_type": "code",
   "execution_count": null,
   "id": "61a9ccec-0ee0-4c22-bbfd-7b00376e9cc1",
   "metadata": {},
   "outputs": [],
   "source": []
  }
 ],
 "metadata": {
  "kernelspec": {
   "display_name": "Python 3 (ipykernel)",
   "language": "python",
   "name": "python3"
  },
  "language_info": {
   "codemirror_mode": {
    "name": "ipython",
    "version": 3
   },
   "file_extension": ".py",
   "mimetype": "text/x-python",
   "name": "python",
   "nbconvert_exporter": "python",
   "pygments_lexer": "ipython3",
   "version": "3.8.12"
  }
 },
 "nbformat": 4,
 "nbformat_minor": 5
}
