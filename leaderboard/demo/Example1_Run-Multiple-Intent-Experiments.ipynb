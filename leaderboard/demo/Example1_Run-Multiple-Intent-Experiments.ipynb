{
 "cells": [
  {
   "cell_type": "markdown",
   "id": "c4fc03a9-e2ed-4a47-a9aa-cc168e676d66",
   "metadata": {},
   "source": [
    "# Demo: Run Multiple Intent Experiments"
   ]
  },
  {
   "cell_type": "code",
   "execution_count": 1,
   "id": "50608989-6f97-4ee1-a1a5-ded20736bf95",
   "metadata": {},
   "outputs": [],
   "source": [
    "!rm -rf ./test"
   ]
  },
  {
   "cell_type": "code",
   "execution_count": 2,
   "id": "92599402-ca60-417b-b562-2711395e76c3",
   "metadata": {},
   "outputs": [],
   "source": [
    "%%capture\n",
    "from leaderboard.utils import base_experiment\n",
    "from leaderboard.nlu import exp_0_stratify_intents\n",
    "import copy"
   ]
  },
  {
   "cell_type": "markdown",
   "id": "43d01e02-a6e4-4203-88f6-24edb75ca410",
   "metadata": {},
   "source": [
    "## Create Configurations Programmatically"
   ]
  },
  {
   "cell_type": "code",
   "execution_count": 3,
   "id": "c2415fda-8e36-463c-87b0-fc16abd8b0f2",
   "metadata": {},
   "outputs": [],
   "source": [
    "base_config = exp_0_stratify_intents.Config(\n",
    "    train_exclusion_fraction=0.,\n",
    "    remove_data_for_intents_with_num_examples_leq=2,\n",
    "    data=base_experiment.DataConfig(\n",
    "        name=\"examples-rules-nlu\",\n",
    "        data_path=\"../../examples/rules/data/nlu.yml\",\n",
    "        domain_path=\"../../examples/rules/domain.yml\",\n",
    "    ),\n",
    "    model=base_experiment.ModelConfig(),\n",
    "    clear_rasa_cache=True,\n",
    ")"
   ]
  },
  {
   "cell_type": "code",
   "execution_count": 4,
   "id": "88953a7e-b36b-46e6-b248-eb08a6982449",
   "metadata": {},
   "outputs": [],
   "source": [
    "model_variations = {\n",
    "    \"interesting-config-name1\" : \"./config2.yml\" ,\n",
    "    \"another-very-interesting-config-because-reasons\" : \"./config1.yml\" ,\n",
    "}\n",
    "model_variations = [ {(\"model\",\"name\") : key, (\"model\", \"config_path\") : value} for key, value in model_variations.items() ]"
   ]
  },
  {
   "cell_type": "code",
   "execution_count": 5,
   "id": "0c57b9cb-1b0a-43f7-96a3-b4762f1f0285",
   "metadata": {},
   "outputs": [
    {
     "data": {
      "text/plain": [
       "[{('model', 'name'): 'interesting-config-name1',\n",
       "  ('model', 'config_path'): './config2.yml'},\n",
       " {('model', 'name'): 'another-very-interesting-config-because-reasons',\n",
       "  ('model', 'config_path'): './config1.yml'}]"
      ]
     },
     "execution_count": 5,
     "metadata": {},
     "output_type": "execute_result"
    }
   ],
   "source": [
    "model_variations"
   ]
  },
  {
   "cell_type": "code",
   "execution_count": 6,
   "id": "47c4015e-1311-4347-be01-5f7ae5f331a1",
   "metadata": {},
   "outputs": [],
   "source": [
    "seed_variations = [ {('exclusion_seed',) : seed} for seed in [1,2,3,4] ]"
   ]
  },
  {
   "cell_type": "code",
   "execution_count": 7,
   "id": "c1278e10-a5e7-4a22-be97-239c24f09898",
   "metadata": {},
   "outputs": [],
   "source": [
    "configs = base_experiment.create_variations([base_config], model_variations)\n",
    "configs = base_experiment.create_variations(configs, seed_variations)"
   ]
  },
  {
   "cell_type": "code",
   "execution_count": 8,
   "id": "4ef405d1-0dcf-4d0e-9d38-d23f8e21bf1b",
   "metadata": {},
   "outputs": [
    {
     "data": {
      "text/plain": [
       "[Config(model=ModelConfig(name='interesting-config-name1', config_path='./config2.yml'), data=DataConfig(name='examples-rules-nlu', domain_path='../../examples/rules/domain.yml', data_path='../../examples/rules/data/nlu.yml'), clear_rasa_cache=True, remove_data_for_intents_with_num_examples_leq=2, train_exclusion_fraction=0.0, exclusion_seed=1, test_fraction=0.2, test_seed=42),\n",
       " Config(model=ModelConfig(name='interesting-config-name1', config_path='./config2.yml'), data=DataConfig(name='examples-rules-nlu', domain_path='../../examples/rules/domain.yml', data_path='../../examples/rules/data/nlu.yml'), clear_rasa_cache=True, remove_data_for_intents_with_num_examples_leq=2, train_exclusion_fraction=0.0, exclusion_seed=2, test_fraction=0.2, test_seed=42),\n",
       " Config(model=ModelConfig(name='interesting-config-name1', config_path='./config2.yml'), data=DataConfig(name='examples-rules-nlu', domain_path='../../examples/rules/domain.yml', data_path='../../examples/rules/data/nlu.yml'), clear_rasa_cache=True, remove_data_for_intents_with_num_examples_leq=2, train_exclusion_fraction=0.0, exclusion_seed=3, test_fraction=0.2, test_seed=42),\n",
       " Config(model=ModelConfig(name='interesting-config-name1', config_path='./config2.yml'), data=DataConfig(name='examples-rules-nlu', domain_path='../../examples/rules/domain.yml', data_path='../../examples/rules/data/nlu.yml'), clear_rasa_cache=True, remove_data_for_intents_with_num_examples_leq=2, train_exclusion_fraction=0.0, exclusion_seed=4, test_fraction=0.2, test_seed=42),\n",
       " Config(model=ModelConfig(name='another-very-interesting-config-because-reasons', config_path='./config1.yml'), data=DataConfig(name='examples-rules-nlu', domain_path='../../examples/rules/domain.yml', data_path='../../examples/rules/data/nlu.yml'), clear_rasa_cache=True, remove_data_for_intents_with_num_examples_leq=2, train_exclusion_fraction=0.0, exclusion_seed=1, test_fraction=0.2, test_seed=42),\n",
       " Config(model=ModelConfig(name='another-very-interesting-config-because-reasons', config_path='./config1.yml'), data=DataConfig(name='examples-rules-nlu', domain_path='../../examples/rules/domain.yml', data_path='../../examples/rules/data/nlu.yml'), clear_rasa_cache=True, remove_data_for_intents_with_num_examples_leq=2, train_exclusion_fraction=0.0, exclusion_seed=2, test_fraction=0.2, test_seed=42),\n",
       " Config(model=ModelConfig(name='another-very-interesting-config-because-reasons', config_path='./config1.yml'), data=DataConfig(name='examples-rules-nlu', domain_path='../../examples/rules/domain.yml', data_path='../../examples/rules/data/nlu.yml'), clear_rasa_cache=True, remove_data_for_intents_with_num_examples_leq=2, train_exclusion_fraction=0.0, exclusion_seed=3, test_fraction=0.2, test_seed=42),\n",
       " Config(model=ModelConfig(name='another-very-interesting-config-because-reasons', config_path='./config1.yml'), data=DataConfig(name='examples-rules-nlu', domain_path='../../examples/rules/domain.yml', data_path='../../examples/rules/data/nlu.yml'), clear_rasa_cache=True, remove_data_for_intents_with_num_examples_leq=2, train_exclusion_fraction=0.0, exclusion_seed=4, test_fraction=0.2, test_seed=42)]"
      ]
     },
     "execution_count": 8,
     "metadata": {},
     "output_type": "execute_result"
    }
   ],
   "source": [
    "configs"
   ]
  },
  {
   "cell_type": "markdown",
   "id": "6e07de91-4677-4f89-9e32-5500c855aec6",
   "metadata": {},
   "source": [
    "**NOTE**: The following is done **automatically by the multi-run method below** before it actually executes the first config."
   ]
  },
  {
   "cell_type": "code",
   "execution_count": 9,
   "id": "1cb34c7f-50c3-4477-aa4e-e7d1f2b335fa",
   "metadata": {},
   "outputs": [],
   "source": [
    "for config in configs:\n",
    "    config.validate()"
   ]
  },
  {
   "cell_type": "markdown",
   "id": "23306964-7159-4675-8bc3-51a3233180f3",
   "metadata": {},
   "source": [
    "## Run!"
   ]
  },
  {
   "cell_type": "code",
   "execution_count": 10,
   "id": "dfdb13ba-76e6-479e-b348-91699234bf4d",
   "metadata": {},
   "outputs": [
    {
     "name": "stdout",
     "output_type": "stream",
     "text": [
      "total 112\n",
      "-rw-r--r--  1 kabu  staff    13K Apr  6 18:33 Example1_Run-Multiple-Intent-Experiments.ipynb\n",
      "-rw-r--r--  1 kabu  staff    26K Apr  6 18:20 Example3_Collect-Results.ipynb\n",
      "-rw-r--r--  1 kabu  staff     0B Mar 31 19:21 __init__.py\n",
      "-rw-r--r--  1 kabu  staff   2.3K Apr  4 14:59 blub.csv\n",
      "-rw-r--r--  1 kabu  staff   213B Mar 31 17:41 config1.yml\n",
      "-rw-r--r--  1 kabu  staff   176B Apr  1 14:33 config2.yml\n",
      "drwxr-xr-x  3 kabu  staff    96B Apr  5 13:56 \u001b[34mtest2\u001b[m\u001b[m\n",
      "drwxr-xr-x  3 kabu  staff    96B Apr  6 10:53 \u001b[34mtest3\u001b[m\u001b[m\n"
     ]
    }
   ],
   "source": [
    "!ls -lh ./"
   ]
  },
  {
   "cell_type": "code",
   "execution_count": 11,
   "id": "a24156c2-18ad-4825-b9b0-a142a4d5d141",
   "metadata": {},
   "outputs": [
    {
     "name": "stderr",
     "output_type": "stream",
     "text": [
      "100%|████████████████████████████████████████████████████████████████████████████████████████████████████████████████████████████████████████████████████████████████████████████████████████████████████████| 8/8 [07:40<00:00, 57.61s/it]\n"
     ]
    }
   ],
   "source": [
    "base_experiment.multirun(\n",
    "    experiment_module = exp_0_stratify_intents,\n",
    "    configs=configs, \n",
    "    out_dir='./test', \n",
    "    capture=True) # capture=True captures all stdout/stderr output"
   ]
  },
  {
   "cell_type": "markdown",
   "id": "0b5e40cb-1292-4f60-89fe-4bfb464d64f2",
   "metadata": {},
   "source": [
    "## Inspect Output Folder"
   ]
  },
  {
   "cell_type": "code",
   "execution_count": 12,
   "id": "4cb8a5eb-0529-4217-a259-32952f386dde",
   "metadata": {},
   "outputs": [],
   "source": [
    "experiment_folder = \"./test/exp_0_stratify_intents__examples-rules-nlu/\""
   ]
  },
  {
   "cell_type": "code",
   "execution_count": 13,
   "id": "7c448f5a-ebc8-4ff2-8808-e5a5392e09ae",
   "metadata": {},
   "outputs": [
    {
     "name": "stdout",
     "output_type": "stream",
     "text": [
      "total 0\n",
      "drwxr-xr-x  8 kabu  staff   256B Apr  6 18:39 \u001b[34mmodel:another-very-interesting-config-because-reasons,data:examples-rules-nlu,drop:2,exclude:0.0,test:0.2,test_seed:42,exclusion_seed:1__2022-04-06_18-39-34\u001b[m\u001b[m\n",
      "drwxr-xr-x  8 kabu  staff   256B Apr  6 18:40 \u001b[34mmodel:another-very-interesting-config-because-reasons,data:examples-rules-nlu,drop:2,exclude:0.0,test:0.2,test_seed:42,exclusion_seed:2__2022-04-06_18-40-31\u001b[m\u001b[m\n",
      "drwxr-xr-x  8 kabu  staff   256B Apr  6 18:41 \u001b[34mmodel:another-very-interesting-config-because-reasons,data:examples-rules-nlu,drop:2,exclude:0.0,test:0.2,test_seed:42,exclusion_seed:3__2022-04-06_18-41-26\u001b[m\u001b[m\n",
      "drwxr-xr-x  8 kabu  staff   256B Apr  6 18:42 \u001b[34mmodel:another-very-interesting-config-because-reasons,data:examples-rules-nlu,drop:2,exclude:0.0,test:0.2,test_seed:42,exclusion_seed:4__2022-04-06_18-42-26\u001b[m\u001b[m\n",
      "drwxr-xr-x  8 kabu  staff   256B Apr  6 18:36 \u001b[34mmodel:interesting-config-name1,data:examples-rules-nlu,drop:2,exclude:0.0,test:0.2,test_seed:42,exclusion_seed:1__2022-04-06_18-35-42\u001b[m\u001b[m\n",
      "drwxr-xr-x  8 kabu  staff   256B Apr  6 18:37 \u001b[34mmodel:interesting-config-name1,data:examples-rules-nlu,drop:2,exclude:0.0,test:0.2,test_seed:42,exclusion_seed:2__2022-04-06_18-36-42\u001b[m\u001b[m\n",
      "drwxr-xr-x  8 kabu  staff   256B Apr  6 18:38 \u001b[34mmodel:interesting-config-name1,data:examples-rules-nlu,drop:2,exclude:0.0,test:0.2,test_seed:42,exclusion_seed:3__2022-04-06_18-37-41\u001b[m\u001b[m\n",
      "drwxr-xr-x  8 kabu  staff   256B Apr  6 18:39 \u001b[34mmodel:interesting-config-name1,data:examples-rules-nlu,drop:2,exclude:0.0,test:0.2,test_seed:42,exclusion_seed:4__2022-04-06_18-38-38\u001b[m\u001b[m\n"
     ]
    }
   ],
   "source": [
    "!ls -lh {experiment_folder}"
   ]
  },
  {
   "cell_type": "code",
   "execution_count": 14,
   "id": "ed57bf39-ac2d-44c5-a45d-2b5d59b9d1e1",
   "metadata": {},
   "outputs": [],
   "source": [
    "import glob\n",
    "example = list(glob.glob(experiment_folder + \"*\"))[0]"
   ]
  },
  {
   "cell_type": "code",
   "execution_count": 15,
   "id": "2b2f9ed3-ed9f-46de-a771-82ff20846c8b",
   "metadata": {},
   "outputs": [
    {
     "data": {
      "text/plain": [
       "'./test/exp_0_stratify_intents__examples-rules-nlu/model:another-very-interesting-config-because-reasons,data:examples-rules-nlu,drop:2,exclude:0.0,test:0.2,test_seed:42,exclusion_seed:3__2022-04-06_18-41-26'"
      ]
     },
     "execution_count": 15,
     "metadata": {},
     "output_type": "execute_result"
    }
   ],
   "source": [
    "example"
   ]
  },
  {
   "cell_type": "code",
   "execution_count": 16,
   "id": "597474b0-ce3a-473e-8edc-3741fafefcf5",
   "metadata": {},
   "outputs": [
    {
     "name": "stdout",
     "output_type": "stream",
     "text": [
      "total 8\n",
      "drwxr-xr-x   8 kabu  staff   256B Apr  6 18:41 \u001b[34m.\u001b[m\u001b[m\n",
      "drwxr-xr-x  10 kabu  staff   320B Apr  6 18:42 \u001b[34m..\u001b[m\u001b[m\n",
      "drwxr-xr-x   5 kabu  staff   160B Apr  6 18:41 \u001b[34m.hydra\u001b[m\u001b[m\n",
      "drwxr-xr-x   3 kabu  staff    96B Apr  6 18:41 \u001b[34m.rasa\u001b[m\u001b[m\n",
      "-rw-r--r--   1 kabu  staff   3.6K Apr  6 18:42 base_experiment.log\n",
      "drwxr-xr-x   4 kabu  staff   128B Apr  6 18:41 \u001b[34mdata\u001b[m\u001b[m\n",
      "drwxr-xr-x   3 kabu  staff    96B Apr  6 18:41 \u001b[34mmodel\u001b[m\u001b[m\n",
      "drwxr-xr-x   7 kabu  staff   224B Apr  6 18:42 \u001b[34mreport\u001b[m\u001b[m\n"
     ]
    }
   ],
   "source": [
    "!ls -lha {example}"
   ]
  },
  {
   "cell_type": "code",
   "execution_count": 17,
   "id": "81d17168-54bf-4797-9d21-4f5d96c9f936",
   "metadata": {},
   "outputs": [
    {
     "name": "stdout",
     "output_type": "stream",
     "text": [
      "head: ./test/exp_0_stratify_intents__examples-rules-nlu/model:another-very-interesting-config-because-reasons,data:examples-rules-nlu,drop:2,exclude:0.0,test:0.2,test_seed:42,exclusion_seed:3__2022-04-06_18-41-26/intent_experiment.log: No such file or directory\n"
     ]
    }
   ],
   "source": [
    "!head -n 5 {example}/intent_experiment.log"
   ]
  },
  {
   "cell_type": "code",
   "execution_count": 18,
   "id": "a6bd2e29-e694-40f5-9f38-bb6785111679",
   "metadata": {},
   "outputs": [
    {
     "name": "stdout",
     "output_type": "stream",
     "text": [
      "tail: ./test/exp_0_stratify_intents__examples-rules-nlu/model:another-very-interesting-config-because-reasons,data:examples-rules-nlu,drop:2,exclude:0.0,test:0.2,test_seed:42,exclusion_seed:3__2022-04-06_18-41-26/intent_experiment.log: No such file or directory\n"
     ]
    }
   ],
   "source": [
    "!tail -n 5 {example}/intent_experiment.log"
   ]
  },
  {
   "cell_type": "code",
   "execution_count": 19,
   "id": "c5405f33-712b-4906-94aa-ac07dcf6857d",
   "metadata": {},
   "outputs": [
    {
     "name": "stdout",
     "output_type": "stream",
     "text": [
      "model:\n",
      "  name: another-very-interesting-config-because-reasons\n",
      "  config_path: ./config1.yml\n",
      "data:\n",
      "  name: examples-rules-nlu\n",
      "  domain_path: ../../examples/rules/domain.yml\n",
      "  data_path: ../../examples/rules/data/nlu.yml\n",
      "clear_rasa_cache: true\n",
      "remove_data_for_intents_with_num_examples_leq: 2\n",
      "train_exclusion_fraction: 0.0\n",
      "exclusion_seed: 3\n",
      "test_fraction: 0.2\n",
      "test_seed: 42\n"
     ]
    }
   ],
   "source": [
    "!cat {example}/.hydra/config.yaml"
   ]
  },
  {
   "cell_type": "code",
   "execution_count": 20,
   "id": "1fafb30d-78e7-48b9-8092-23c774ccdb02",
   "metadata": {},
   "outputs": [
    {
     "name": "stdout",
     "output_type": "stream",
     "text": [
      "hydra:\n",
      "  run:\n",
      "    dir: ./test/exp_0_stratify_intents__${data.name}/model:${model.name},data:${data.name},drop:${remove_data_for_intents_with_num_examples_leq},exclude:${train_exclusion_fraction},test:${test_fraction},test_seed:${test_seed},exclusion_seed:${exclusion_seed}__${now:%Y-%m-%d_%H-%M-%S}\n",
      "  sweep:\n",
      "    dir: multirun/${now:%Y-%m-%d}/${now:%H-%M-%S}\n",
      "...\n"
     ]
    }
   ],
   "source": [
    "!head -n 5 {example}/.hydra/hydra.yaml\n",
    "!echo '...'"
   ]
  },
  {
   "cell_type": "code",
   "execution_count": 21,
   "id": "3fbe3db3-8f54-463f-bcda-7f7429da161f",
   "metadata": {},
   "outputs": [
    {
     "name": "stdout",
     "output_type": "stream",
     "text": [
      "intent_confusion_matrix.png  intent_report.json\n",
      "intent_errors.json           training_metadata__times.csv\n",
      "intent_histogram.png\n"
     ]
    }
   ],
   "source": [
    "!ls {example}/report/"
   ]
  },
  {
   "cell_type": "code",
   "execution_count": 22,
   "id": "0caf160d-6053-473e-92f7-c3d964ffd17c",
   "metadata": {},
   "outputs": [
    {
     "name": "stdout",
     "output_type": "stream",
     "text": [
      "name,start_time,duration(min),duration(sec)\n",
      "train_LexicalSyntacticFeaturizer1,2022-04-06 18:41:27,0.0003,0.01753997802734375\n",
      "train_CountVectorsFeaturizer2,2022-04-06 18:41:27,0.0002,0.011030912399291992\n",
      "train_DIETClassifier3,2022-04-06 18:41:27,0.3724,22.342730045318604\n"
     ]
    }
   ],
   "source": [
    "!cat {example}/report/training_metadata__times.csv"
   ]
  },
  {
   "cell_type": "markdown",
   "id": "eb3ca458-a145-4bf9-a4a0-27f4959fe97d",
   "metadata": {},
   "source": [
    "## Collect Results"
   ]
  },
  {
   "cell_type": "code",
   "execution_count": 23,
   "id": "5d25fa1a-824f-4490-8a8a-3c66e9523ef0",
   "metadata": {},
   "outputs": [],
   "source": [
    "from leaderboard.nlu import evaluation"
   ]
  },
  {
   "cell_type": "code",
   "execution_count": 24,
   "id": "84e82710-5ac5-4c2a-97e9-3a152fb217bc",
   "metadata": {},
   "outputs": [],
   "source": [
    "df_full = evaluation.results2df(experiment_folder)"
   ]
  },
  {
   "cell_type": "code",
   "execution_count": 25,
   "id": "458e5f8b-775a-43f1-9a49-04ba162cbe8f",
   "metadata": {},
   "outputs": [
    {
     "data": {
      "text/html": [
       "<div>\n",
       "<style scoped>\n",
       "    .dataframe tbody tr th:only-of-type {\n",
       "        vertical-align: middle;\n",
       "    }\n",
       "\n",
       "    .dataframe tbody tr th {\n",
       "        vertical-align: top;\n",
       "    }\n",
       "\n",
       "    .dataframe thead tr th {\n",
       "        text-align: left;\n",
       "    }\n",
       "</style>\n",
       "<table border=\"1\" class=\"dataframe\">\n",
       "  <thead>\n",
       "    <tr>\n",
       "      <th></th>\n",
       "      <th colspan=\"3\" halign=\"left\">exp</th>\n",
       "      <th colspan=\"7\" halign=\"left\">param</th>\n",
       "      <th>...</th>\n",
       "      <th>train_DIETClassifier3</th>\n",
       "      <th colspan=\"3\" halign=\"left\">train_CountVectorsFeaturizer1</th>\n",
       "      <th colspan=\"3\" halign=\"left\">train_DIETClassifier2</th>\n",
       "      <th>train_non_classifiers</th>\n",
       "      <th>train_all_classifiers</th>\n",
       "      <th>train_all</th>\n",
       "    </tr>\n",
       "    <tr>\n",
       "      <th></th>\n",
       "      <th>timestamp</th>\n",
       "      <th>script</th>\n",
       "      <th>data</th>\n",
       "      <th>data</th>\n",
       "      <th>model</th>\n",
       "      <th>drop</th>\n",
       "      <th>exclude</th>\n",
       "      <th>test</th>\n",
       "      <th>test_seed</th>\n",
       "      <th>exclusion_seed</th>\n",
       "      <th>...</th>\n",
       "      <th>duration(sec)</th>\n",
       "      <th>start_time</th>\n",
       "      <th>duration(min)</th>\n",
       "      <th>duration(sec)</th>\n",
       "      <th>start_time</th>\n",
       "      <th>duration(min)</th>\n",
       "      <th>duration(sec)</th>\n",
       "      <th></th>\n",
       "      <th></th>\n",
       "      <th></th>\n",
       "    </tr>\n",
       "  </thead>\n",
       "  <tbody>\n",
       "    <tr>\n",
       "      <th>0</th>\n",
       "      <td>2022-04-06_18-41-26</td>\n",
       "      <td>exp_0_stratify_intents</td>\n",
       "      <td>examples-rules-nlu</td>\n",
       "      <td>examples-rules-nlu</td>\n",
       "      <td>another-very-interesting-config-because-reasons</td>\n",
       "      <td>2</td>\n",
       "      <td>0.0</td>\n",
       "      <td>0.2</td>\n",
       "      <td>42</td>\n",
       "      <td>3</td>\n",
       "      <td>...</td>\n",
       "      <td>22.34273</td>\n",
       "      <td>NaN</td>\n",
       "      <td>NaN</td>\n",
       "      <td>NaN</td>\n",
       "      <td>NaN</td>\n",
       "      <td>NaN</td>\n",
       "      <td>NaN</td>\n",
       "      <td>0.028571</td>\n",
       "      <td>22.342730</td>\n",
       "      <td>22.371301</td>\n",
       "    </tr>\n",
       "    <tr>\n",
       "      <th>0</th>\n",
       "      <td>2022-04-06_18-37-41</td>\n",
       "      <td>exp_0_stratify_intents</td>\n",
       "      <td>examples-rules-nlu</td>\n",
       "      <td>examples-rules-nlu</td>\n",
       "      <td>interesting-config-name1</td>\n",
       "      <td>2</td>\n",
       "      <td>0.0</td>\n",
       "      <td>0.2</td>\n",
       "      <td>42</td>\n",
       "      <td>3</td>\n",
       "      <td>...</td>\n",
       "      <td>NaN</td>\n",
       "      <td>2022-04-06 18:37:42</td>\n",
       "      <td>0.0002</td>\n",
       "      <td>0.014598</td>\n",
       "      <td>2022-04-06 18:37:42</td>\n",
       "      <td>0.3912</td>\n",
       "      <td>23.470532</td>\n",
       "      <td>0.014598</td>\n",
       "      <td>23.470532</td>\n",
       "      <td>23.485130</td>\n",
       "    </tr>\n",
       "    <tr>\n",
       "      <th>0</th>\n",
       "      <td>2022-04-06_18-39-34</td>\n",
       "      <td>exp_0_stratify_intents</td>\n",
       "      <td>examples-rules-nlu</td>\n",
       "      <td>examples-rules-nlu</td>\n",
       "      <td>another-very-interesting-config-because-reasons</td>\n",
       "      <td>2</td>\n",
       "      <td>0.0</td>\n",
       "      <td>0.2</td>\n",
       "      <td>42</td>\n",
       "      <td>1</td>\n",
       "      <td>...</td>\n",
       "      <td>21.363526</td>\n",
       "      <td>NaN</td>\n",
       "      <td>NaN</td>\n",
       "      <td>NaN</td>\n",
       "      <td>NaN</td>\n",
       "      <td>NaN</td>\n",
       "      <td>NaN</td>\n",
       "      <td>0.028668</td>\n",
       "      <td>21.363526</td>\n",
       "      <td>21.392194</td>\n",
       "    </tr>\n",
       "    <tr>\n",
       "      <th>0</th>\n",
       "      <td>2022-04-06_18-42-26</td>\n",
       "      <td>exp_0_stratify_intents</td>\n",
       "      <td>examples-rules-nlu</td>\n",
       "      <td>examples-rules-nlu</td>\n",
       "      <td>another-very-interesting-config-because-reasons</td>\n",
       "      <td>2</td>\n",
       "      <td>0.0</td>\n",
       "      <td>0.2</td>\n",
       "      <td>42</td>\n",
       "      <td>4</td>\n",
       "      <td>...</td>\n",
       "      <td>22.395966</td>\n",
       "      <td>NaN</td>\n",
       "      <td>NaN</td>\n",
       "      <td>NaN</td>\n",
       "      <td>NaN</td>\n",
       "      <td>NaN</td>\n",
       "      <td>NaN</td>\n",
       "      <td>0.030770</td>\n",
       "      <td>22.395966</td>\n",
       "      <td>22.426736</td>\n",
       "    </tr>\n",
       "    <tr>\n",
       "      <th>0</th>\n",
       "      <td>2022-04-06_18-38-38</td>\n",
       "      <td>exp_0_stratify_intents</td>\n",
       "      <td>examples-rules-nlu</td>\n",
       "      <td>examples-rules-nlu</td>\n",
       "      <td>interesting-config-name1</td>\n",
       "      <td>2</td>\n",
       "      <td>0.0</td>\n",
       "      <td>0.2</td>\n",
       "      <td>42</td>\n",
       "      <td>4</td>\n",
       "      <td>...</td>\n",
       "      <td>NaN</td>\n",
       "      <td>2022-04-06 18:38:39</td>\n",
       "      <td>0.0002</td>\n",
       "      <td>0.013756</td>\n",
       "      <td>2022-04-06 18:38:39</td>\n",
       "      <td>0.3615</td>\n",
       "      <td>21.688685</td>\n",
       "      <td>0.013756</td>\n",
       "      <td>21.688685</td>\n",
       "      <td>21.702441</td>\n",
       "    </tr>\n",
       "    <tr>\n",
       "      <th>0</th>\n",
       "      <td>2022-04-06_18-40-31</td>\n",
       "      <td>exp_0_stratify_intents</td>\n",
       "      <td>examples-rules-nlu</td>\n",
       "      <td>examples-rules-nlu</td>\n",
       "      <td>another-very-interesting-config-because-reasons</td>\n",
       "      <td>2</td>\n",
       "      <td>0.0</td>\n",
       "      <td>0.2</td>\n",
       "      <td>42</td>\n",
       "      <td>2</td>\n",
       "      <td>...</td>\n",
       "      <td>22.117867</td>\n",
       "      <td>NaN</td>\n",
       "      <td>NaN</td>\n",
       "      <td>NaN</td>\n",
       "      <td>NaN</td>\n",
       "      <td>NaN</td>\n",
       "      <td>NaN</td>\n",
       "      <td>0.028736</td>\n",
       "      <td>22.117867</td>\n",
       "      <td>22.146603</td>\n",
       "    </tr>\n",
       "    <tr>\n",
       "      <th>0</th>\n",
       "      <td>2022-04-06_18-35-42</td>\n",
       "      <td>exp_0_stratify_intents</td>\n",
       "      <td>examples-rules-nlu</td>\n",
       "      <td>examples-rules-nlu</td>\n",
       "      <td>interesting-config-name1</td>\n",
       "      <td>2</td>\n",
       "      <td>0.0</td>\n",
       "      <td>0.2</td>\n",
       "      <td>42</td>\n",
       "      <td>1</td>\n",
       "      <td>...</td>\n",
       "      <td>NaN</td>\n",
       "      <td>2022-04-06 18:35:43</td>\n",
       "      <td>0.0002</td>\n",
       "      <td>0.014277</td>\n",
       "      <td>2022-04-06 18:35:43</td>\n",
       "      <td>0.398</td>\n",
       "      <td>23.877724</td>\n",
       "      <td>0.014277</td>\n",
       "      <td>23.877724</td>\n",
       "      <td>23.892001</td>\n",
       "    </tr>\n",
       "    <tr>\n",
       "      <th>0</th>\n",
       "      <td>2022-04-06_18-36-42</td>\n",
       "      <td>exp_0_stratify_intents</td>\n",
       "      <td>examples-rules-nlu</td>\n",
       "      <td>examples-rules-nlu</td>\n",
       "      <td>interesting-config-name1</td>\n",
       "      <td>2</td>\n",
       "      <td>0.0</td>\n",
       "      <td>0.2</td>\n",
       "      <td>42</td>\n",
       "      <td>2</td>\n",
       "      <td>...</td>\n",
       "      <td>NaN</td>\n",
       "      <td>2022-04-06 18:36:43</td>\n",
       "      <td>0.0002</td>\n",
       "      <td>0.013569</td>\n",
       "      <td>2022-04-06 18:36:43</td>\n",
       "      <td>0.3853</td>\n",
       "      <td>23.119352</td>\n",
       "      <td>0.013569</td>\n",
       "      <td>23.119352</td>\n",
       "      <td>23.132921</td>\n",
       "    </tr>\n",
       "  </tbody>\n",
       "</table>\n",
       "<p>8 rows × 86 columns</p>\n",
       "</div>"
      ],
      "text/plain": [
       "                   exp                                              \\\n",
       "             timestamp                  script                data   \n",
       "0  2022-04-06_18-41-26  exp_0_stratify_intents  examples-rules-nlu   \n",
       "0  2022-04-06_18-37-41  exp_0_stratify_intents  examples-rules-nlu   \n",
       "0  2022-04-06_18-39-34  exp_0_stratify_intents  examples-rules-nlu   \n",
       "0  2022-04-06_18-42-26  exp_0_stratify_intents  examples-rules-nlu   \n",
       "0  2022-04-06_18-38-38  exp_0_stratify_intents  examples-rules-nlu   \n",
       "0  2022-04-06_18-40-31  exp_0_stratify_intents  examples-rules-nlu   \n",
       "0  2022-04-06_18-35-42  exp_0_stratify_intents  examples-rules-nlu   \n",
       "0  2022-04-06_18-36-42  exp_0_stratify_intents  examples-rules-nlu   \n",
       "\n",
       "                param                                                        \\\n",
       "                 data                                            model drop   \n",
       "0  examples-rules-nlu  another-very-interesting-config-because-reasons    2   \n",
       "0  examples-rules-nlu                         interesting-config-name1    2   \n",
       "0  examples-rules-nlu  another-very-interesting-config-because-reasons    2   \n",
       "0  examples-rules-nlu  another-very-interesting-config-because-reasons    2   \n",
       "0  examples-rules-nlu                         interesting-config-name1    2   \n",
       "0  examples-rules-nlu  another-very-interesting-config-because-reasons    2   \n",
       "0  examples-rules-nlu                         interesting-config-name1    2   \n",
       "0  examples-rules-nlu                         interesting-config-name1    2   \n",
       "\n",
       "                                         ... train_DIETClassifier3  \\\n",
       "  exclude test test_seed exclusion_seed  ...         duration(sec)   \n",
       "0     0.0  0.2        42              3  ...              22.34273   \n",
       "0     0.0  0.2        42              3  ...                   NaN   \n",
       "0     0.0  0.2        42              1  ...             21.363526   \n",
       "0     0.0  0.2        42              4  ...             22.395966   \n",
       "0     0.0  0.2        42              4  ...                   NaN   \n",
       "0     0.0  0.2        42              2  ...             22.117867   \n",
       "0     0.0  0.2        42              1  ...                   NaN   \n",
       "0     0.0  0.2        42              2  ...                   NaN   \n",
       "\n",
       "  train_CountVectorsFeaturizer1                              \\\n",
       "                     start_time duration(min) duration(sec)   \n",
       "0                           NaN           NaN           NaN   \n",
       "0           2022-04-06 18:37:42        0.0002      0.014598   \n",
       "0                           NaN           NaN           NaN   \n",
       "0                           NaN           NaN           NaN   \n",
       "0           2022-04-06 18:38:39        0.0002      0.013756   \n",
       "0                           NaN           NaN           NaN   \n",
       "0           2022-04-06 18:35:43        0.0002      0.014277   \n",
       "0           2022-04-06 18:36:43        0.0002      0.013569   \n",
       "\n",
       "  train_DIETClassifier2                             train_non_classifiers  \\\n",
       "             start_time duration(min) duration(sec)                         \n",
       "0                   NaN           NaN           NaN              0.028571   \n",
       "0   2022-04-06 18:37:42        0.3912     23.470532              0.014598   \n",
       "0                   NaN           NaN           NaN              0.028668   \n",
       "0                   NaN           NaN           NaN              0.030770   \n",
       "0   2022-04-06 18:38:39        0.3615     21.688685              0.013756   \n",
       "0                   NaN           NaN           NaN              0.028736   \n",
       "0   2022-04-06 18:35:43         0.398     23.877724              0.014277   \n",
       "0   2022-04-06 18:36:43        0.3853     23.119352              0.013569   \n",
       "\n",
       "  train_all_classifiers  train_all  \n",
       "                                    \n",
       "0             22.342730  22.371301  \n",
       "0             23.470532  23.485130  \n",
       "0             21.363526  21.392194  \n",
       "0             22.395966  22.426736  \n",
       "0             21.688685  21.702441  \n",
       "0             22.117867  22.146603  \n",
       "0             23.877724  23.892001  \n",
       "0             23.119352  23.132921  \n",
       "\n",
       "[8 rows x 86 columns]"
      ]
     },
     "execution_count": 25,
     "metadata": {},
     "output_type": "execute_result"
    }
   ],
   "source": [
    "df_full"
   ]
  },
  {
   "cell_type": "code",
   "execution_count": null,
   "id": "441a2861-606d-4aaa-a92e-5198de0441af",
   "metadata": {},
   "outputs": [],
   "source": []
  }
 ],
 "metadata": {
  "kernelspec": {
   "display_name": "Python 3 (ipykernel)",
   "language": "python",
   "name": "python3"
  },
  "language_info": {
   "codemirror_mode": {
    "name": "ipython",
    "version": 3
   },
   "file_extension": ".py",
   "mimetype": "text/x-python",
   "name": "python",
   "nbconvert_exporter": "python",
   "pygments_lexer": "ipython3",
   "version": "3.8.12"
  }
 },
 "nbformat": 4,
 "nbformat_minor": 5
}
