{
 "cells": [
  {
   "cell_type": "markdown",
   "id": "c4fc03a9-e2ed-4a47-a9aa-cc168e676d66",
   "metadata": {},
   "source": [
    "# Demo: Run Multiple Intent Experiments"
   ]
  },
  {
   "cell_type": "code",
   "execution_count": 1,
   "id": "50608989-6f97-4ee1-a1a5-ded20736bf95",
   "metadata": {},
   "outputs": [],
   "source": [
    "!rm -rf ./test"
   ]
  },
  {
   "cell_type": "code",
   "execution_count": 2,
   "id": "92599402-ca60-417b-b562-2711395e76c3",
   "metadata": {},
   "outputs": [],
   "source": [
    "%%capture\n",
    "from leaderboard.utils import experiment\n",
    "from leaderboard.nlu import exp_0_stratify_intents\n",
    "import copy"
   ]
  },
  {
   "cell_type": "markdown",
   "id": "43d01e02-a6e4-4203-88f6-24edb75ca410",
   "metadata": {},
   "source": [
    "## Create Configurations Programmatically"
   ]
  },
  {
   "cell_type": "code",
   "execution_count": 3,
   "id": "c2415fda-8e36-463c-87b0-fc16abd8b0f2",
   "metadata": {},
   "outputs": [],
   "source": [
    "base_config = exp_0_stratify_intents.Config(\n",
    "    train_exclusion_fraction=0.,\n",
    "    remove_data_for_intents_with_num_examples_below=2,\n",
    "    data=experiment.DataConfig(\n",
    "        name=\"examples-rules-nlu\",\n",
    "        data_path=\"../../examples/rules/data/nlu.yml\",\n",
    "    ),\n",
    "    model=experiment.ModelConfig(),\n",
    "    clear_rasa_cache=True,\n",
    ")"
   ]
  },
  {
   "cell_type": "code",
   "execution_count": 4,
   "id": "88953a7e-b36b-46e6-b248-eb08a6982449",
   "metadata": {},
   "outputs": [],
   "source": [
    "model_variations = {\n",
    "    \"interesting-config-name1\" : \"./config2.yml\" ,\n",
    "    \"another-very-interesting-config-because-reasons\" : \"./config1.yml\" ,\n",
    "}\n",
    "model_variations = [ {(\"model\",\"name\") : key, (\"model\", \"config_path\") : value} for key, value in model_variations.items() ]"
   ]
  },
  {
   "cell_type": "code",
   "execution_count": 5,
   "id": "0c57b9cb-1b0a-43f7-96a3-b4762f1f0285",
   "metadata": {},
   "outputs": [
    {
     "data": {
      "text/plain": [
       "[{('model', 'name'): 'interesting-config-name1',\n",
       "  ('model', 'config_path'): './config2.yml'},\n",
       " {('model', 'name'): 'another-very-interesting-config-because-reasons',\n",
       "  ('model', 'config_path'): './config1.yml'}]"
      ]
     },
     "execution_count": 5,
     "metadata": {},
     "output_type": "execute_result"
    }
   ],
   "source": [
    "model_variations"
   ]
  },
  {
   "cell_type": "code",
   "execution_count": 6,
   "id": "47c4015e-1311-4347-be01-5f7ae5f331a1",
   "metadata": {},
   "outputs": [],
   "source": [
    "seed_variations = [ {('exclusion_seed',) : seed} for seed in [1,2,3,4] ]"
   ]
  },
  {
   "cell_type": "code",
   "execution_count": 7,
   "id": "c1278e10-a5e7-4a22-be97-239c24f09898",
   "metadata": {},
   "outputs": [],
   "source": [
    "configs = experiment.create_variations([base_config], model_variations)\n",
    "configs = experiment.create_variations(configs, seed_variations)"
   ]
  },
  {
   "cell_type": "code",
   "execution_count": 8,
   "id": "4ef405d1-0dcf-4d0e-9d38-d23f8e21bf1b",
   "metadata": {},
   "outputs": [
    {
     "data": {
      "text/plain": [
       "[Config(script='/Users/kabu/Documents/workspace/rasa2/leaderboard/nlu/exp_0_stratify_intents.py', model=ModelConfig(name='interesting-config-name1', config_path='./config2.yml'), data=DataConfig(name='examples-rules-nlu', data_path='../../examples/rules/data/nlu.yml'), clear_rasa_cache=True, remove_data_for_intents_with_num_examples_below=2, train_exclusion_fraction=0.0, exclusion_seed=1, test_fraction=0.2, test_seed=42),\n",
       " Config(script='/Users/kabu/Documents/workspace/rasa2/leaderboard/nlu/exp_0_stratify_intents.py', model=ModelConfig(name='interesting-config-name1', config_path='./config2.yml'), data=DataConfig(name='examples-rules-nlu', data_path='../../examples/rules/data/nlu.yml'), clear_rasa_cache=True, remove_data_for_intents_with_num_examples_below=2, train_exclusion_fraction=0.0, exclusion_seed=2, test_fraction=0.2, test_seed=42),\n",
       " Config(script='/Users/kabu/Documents/workspace/rasa2/leaderboard/nlu/exp_0_stratify_intents.py', model=ModelConfig(name='interesting-config-name1', config_path='./config2.yml'), data=DataConfig(name='examples-rules-nlu', data_path='../../examples/rules/data/nlu.yml'), clear_rasa_cache=True, remove_data_for_intents_with_num_examples_below=2, train_exclusion_fraction=0.0, exclusion_seed=3, test_fraction=0.2, test_seed=42),\n",
       " Config(script='/Users/kabu/Documents/workspace/rasa2/leaderboard/nlu/exp_0_stratify_intents.py', model=ModelConfig(name='interesting-config-name1', config_path='./config2.yml'), data=DataConfig(name='examples-rules-nlu', data_path='../../examples/rules/data/nlu.yml'), clear_rasa_cache=True, remove_data_for_intents_with_num_examples_below=2, train_exclusion_fraction=0.0, exclusion_seed=4, test_fraction=0.2, test_seed=42),\n",
       " Config(script='/Users/kabu/Documents/workspace/rasa2/leaderboard/nlu/exp_0_stratify_intents.py', model=ModelConfig(name='another-very-interesting-config-because-reasons', config_path='./config1.yml'), data=DataConfig(name='examples-rules-nlu', data_path='../../examples/rules/data/nlu.yml'), clear_rasa_cache=True, remove_data_for_intents_with_num_examples_below=2, train_exclusion_fraction=0.0, exclusion_seed=1, test_fraction=0.2, test_seed=42),\n",
       " Config(script='/Users/kabu/Documents/workspace/rasa2/leaderboard/nlu/exp_0_stratify_intents.py', model=ModelConfig(name='another-very-interesting-config-because-reasons', config_path='./config1.yml'), data=DataConfig(name='examples-rules-nlu', data_path='../../examples/rules/data/nlu.yml'), clear_rasa_cache=True, remove_data_for_intents_with_num_examples_below=2, train_exclusion_fraction=0.0, exclusion_seed=2, test_fraction=0.2, test_seed=42),\n",
       " Config(script='/Users/kabu/Documents/workspace/rasa2/leaderboard/nlu/exp_0_stratify_intents.py', model=ModelConfig(name='another-very-interesting-config-because-reasons', config_path='./config1.yml'), data=DataConfig(name='examples-rules-nlu', data_path='../../examples/rules/data/nlu.yml'), clear_rasa_cache=True, remove_data_for_intents_with_num_examples_below=2, train_exclusion_fraction=0.0, exclusion_seed=3, test_fraction=0.2, test_seed=42),\n",
       " Config(script='/Users/kabu/Documents/workspace/rasa2/leaderboard/nlu/exp_0_stratify_intents.py', model=ModelConfig(name='another-very-interesting-config-because-reasons', config_path='./config1.yml'), data=DataConfig(name='examples-rules-nlu', data_path='../../examples/rules/data/nlu.yml'), clear_rasa_cache=True, remove_data_for_intents_with_num_examples_below=2, train_exclusion_fraction=0.0, exclusion_seed=4, test_fraction=0.2, test_seed=42)]"
      ]
     },
     "execution_count": 8,
     "metadata": {},
     "output_type": "execute_result"
    }
   ],
   "source": [
    "configs"
   ]
  },
  {
   "cell_type": "markdown",
   "id": "6e07de91-4677-4f89-9e32-5500c855aec6",
   "metadata": {},
   "source": [
    "**NOTE**: The following is done **automatically by the multi-run method below** before it actually executes the first config."
   ]
  },
  {
   "cell_type": "code",
   "execution_count": 9,
   "id": "1cb34c7f-50c3-4477-aa4e-e7d1f2b335fa",
   "metadata": {},
   "outputs": [],
   "source": [
    "for config in configs:\n",
    "    config.validate_no_missing()\n",
    "    config.validate()"
   ]
  },
  {
   "cell_type": "markdown",
   "id": "23306964-7159-4675-8bc3-51a3233180f3",
   "metadata": {},
   "source": [
    "## Run!"
   ]
  },
  {
   "cell_type": "code",
   "execution_count": 10,
   "id": "dfdb13ba-76e6-479e-b348-91699234bf4d",
   "metadata": {},
   "outputs": [
    {
     "name": "stdout",
     "output_type": "stream",
     "text": [
      "total 160\n",
      "-rw-r--r--  1 kabu  staff    26K Apr  6 18:20 Example3_Collect-Results.ipynb\n",
      "-rw-r--r--  1 kabu  staff    39K Apr  7 17:05 Run-Multiple-Intent-Experiments.ipynb\n",
      "-rw-r--r--  1 kabu  staff     0B Mar 31 19:21 __init__.py\n",
      "-rw-r--r--  1 kabu  staff   2.3K Apr  4 14:59 blub.csv\n",
      "-rw-r--r--  1 kabu  staff   213B Mar 31 17:41 config1.yml\n",
      "-rw-r--r--  1 kabu  staff   176B Apr  1 14:33 config2.yml\n",
      "drwxr-xr-x  3 kabu  staff    96B Apr  5 13:56 \u001b[34mtest2\u001b[m\u001b[m\n",
      "drwxr-xr-x  3 kabu  staff    96B Apr  6 10:53 \u001b[34mtest3\u001b[m\u001b[m\n"
     ]
    }
   ],
   "source": [
    "!ls -lh ./"
   ]
  },
  {
   "cell_type": "code",
   "execution_count": 11,
   "id": "a24156c2-18ad-4825-b9b0-a142a4d5d141",
   "metadata": {},
   "outputs": [
    {
     "name": "stderr",
     "output_type": "stream",
     "text": [
      "100%|████████████████████████████████████████████████████████████████████████████████████████████████████████████████████████████████████████████████████████████████████████████████████████████████████████| 8/8 [08:09<00:00, 61.22s/it]\n"
     ]
    }
   ],
   "source": [
    "experiment.multirun(\n",
    "    experiment_module = exp_0_stratify_intents,\n",
    "    configs=configs, \n",
    "    out_dir='./test', \n",
    "    capture=True) # capture=True captures all stdout/stderr output"
   ]
  },
  {
   "cell_type": "markdown",
   "id": "0b5e40cb-1292-4f60-89fe-4bfb464d64f2",
   "metadata": {},
   "source": [
    "## Inspect Output Folder"
   ]
  },
  {
   "cell_type": "code",
   "execution_count": 12,
   "id": "4cb8a5eb-0529-4217-a259-32952f386dde",
   "metadata": {},
   "outputs": [],
   "source": [
    "experiment_folder = \"./test/exp_0_stratify_intents__examples-rules-nlu/\""
   ]
  },
  {
   "cell_type": "code",
   "execution_count": 13,
   "id": "7c448f5a-ebc8-4ff2-8808-e5a5392e09ae",
   "metadata": {},
   "outputs": [
    {
     "name": "stdout",
     "output_type": "stream",
     "text": [
      "total 0\n",
      "drwxr-xr-x  7 kabu  staff   224B Apr  7 17:10 \u001b[34mmodel:another-very-interesting-config-because-reasons,data:examples-rules-nlu,drop:2,exclude:0.0,test:0.2,test_seed:42,exclusion_seed:1__2022-04-07_17-09-28\u001b[m\u001b[m\n",
      "drwxr-xr-x  7 kabu  staff   224B Apr  7 17:11 \u001b[34mmodel:another-very-interesting-config-because-reasons,data:examples-rules-nlu,drop:2,exclude:0.0,test:0.2,test_seed:42,exclusion_seed:2__2022-04-07_17-10-30\u001b[m\u001b[m\n",
      "drwxr-xr-x  7 kabu  staff   224B Apr  7 17:12 \u001b[34mmodel:another-very-interesting-config-because-reasons,data:examples-rules-nlu,drop:2,exclude:0.0,test:0.2,test_seed:42,exclusion_seed:3__2022-04-07_17-11-30\u001b[m\u001b[m\n",
      "drwxr-xr-x  7 kabu  staff   224B Apr  7 17:13 \u001b[34mmodel:another-very-interesting-config-because-reasons,data:examples-rules-nlu,drop:2,exclude:0.0,test:0.2,test_seed:42,exclusion_seed:4__2022-04-07_17-12-30\u001b[m\u001b[m\n",
      "drwxr-xr-x  7 kabu  staff   224B Apr  7 17:06 \u001b[34mmodel:interesting-config-name1,data:examples-rules-nlu,drop:2,exclude:0.0,test:0.2,test_seed:42,exclusion_seed:1__2022-04-07_17-05-22\u001b[m\u001b[m\n",
      "drwxr-xr-x  7 kabu  staff   224B Apr  7 17:07 \u001b[34mmodel:interesting-config-name1,data:examples-rules-nlu,drop:2,exclude:0.0,test:0.2,test_seed:42,exclusion_seed:2__2022-04-07_17-06-25\u001b[m\u001b[m\n",
      "drwxr-xr-x  7 kabu  staff   224B Apr  7 17:08 \u001b[34mmodel:interesting-config-name1,data:examples-rules-nlu,drop:2,exclude:0.0,test:0.2,test_seed:42,exclusion_seed:3__2022-04-07_17-07-29\u001b[m\u001b[m\n",
      "drwxr-xr-x  7 kabu  staff   224B Apr  7 17:09 \u001b[34mmodel:interesting-config-name1,data:examples-rules-nlu,drop:2,exclude:0.0,test:0.2,test_seed:42,exclusion_seed:4__2022-04-07_17-08-29\u001b[m\u001b[m\n"
     ]
    }
   ],
   "source": [
    "!ls -lh {experiment_folder}"
   ]
  },
  {
   "cell_type": "code",
   "execution_count": 14,
   "id": "ed57bf39-ac2d-44c5-a45d-2b5d59b9d1e1",
   "metadata": {},
   "outputs": [],
   "source": [
    "import glob\n",
    "example = list(glob.glob(experiment_folder + \"*\"))[0]"
   ]
  },
  {
   "cell_type": "code",
   "execution_count": 15,
   "id": "2b2f9ed3-ed9f-46de-a771-82ff20846c8b",
   "metadata": {},
   "outputs": [
    {
     "data": {
      "text/plain": [
       "'./test/exp_0_stratify_intents__examples-rules-nlu/model:another-very-interesting-config-because-reasons,data:examples-rules-nlu,drop:2,exclude:0.0,test:0.2,test_seed:42,exclusion_seed:4__2022-04-07_17-12-30'"
      ]
     },
     "execution_count": 15,
     "metadata": {},
     "output_type": "execute_result"
    }
   ],
   "source": [
    "example"
   ]
  },
  {
   "cell_type": "code",
   "execution_count": 16,
   "id": "597474b0-ce3a-473e-8edc-3741fafefcf5",
   "metadata": {},
   "outputs": [
    {
     "name": "stdout",
     "output_type": "stream",
     "text": [
      "total 8\n",
      "drwxr-xr-x   7 kabu  staff   224B Apr  7 17:13 \u001b[34m.\u001b[m\u001b[m\n",
      "drwxr-xr-x  10 kabu  staff   320B Apr  7 17:12 \u001b[34m..\u001b[m\u001b[m\n",
      "drwxr-xr-x   5 kabu  staff   160B Apr  7 17:12 \u001b[34m.hydra\u001b[m\u001b[m\n",
      "drwxr-xr-x   4 kabu  staff   128B Apr  7 17:12 \u001b[34mdata\u001b[m\u001b[m\n",
      "-rw-r--r--   1 kabu  staff   2.7K Apr  7 17:13 experiment.log\n",
      "drwxr-xr-x   4 kabu  staff   128B Apr  7 17:12 \u001b[34mmodel\u001b[m\u001b[m\n",
      "drwxr-xr-x   8 kabu  staff   256B Apr  7 17:13 \u001b[34mreport\u001b[m\u001b[m\n"
     ]
    }
   ],
   "source": [
    "!ls -lha {example}"
   ]
  },
  {
   "cell_type": "code",
   "execution_count": 17,
   "id": "95812689-629b-48fc-bd37-fe4bfeb8a897",
   "metadata": {},
   "outputs": [
    {
     "name": "stdout",
     "output_type": "stream",
     "text": [
      "ls: ./test/exp_0_stratify_intents__examples-rules-nlu/model:another-very-interesting-config-because-reasons,data:examples-rules-nlu,drop:2,exclude:0.0,test:0.2,test_seed:42,exclusion_seed:4__2022-04-07_17-12-30/.rasa: No such file or directory\n"
     ]
    }
   ],
   "source": [
    "!ls -lha {example}/.rasa"
   ]
  },
  {
   "cell_type": "code",
   "execution_count": 18,
   "id": "81d17168-54bf-4797-9d21-4f5d96c9f936",
   "metadata": {},
   "outputs": [
    {
     "name": "stdout",
     "output_type": "stream",
     "text": [
      "head: ./test/exp_0_stratify_intents__examples-rules-nlu/model:another-very-interesting-config-because-reasons,data:examples-rules-nlu,drop:2,exclude:0.0,test:0.2,test_seed:42,exclusion_seed:4__2022-04-07_17-12-30/intent_experiment.log: No such file or directory\n"
     ]
    }
   ],
   "source": [
    "!head -n 5 {example}/intent_experiment.log"
   ]
  },
  {
   "cell_type": "code",
   "execution_count": 19,
   "id": "a6bd2e29-e694-40f5-9f38-bb6785111679",
   "metadata": {},
   "outputs": [
    {
     "name": "stdout",
     "output_type": "stream",
     "text": [
      "tail: ./test/exp_0_stratify_intents__examples-rules-nlu/model:another-very-interesting-config-because-reasons,data:examples-rules-nlu,drop:2,exclude:0.0,test:0.2,test_seed:42,exclusion_seed:4__2022-04-07_17-12-30/intent_experiment.log: No such file or directory\n"
     ]
    }
   ],
   "source": [
    "!tail -n 5 {example}/intent_experiment.log"
   ]
  },
  {
   "cell_type": "code",
   "execution_count": 20,
   "id": "c5405f33-712b-4906-94aa-ac07dcf6857d",
   "metadata": {},
   "outputs": [
    {
     "name": "stdout",
     "output_type": "stream",
     "text": [
      "script: /Users/kabu/Documents/workspace/rasa2/leaderboard/nlu/exp_0_stratify_intents.py\n",
      "model:\n",
      "  name: another-very-interesting-config-because-reasons\n",
      "  config_path: ./config1.yml\n",
      "data:\n",
      "  name: examples-rules-nlu\n",
      "  data_path: ../../examples/rules/data/nlu.yml\n",
      "clear_rasa_cache: true\n",
      "remove_data_for_intents_with_num_examples_below: 2\n",
      "train_exclusion_fraction: 0.0\n",
      "exclusion_seed: 4\n",
      "test_fraction: 0.2\n",
      "test_seed: 42\n"
     ]
    }
   ],
   "source": [
    "!cat {example}/.hydra/config.yaml"
   ]
  },
  {
   "cell_type": "code",
   "execution_count": 21,
   "id": "1fafb30d-78e7-48b9-8092-23c774ccdb02",
   "metadata": {},
   "outputs": [
    {
     "name": "stdout",
     "output_type": "stream",
     "text": [
      "hydra:\n",
      "  run:\n",
      "    dir: ./test/exp_0_stratify_intents__${data.name}/model:${model.name},data:${data.name},drop:${remove_data_for_intents_with_num_examples_below},exclude:${train_exclusion_fraction},test:${test_fraction},test_seed:${test_seed},exclusion_seed:${exclusion_seed}__${now:%Y-%m-%d_%H-%M-%S}\n",
      "  sweep:\n",
      "    dir: multirun/${now:%Y-%m-%d}/${now:%H-%M-%S}\n",
      "...\n"
     ]
    }
   ],
   "source": [
    "!head -n 5 {example}/.hydra/hydra.yaml\n",
    "!echo '...'"
   ]
  },
  {
   "cell_type": "code",
   "execution_count": 22,
   "id": "3fbe3db3-8f54-463f-bcda-7f7429da161f",
   "metadata": {},
   "outputs": [
    {
     "name": "stdout",
     "output_type": "stream",
     "text": [
      "intent_confusion_matrix.png  intent_report.json\n",
      "intent_errors.json           stats.csv\n",
      "intent_histogram.png         training_metadata__times.csv\n"
     ]
    }
   ],
   "source": [
    "!ls {example}/report/"
   ]
  },
  {
   "cell_type": "code",
   "execution_count": 23,
   "id": "0caf160d-6053-473e-92f7-c3d964ffd17c",
   "metadata": {},
   "outputs": [
    {
     "name": "stdout",
     "output_type": "stream",
     "text": [
      "name,start_time,duration(min),duration(sec)\n",
      "train_LexicalSyntacticFeaturizer1,2022-04-07 17:12:31,0.0003,0.019145965576171875\n",
      "train_CountVectorsFeaturizer2,2022-04-07 17:12:31,0.0002,0.012251138687133789\n",
      "train_DIETClassifier3,2022-04-07 17:12:32,0.3983,23.89854907989502\n"
     ]
    }
   ],
   "source": [
    "!cat {example}/report/training_metadata__times.csv"
   ]
  },
  {
   "cell_type": "markdown",
   "id": "eb3ca458-a145-4bf9-a4a0-27f4959fe97d",
   "metadata": {},
   "source": [
    "## Collect Results"
   ]
  },
  {
   "cell_type": "code",
   "execution_count": 24,
   "id": "5d25fa1a-824f-4490-8a8a-3c66e9523ef0",
   "metadata": {},
   "outputs": [],
   "source": [
    "from leaderboard.nlu import evaluation"
   ]
  },
  {
   "cell_type": "code",
   "execution_count": 25,
   "id": "06ab2cc2-9fb5-4607-958e-f32c4e5c0de0",
   "metadata": {},
   "outputs": [
    {
     "data": {
      "text/plain": [
       "<module 'leaderboard.nlu.evaluation' from '/Users/kabu/Documents/workspace/rasa2/leaderboard/nlu/evaluation.py'>"
      ]
     },
     "execution_count": 25,
     "metadata": {},
     "output_type": "execute_result"
    }
   ],
   "source": [
    "import importlib\n",
    "importlib.reload(evaluation)"
   ]
  },
  {
   "cell_type": "code",
   "execution_count": 26,
   "id": "84e82710-5ac5-4c2a-97e9-3a152fb217bc",
   "metadata": {},
   "outputs": [],
   "source": [
    "df_full = evaluation.results2df(experiment_folder)"
   ]
  },
  {
   "cell_type": "code",
   "execution_count": 27,
   "id": "458e5f8b-775a-43f1-9a49-04ba162cbe8f",
   "metadata": {},
   "outputs": [
    {
     "data": {
      "text/html": [
       "<div>\n",
       "<style scoped>\n",
       "    .dataframe tbody tr th:only-of-type {\n",
       "        vertical-align: middle;\n",
       "    }\n",
       "\n",
       "    .dataframe tbody tr th {\n",
       "        vertical-align: top;\n",
       "    }\n",
       "\n",
       "    .dataframe thead tr th {\n",
       "        text-align: left;\n",
       "    }\n",
       "</style>\n",
       "<table border=\"1\" class=\"dataframe\">\n",
       "  <thead>\n",
       "    <tr>\n",
       "      <th></th>\n",
       "      <th colspan=\"3\" halign=\"left\">exp</th>\n",
       "      <th>intent_accuracy</th>\n",
       "      <th colspan=\"5\" halign=\"left\">intent_affirm</th>\n",
       "      <th>intent_bot_challenge</th>\n",
       "      <th>...</th>\n",
       "      <th colspan=\"3\" halign=\"left\">train_LexicalSyntacticFeaturizer1</th>\n",
       "      <th>train_all</th>\n",
       "      <th>train_all_classifiers</th>\n",
       "      <th>train_non_classifiers</th>\n",
       "      <th colspan=\"4\" halign=\"left\">weighted avg</th>\n",
       "    </tr>\n",
       "    <tr>\n",
       "      <th></th>\n",
       "      <th>data</th>\n",
       "      <th>script</th>\n",
       "      <th>timestamp</th>\n",
       "      <th>-</th>\n",
       "      <th>confused_with</th>\n",
       "      <th>f1-score</th>\n",
       "      <th>precision</th>\n",
       "      <th>recall</th>\n",
       "      <th>support</th>\n",
       "      <th>confused_with</th>\n",
       "      <th>...</th>\n",
       "      <th>duration(min)</th>\n",
       "      <th>duration(sec)</th>\n",
       "      <th>start_time</th>\n",
       "      <th></th>\n",
       "      <th></th>\n",
       "      <th></th>\n",
       "      <th>f1-score</th>\n",
       "      <th>precision</th>\n",
       "      <th>recall</th>\n",
       "      <th>support</th>\n",
       "    </tr>\n",
       "  </thead>\n",
       "  <tbody>\n",
       "    <tr>\n",
       "      <th>0</th>\n",
       "      <td>examples-rules-nlu</td>\n",
       "      <td>exp_0_stratify_intents</td>\n",
       "      <td>2022-04-07_17-12-30</td>\n",
       "      <td>0.172414</td>\n",
       "      <td>{'stop': 2, 'thankyou': 1}</td>\n",
       "      <td>0.0</td>\n",
       "      <td>0.0</td>\n",
       "      <td>0.0</td>\n",
       "      <td>3</td>\n",
       "      <td>{'greet': 1}</td>\n",
       "      <td>...</td>\n",
       "      <td>0.0003</td>\n",
       "      <td>0.019146</td>\n",
       "      <td>2022-04-07 17:12:31</td>\n",
       "      <td>23.929946</td>\n",
       "      <td>23.898549</td>\n",
       "      <td>0.031397</td>\n",
       "      <td>0.175122</td>\n",
       "      <td>0.311864</td>\n",
       "      <td>0.172414</td>\n",
       "      <td>58.0</td>\n",
       "    </tr>\n",
       "    <tr>\n",
       "      <th>1</th>\n",
       "      <td>examples-rules-nlu</td>\n",
       "      <td>exp_0_stratify_intents</td>\n",
       "      <td>2022-04-07_17-07-29</td>\n",
       "      <td>0.224138</td>\n",
       "      <td>{'deny': 3}</td>\n",
       "      <td>0.0</td>\n",
       "      <td>0.0</td>\n",
       "      <td>0.0</td>\n",
       "      <td>3</td>\n",
       "      <td>{'inform': 1}</td>\n",
       "      <td>...</td>\n",
       "      <td>NaN</td>\n",
       "      <td>NaN</td>\n",
       "      <td>NaN</td>\n",
       "      <td>23.858839</td>\n",
       "      <td>23.844899</td>\n",
       "      <td>0.013940</td>\n",
       "      <td>0.184182</td>\n",
       "      <td>0.285441</td>\n",
       "      <td>0.224138</td>\n",
       "      <td>58.0</td>\n",
       "    </tr>\n",
       "    <tr>\n",
       "      <th>2</th>\n",
       "      <td>examples-rules-nlu</td>\n",
       "      <td>exp_0_stratify_intents</td>\n",
       "      <td>2022-04-07_17-10-30</td>\n",
       "      <td>0.224138</td>\n",
       "      <td>{'inform': 2, 'request_restaurant': 1}</td>\n",
       "      <td>0.0</td>\n",
       "      <td>0.0</td>\n",
       "      <td>0.0</td>\n",
       "      <td>3</td>\n",
       "      <td>{'inform': 1}</td>\n",
       "      <td>...</td>\n",
       "      <td>0.0003</td>\n",
       "      <td>0.01866</td>\n",
       "      <td>2022-04-07 17:10:31</td>\n",
       "      <td>23.943153</td>\n",
       "      <td>23.912267</td>\n",
       "      <td>0.030886</td>\n",
       "      <td>0.236453</td>\n",
       "      <td>0.310345</td>\n",
       "      <td>0.224138</td>\n",
       "      <td>58.0</td>\n",
       "    </tr>\n",
       "    <tr>\n",
       "      <th>3</th>\n",
       "      <td>examples-rules-nlu</td>\n",
       "      <td>exp_0_stratify_intents</td>\n",
       "      <td>2022-04-07_17-11-30</td>\n",
       "      <td>0.275862</td>\n",
       "      <td>{'inform': 2, 'thankyou': 1}</td>\n",
       "      <td>0.0</td>\n",
       "      <td>0.0</td>\n",
       "      <td>0.0</td>\n",
       "      <td>3</td>\n",
       "      <td>{'affirm': 1}</td>\n",
       "      <td>...</td>\n",
       "      <td>0.0003</td>\n",
       "      <td>0.018544</td>\n",
       "      <td>2022-04-07 17:11:31</td>\n",
       "      <td>23.765447</td>\n",
       "      <td>23.734897</td>\n",
       "      <td>0.030550</td>\n",
       "      <td>0.321073</td>\n",
       "      <td>0.469436</td>\n",
       "      <td>0.275862</td>\n",
       "      <td>58.0</td>\n",
       "    </tr>\n",
       "    <tr>\n",
       "      <th>4</th>\n",
       "      <td>examples-rules-nlu</td>\n",
       "      <td>exp_0_stratify_intents</td>\n",
       "      <td>2022-04-07_17-09-28</td>\n",
       "      <td>0.172414</td>\n",
       "      <td>{'thankyou': 2}</td>\n",
       "      <td>0.222222</td>\n",
       "      <td>0.166667</td>\n",
       "      <td>0.333333</td>\n",
       "      <td>3</td>\n",
       "      <td>{'chitchat': 1}</td>\n",
       "      <td>...</td>\n",
       "      <td>0.0003</td>\n",
       "      <td>0.018332</td>\n",
       "      <td>2022-04-07 17:09:29</td>\n",
       "      <td>23.812527</td>\n",
       "      <td>23.782410</td>\n",
       "      <td>0.030117</td>\n",
       "      <td>0.165745</td>\n",
       "      <td>0.40546</td>\n",
       "      <td>0.172414</td>\n",
       "      <td>58.0</td>\n",
       "    </tr>\n",
       "    <tr>\n",
       "      <th>5</th>\n",
       "      <td>examples-rules-nlu</td>\n",
       "      <td>exp_0_stratify_intents</td>\n",
       "      <td>2022-04-07_17-08-29</td>\n",
       "      <td>0.12069</td>\n",
       "      <td>{'thankyou': 1, 'stop': 1, 'chitchat': 1}</td>\n",
       "      <td>0.0</td>\n",
       "      <td>0.0</td>\n",
       "      <td>0.0</td>\n",
       "      <td>3</td>\n",
       "      <td>{'deny': 1}</td>\n",
       "      <td>...</td>\n",
       "      <td>NaN</td>\n",
       "      <td>NaN</td>\n",
       "      <td>NaN</td>\n",
       "      <td>23.466298</td>\n",
       "      <td>23.452626</td>\n",
       "      <td>0.013672</td>\n",
       "      <td>0.145544</td>\n",
       "      <td>0.253421</td>\n",
       "      <td>0.12069</td>\n",
       "      <td>58.0</td>\n",
       "    </tr>\n",
       "    <tr>\n",
       "      <th>6</th>\n",
       "      <td>examples-rules-nlu</td>\n",
       "      <td>exp_0_stratify_intents</td>\n",
       "      <td>2022-04-07_17-06-25</td>\n",
       "      <td>0.37931</td>\n",
       "      <td>{'stop': 1, 'chitchat': 1}</td>\n",
       "      <td>0.4</td>\n",
       "      <td>0.5</td>\n",
       "      <td>0.333333</td>\n",
       "      <td>3</td>\n",
       "      <td>{'inform': 1}</td>\n",
       "      <td>...</td>\n",
       "      <td>NaN</td>\n",
       "      <td>NaN</td>\n",
       "      <td>NaN</td>\n",
       "      <td>25.004739</td>\n",
       "      <td>24.991541</td>\n",
       "      <td>0.013198</td>\n",
       "      <td>0.380638</td>\n",
       "      <td>0.386761</td>\n",
       "      <td>0.37931</td>\n",
       "      <td>58.0</td>\n",
       "    </tr>\n",
       "    <tr>\n",
       "      <th>7</th>\n",
       "      <td>examples-rules-nlu</td>\n",
       "      <td>exp_0_stratify_intents</td>\n",
       "      <td>2022-04-07_17-05-22</td>\n",
       "      <td>0.137931</td>\n",
       "      <td>{'greet': 1, 'chitchat': 1}</td>\n",
       "      <td>0.1</td>\n",
       "      <td>0.058824</td>\n",
       "      <td>0.333333</td>\n",
       "      <td>3</td>\n",
       "      <td>{'greet': 1}</td>\n",
       "      <td>...</td>\n",
       "      <td>NaN</td>\n",
       "      <td>NaN</td>\n",
       "      <td>NaN</td>\n",
       "      <td>24.632722</td>\n",
       "      <td>24.619096</td>\n",
       "      <td>0.013626</td>\n",
       "      <td>0.146758</td>\n",
       "      <td>0.295284</td>\n",
       "      <td>0.137931</td>\n",
       "      <td>58.0</td>\n",
       "    </tr>\n",
       "  </tbody>\n",
       "</table>\n",
       "<p>8 rows × 88 columns</p>\n",
       "</div>"
      ],
      "text/plain": [
       "                  exp                                               \\\n",
       "                 data                  script            timestamp   \n",
       "0  examples-rules-nlu  exp_0_stratify_intents  2022-04-07_17-12-30   \n",
       "1  examples-rules-nlu  exp_0_stratify_intents  2022-04-07_17-07-29   \n",
       "2  examples-rules-nlu  exp_0_stratify_intents  2022-04-07_17-10-30   \n",
       "3  examples-rules-nlu  exp_0_stratify_intents  2022-04-07_17-11-30   \n",
       "4  examples-rules-nlu  exp_0_stratify_intents  2022-04-07_17-09-28   \n",
       "5  examples-rules-nlu  exp_0_stratify_intents  2022-04-07_17-08-29   \n",
       "6  examples-rules-nlu  exp_0_stratify_intents  2022-04-07_17-06-25   \n",
       "7  examples-rules-nlu  exp_0_stratify_intents  2022-04-07_17-05-22   \n",
       "\n",
       "  intent_accuracy                              intent_affirm            \\\n",
       "                -                              confused_with  f1-score   \n",
       "0        0.172414                 {'stop': 2, 'thankyou': 1}       0.0   \n",
       "1        0.224138                                {'deny': 3}       0.0   \n",
       "2        0.224138     {'inform': 2, 'request_restaurant': 1}       0.0   \n",
       "3        0.275862               {'inform': 2, 'thankyou': 1}       0.0   \n",
       "4        0.172414                            {'thankyou': 2}  0.222222   \n",
       "5         0.12069  {'thankyou': 1, 'stop': 1, 'chitchat': 1}       0.0   \n",
       "6         0.37931                 {'stop': 1, 'chitchat': 1}       0.4   \n",
       "7        0.137931                {'greet': 1, 'chitchat': 1}       0.1   \n",
       "\n",
       "                              intent_bot_challenge  ...  \\\n",
       "  precision    recall support        confused_with  ...   \n",
       "0       0.0       0.0       3         {'greet': 1}  ...   \n",
       "1       0.0       0.0       3        {'inform': 1}  ...   \n",
       "2       0.0       0.0       3        {'inform': 1}  ...   \n",
       "3       0.0       0.0       3        {'affirm': 1}  ...   \n",
       "4  0.166667  0.333333       3      {'chitchat': 1}  ...   \n",
       "5       0.0       0.0       3          {'deny': 1}  ...   \n",
       "6       0.5  0.333333       3        {'inform': 1}  ...   \n",
       "7  0.058824  0.333333       3         {'greet': 1}  ...   \n",
       "\n",
       "  train_LexicalSyntacticFeaturizer1                                     \\\n",
       "                      duration(min) duration(sec)           start_time   \n",
       "0                            0.0003      0.019146  2022-04-07 17:12:31   \n",
       "1                               NaN           NaN                  NaN   \n",
       "2                            0.0003       0.01866  2022-04-07 17:10:31   \n",
       "3                            0.0003      0.018544  2022-04-07 17:11:31   \n",
       "4                            0.0003      0.018332  2022-04-07 17:09:29   \n",
       "5                               NaN           NaN                  NaN   \n",
       "6                               NaN           NaN                  NaN   \n",
       "7                               NaN           NaN                  NaN   \n",
       "\n",
       "   train_all train_all_classifiers train_non_classifiers weighted avg  \\\n",
       "                                                             f1-score   \n",
       "0  23.929946             23.898549              0.031397     0.175122   \n",
       "1  23.858839             23.844899              0.013940     0.184182   \n",
       "2  23.943153             23.912267              0.030886     0.236453   \n",
       "3  23.765447             23.734897              0.030550     0.321073   \n",
       "4  23.812527             23.782410              0.030117     0.165745   \n",
       "5  23.466298             23.452626              0.013672     0.145544   \n",
       "6  25.004739             24.991541              0.013198     0.380638   \n",
       "7  24.632722             24.619096              0.013626     0.146758   \n",
       "\n",
       "                               \n",
       "  precision    recall support  \n",
       "0  0.311864  0.172414    58.0  \n",
       "1  0.285441  0.224138    58.0  \n",
       "2  0.310345  0.224138    58.0  \n",
       "3  0.469436  0.275862    58.0  \n",
       "4   0.40546  0.172414    58.0  \n",
       "5  0.253421   0.12069    58.0  \n",
       "6  0.386761   0.37931    58.0  \n",
       "7  0.295284  0.137931    58.0  \n",
       "\n",
       "[8 rows x 88 columns]"
      ]
     },
     "execution_count": 27,
     "metadata": {},
     "output_type": "execute_result"
    }
   ],
   "source": [
    "df_full.drop(columns=[\"data\"])"
   ]
  },
  {
   "cell_type": "code",
   "execution_count": 28,
   "id": "5d3f5db9-bee3-4a1c-a020-53f820a83138",
   "metadata": {},
   "outputs": [
    {
     "data": {
      "text/html": [
       "<div>\n",
       "<style scoped>\n",
       "    .dataframe tbody tr th:only-of-type {\n",
       "        vertical-align: middle;\n",
       "    }\n",
       "\n",
       "    .dataframe tbody tr th {\n",
       "        vertical-align: top;\n",
       "    }\n",
       "\n",
       "    .dataframe thead th {\n",
       "        text-align: right;\n",
       "    }\n",
       "</style>\n",
       "<table border=\"1\" class=\"dataframe\">\n",
       "  <thead>\n",
       "    <tr style=\"text-align: right;\">\n",
       "      <th></th>\n",
       "      <th>confused_with</th>\n",
       "      <th>f1-score</th>\n",
       "      <th>precision</th>\n",
       "      <th>recall</th>\n",
       "      <th>support</th>\n",
       "    </tr>\n",
       "  </thead>\n",
       "  <tbody>\n",
       "    <tr>\n",
       "      <th>0</th>\n",
       "      <td>{'request_restaurant': 10, 'greet': 3}</td>\n",
       "      <td>0.294118</td>\n",
       "      <td>0.625</td>\n",
       "      <td>0.192308</td>\n",
       "      <td>26</td>\n",
       "    </tr>\n",
       "    <tr>\n",
       "      <th>1</th>\n",
       "      <td>{'request_restaurant': 8, 'deny': 7, 'greet': 4}</td>\n",
       "      <td>0.129032</td>\n",
       "      <td>0.4</td>\n",
       "      <td>0.076923</td>\n",
       "      <td>26</td>\n",
       "    </tr>\n",
       "    <tr>\n",
       "      <th>2</th>\n",
       "      <td>{'request_restaurant': 9, 'affirm': 4}</td>\n",
       "      <td>0.461538</td>\n",
       "      <td>0.461538</td>\n",
       "      <td>0.461538</td>\n",
       "      <td>26</td>\n",
       "    </tr>\n",
       "    <tr>\n",
       "      <th>3</th>\n",
       "      <td>{'deny': 5, 'bot_challenge': 4}</td>\n",
       "      <td>0.564103</td>\n",
       "      <td>0.846154</td>\n",
       "      <td>0.423077</td>\n",
       "      <td>26</td>\n",
       "    </tr>\n",
       "    <tr>\n",
       "      <th>4</th>\n",
       "      <td>{'thankyou': 10, 'stop': 5, 'request_restauran...</td>\n",
       "      <td>0.193548</td>\n",
       "      <td>0.6</td>\n",
       "      <td>0.115385</td>\n",
       "      <td>26</td>\n",
       "    </tr>\n",
       "    <tr>\n",
       "      <th>5</th>\n",
       "      <td>{'request_restaurant': 7, 'deny': 7, 'thankyou...</td>\n",
       "      <td>0.181818</td>\n",
       "      <td>0.428571</td>\n",
       "      <td>0.115385</td>\n",
       "      <td>26</td>\n",
       "    </tr>\n",
       "    <tr>\n",
       "      <th>6</th>\n",
       "      <td>{'greet': 3, 'request_restaurant': 2}</td>\n",
       "      <td>0.705882</td>\n",
       "      <td>0.72</td>\n",
       "      <td>0.692308</td>\n",
       "      <td>26</td>\n",
       "    </tr>\n",
       "    <tr>\n",
       "      <th>7</th>\n",
       "      <td>{'request_restaurant': 8, 'affirm': 6, 'deny': 4}</td>\n",
       "      <td>0.129032</td>\n",
       "      <td>0.4</td>\n",
       "      <td>0.076923</td>\n",
       "      <td>26</td>\n",
       "    </tr>\n",
       "  </tbody>\n",
       "</table>\n",
       "</div>"
      ],
      "text/plain": [
       "                                       confused_with  f1-score precision  \\\n",
       "0             {'request_restaurant': 10, 'greet': 3}  0.294118     0.625   \n",
       "1   {'request_restaurant': 8, 'deny': 7, 'greet': 4}  0.129032       0.4   \n",
       "2             {'request_restaurant': 9, 'affirm': 4}  0.461538  0.461538   \n",
       "3                    {'deny': 5, 'bot_challenge': 4}  0.564103  0.846154   \n",
       "4  {'thankyou': 10, 'stop': 5, 'request_restauran...  0.193548       0.6   \n",
       "5  {'request_restaurant': 7, 'deny': 7, 'thankyou...  0.181818  0.428571   \n",
       "6              {'greet': 3, 'request_restaurant': 2}  0.705882      0.72   \n",
       "7  {'request_restaurant': 8, 'affirm': 6, 'deny': 4}  0.129032       0.4   \n",
       "\n",
       "     recall support  \n",
       "0  0.192308      26  \n",
       "1  0.076923      26  \n",
       "2  0.461538      26  \n",
       "3  0.423077      26  \n",
       "4  0.115385      26  \n",
       "5  0.115385      26  \n",
       "6  0.692308      26  \n",
       "7  0.076923      26  "
      ]
     },
     "execution_count": 28,
     "metadata": {},
     "output_type": "execute_result"
    }
   ],
   "source": [
    "df_full[\"intent_inform\"]"
   ]
  },
  {
   "cell_type": "code",
   "execution_count": 29,
   "id": "81e806d8-13f0-4041-82cc-9c0bd7117edb",
   "metadata": {},
   "outputs": [
    {
     "data": {
      "text/html": [
       "<div>\n",
       "<style scoped>\n",
       "    .dataframe tbody tr th:only-of-type {\n",
       "        vertical-align: middle;\n",
       "    }\n",
       "\n",
       "    .dataframe tbody tr th {\n",
       "        vertical-align: top;\n",
       "    }\n",
       "\n",
       "    .dataframe thead th {\n",
       "        text-align: right;\n",
       "    }\n",
       "</style>\n",
       "<table border=\"1\" class=\"dataframe\">\n",
       "  <thead>\n",
       "    <tr style=\"text-align: right;\">\n",
       "      <th></th>\n",
       "      <th>clear_rasa_cache</th>\n",
       "      <th>exclusion_seed</th>\n",
       "      <th>remove_data_for_intents_with_num_examples_below</th>\n",
       "      <th>script</th>\n",
       "      <th>test_fraction</th>\n",
       "      <th>test_seed</th>\n",
       "      <th>train_exclusion_fraction</th>\n",
       "    </tr>\n",
       "  </thead>\n",
       "  <tbody>\n",
       "    <tr>\n",
       "      <th>0</th>\n",
       "      <td>True</td>\n",
       "      <td>4</td>\n",
       "      <td>2</td>\n",
       "      <td>/Users/kabu/Documents/workspace/rasa2/leaderbo...</td>\n",
       "      <td>0.2</td>\n",
       "      <td>42</td>\n",
       "      <td>0.0</td>\n",
       "    </tr>\n",
       "    <tr>\n",
       "      <th>1</th>\n",
       "      <td>True</td>\n",
       "      <td>3</td>\n",
       "      <td>2</td>\n",
       "      <td>/Users/kabu/Documents/workspace/rasa2/leaderbo...</td>\n",
       "      <td>0.2</td>\n",
       "      <td>42</td>\n",
       "      <td>0.0</td>\n",
       "    </tr>\n",
       "    <tr>\n",
       "      <th>2</th>\n",
       "      <td>True</td>\n",
       "      <td>2</td>\n",
       "      <td>2</td>\n",
       "      <td>/Users/kabu/Documents/workspace/rasa2/leaderbo...</td>\n",
       "      <td>0.2</td>\n",
       "      <td>42</td>\n",
       "      <td>0.0</td>\n",
       "    </tr>\n",
       "    <tr>\n",
       "      <th>3</th>\n",
       "      <td>True</td>\n",
       "      <td>3</td>\n",
       "      <td>2</td>\n",
       "      <td>/Users/kabu/Documents/workspace/rasa2/leaderbo...</td>\n",
       "      <td>0.2</td>\n",
       "      <td>42</td>\n",
       "      <td>0.0</td>\n",
       "    </tr>\n",
       "    <tr>\n",
       "      <th>4</th>\n",
       "      <td>True</td>\n",
       "      <td>1</td>\n",
       "      <td>2</td>\n",
       "      <td>/Users/kabu/Documents/workspace/rasa2/leaderbo...</td>\n",
       "      <td>0.2</td>\n",
       "      <td>42</td>\n",
       "      <td>0.0</td>\n",
       "    </tr>\n",
       "    <tr>\n",
       "      <th>5</th>\n",
       "      <td>True</td>\n",
       "      <td>4</td>\n",
       "      <td>2</td>\n",
       "      <td>/Users/kabu/Documents/workspace/rasa2/leaderbo...</td>\n",
       "      <td>0.2</td>\n",
       "      <td>42</td>\n",
       "      <td>0.0</td>\n",
       "    </tr>\n",
       "    <tr>\n",
       "      <th>6</th>\n",
       "      <td>True</td>\n",
       "      <td>2</td>\n",
       "      <td>2</td>\n",
       "      <td>/Users/kabu/Documents/workspace/rasa2/leaderbo...</td>\n",
       "      <td>0.2</td>\n",
       "      <td>42</td>\n",
       "      <td>0.0</td>\n",
       "    </tr>\n",
       "    <tr>\n",
       "      <th>7</th>\n",
       "      <td>True</td>\n",
       "      <td>1</td>\n",
       "      <td>2</td>\n",
       "      <td>/Users/kabu/Documents/workspace/rasa2/leaderbo...</td>\n",
       "      <td>0.2</td>\n",
       "      <td>42</td>\n",
       "      <td>0.0</td>\n",
       "    </tr>\n",
       "  </tbody>\n",
       "</table>\n",
       "</div>"
      ],
      "text/plain": [
       "  clear_rasa_cache exclusion_seed  \\\n",
       "0             True              4   \n",
       "1             True              3   \n",
       "2             True              2   \n",
       "3             True              3   \n",
       "4             True              1   \n",
       "5             True              4   \n",
       "6             True              2   \n",
       "7             True              1   \n",
       "\n",
       "  remove_data_for_intents_with_num_examples_below  \\\n",
       "0                                               2   \n",
       "1                                               2   \n",
       "2                                               2   \n",
       "3                                               2   \n",
       "4                                               2   \n",
       "5                                               2   \n",
       "6                                               2   \n",
       "7                                               2   \n",
       "\n",
       "                                              script test_fraction test_seed  \\\n",
       "0  /Users/kabu/Documents/workspace/rasa2/leaderbo...           0.2        42   \n",
       "1  /Users/kabu/Documents/workspace/rasa2/leaderbo...           0.2        42   \n",
       "2  /Users/kabu/Documents/workspace/rasa2/leaderbo...           0.2        42   \n",
       "3  /Users/kabu/Documents/workspace/rasa2/leaderbo...           0.2        42   \n",
       "4  /Users/kabu/Documents/workspace/rasa2/leaderbo...           0.2        42   \n",
       "5  /Users/kabu/Documents/workspace/rasa2/leaderbo...           0.2        42   \n",
       "6  /Users/kabu/Documents/workspace/rasa2/leaderbo...           0.2        42   \n",
       "7  /Users/kabu/Documents/workspace/rasa2/leaderbo...           0.2        42   \n",
       "\n",
       "  train_exclusion_fraction  \n",
       "0                      0.0  \n",
       "1                      0.0  \n",
       "2                      0.0  \n",
       "3                      0.0  \n",
       "4                      0.0  \n",
       "5                      0.0  \n",
       "6                      0.0  \n",
       "7                      0.0  "
      ]
     },
     "execution_count": 29,
     "metadata": {},
     "output_type": "execute_result"
    }
   ],
   "source": [
    "df_full['param']"
   ]
  },
  {
   "cell_type": "code",
   "execution_count": null,
   "id": "6a94587c-2bbf-4ad2-bbb4-94b08d9b1ce8",
   "metadata": {},
   "outputs": [],
   "source": []
  }
 ],
 "metadata": {
  "kernelspec": {
   "display_name": "Python 3 (ipykernel)",
   "language": "python",
   "name": "python3"
  },
  "language_info": {
   "codemirror_mode": {
    "name": "ipython",
    "version": 3
   },
   "file_extension": ".py",
   "mimetype": "text/x-python",
   "name": "python",
   "nbconvert_exporter": "python",
   "pygments_lexer": "ipython3",
   "version": "3.8.12"
  }
 },
 "nbformat": 4,
 "nbformat_minor": 5
}
