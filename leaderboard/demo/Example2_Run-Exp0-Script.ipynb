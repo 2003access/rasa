{
 "cells": [
  {
   "cell_type": "markdown",
   "id": "051ea7e9-831e-41fd-b850-09fa5d4304c9",
   "metadata": {},
   "source": [
    "## Demo: Inspect output of `run_exp0.py`"
   ]
  },
  {
   "cell_type": "markdown",
   "id": "2321c999-452e-4ecf-b6ac-5e841ee80941",
   "metadata": {},
   "source": [
    "Note: You can set capture=True in the multirun call (or just %%capture in jupyter notebook)"
   ]
  },
  {
   "cell_type": "code",
   "execution_count": 4,
   "id": "ed93b6cf-8683-4a2a-a359-fc5f0f5b2053",
   "metadata": {},
   "outputs": [
    {
     "name": "stdout",
     "output_type": "stream",
     "text": [
      "/Users/kabu/Library/Caches/pypoetry/virtualenvs/rasa-r-HaG_w--py3.8/lib/python3.8/site-packages/matplotlib/__init__.py:169: DeprecationWarning: distutils Version classes are deprecated. Use packaging.version instead.\n",
      "  if LooseVersion(module.__version__) < minver:\n",
      "/Users/kabu/Library/Caches/pypoetry/virtualenvs/rasa-r-HaG_w--py3.8/lib/python3.8/site-packages/setuptools/_distutils/version.py:351: DeprecationWarning: distutils Version classes are deprecated. Use packaging.version instead.\n",
      "  other = LooseVersion(other)\n",
      "  0%|                                                     | 0/2 [00:00<?, ?it/s]/Users/kabu/Library/Caches/pypoetry/virtualenvs/rasa-r-HaG_w--py3.8/lib/python3.8/site-packages/matplotlib/__init__.py:169: DeprecationWarning: distutils Version classes are deprecated. Use packaging.version instead.\n",
      "  if LooseVersion(module.__version__) < minver:\n",
      "/Users/kabu/Library/Caches/pypoetry/virtualenvs/rasa-r-HaG_w--py3.8/lib/python3.8/site-packages/setuptools/_distutils/version.py:351: DeprecationWarning: distutils Version classes are deprecated. Use packaging.version instead.\n",
      "  other = LooseVersion(other)\n",
      "/Users/kabu/Library/Caches/pypoetry/virtualenvs/rasa-r-HaG_w--py3.8/lib/python3.8/site-packages/hydra/_internal/core_plugins/importlib_resources_config_source.py:66: DeprecationWarning: is_resource is deprecated. Use files() instead. Refer to https://importlib-resources.readthedocs.io/en/latest/using.html#migrating-from-legacy for migration advice.\n",
      "  ret = resources.is_resource(self.path, \"__init__.py\")  # type:ignore\n",
      "[2022-04-05 13:56:47,758][leaderboard.utils.base_experiment][INFO] - Running: /Users/kabu/Documents/workspace/rasa2/leaderboard/nlu/exp_1_stratify_intents_and_responses.py\n",
      "\u001b[93m/Users/kabu/Documents/workspace/rasa2/rasa/shared/core/slot_mappings.py:221: UserWarning: Slot auto-fill has been removed in 3.0 and replaced with a new explicit mechanism to set slots. Please refer to https://rasa.com/docs/rasa/domain#slots to learn more.\n",
      "  rasa.shared.utils.io.raise_warning(\n",
      "\u001b[0m/Users/kabu/Library/Caches/pypoetry/virtualenvs/rasa-r-HaG_w--py3.8/lib/python3.8/site-packages/tensorflow_addons/utils/ensure_tf_install.py:47: DeprecationWarning: distutils Version classes are deprecated. Use packaging.version instead.\n",
      "  min_version = LooseVersion(INCLUSIVE_MIN_TF_VERSION)\n",
      "\u001b[93m/Users/kabu/Documents/workspace/rasa2/rasa/shared/utils/io.py:98: UserWarning: You have defined synonyms in your training data, but your NLU configuration does not include an 'EntitySynonymMapper'. To map synonyms, add an 'EntitySynonymMapper' to your configuration.\n",
      "  More info at https://rasa.com/docs/rasa/components\n",
      "\u001b[0m[2022-04-05 13:56:48,491][rasa.engine.training.hooks][INFO] - Starting to train component 'CountVectorsFeaturizer'.\n",
      "[2022-04-05 13:56:48,543][rasa.nlu.featurizers.sparse_featurizer.count_vectors_featurizer][INFO] - 243 vocabulary items were created for text attribute.\n",
      "[2022-04-05 13:56:48,547][rasa.engine.training.hooks][INFO] - Finished training component 'CountVectorsFeaturizer'.\n",
      "[2022-04-05 13:56:48,749][rasa.engine.training.hooks][INFO] - Starting to train component 'DIETClassifier'.\n",
      "\u001b[93m/Users/kabu/Documents/workspace/rasa2/rasa/utils/train_utils.py:528: UserWarning: constrain_similarities is set to `False`. It is recommended to set it to `True` when using cross-entropy loss.\n",
      "  rasa.shared.utils.io.raise_warning(\n",
      "\u001b[0m\u001b[93m/Users/kabu/Documents/workspace/rasa2/rasa/shared/utils/io.py:98: UserWarning: 'evaluate_every_number_of_epochs=20' is greater than 'epochs=1'. No evaluation will occur.\n",
      "\u001b[0m/Users/kabu/Documents/workspace/rasa2/rasa/utils/tensorflow/model_data_utils.py:400: VisibleDeprecationWarning: Creating an ndarray from ragged nested sequences (which is a list-or-tuple of lists-or-tuples-or ndarrays with different lengths or shapes) is deprecated. If you meant to do this, you must specify 'dtype=object' when creating the ndarray\n",
      "  np.array([v[0] for v in values]), number_of_dimensions=3\n",
      "2022-04-05 13:56:48.881530: I tensorflow/core/platform/cpu_feature_guard.cc:151] This TensorFlow binary is optimized with oneAPI Deep Neural Network Library (oneDNN) to use the following CPU instructions in performance-critical operations:  AVX2 FMA\n",
      "To enable them in other operations, rebuild TensorFlow with the appropriate compiler flags.\n",
      "/Users/kabu/Documents/workspace/rasa2/rasa/utils/tensorflow/model_data.py:762: VisibleDeprecationWarning: Creating an ndarray from ragged nested sequences (which is a list-or-tuple of lists-or-tuples-or ndarrays with different lengths or shapes) is deprecated. If you meant to do this, you must specify 'dtype=object' when creating the ndarray\n",
      "  np.concatenate(np.array(f)),\n",
      "Epochs:   0%|                                             | 0/1 [00:00<?, ?it/s]/Users/kabu/Library/Caches/pypoetry/virtualenvs/rasa-r-HaG_w--py3.8/lib/python3.8/site-packages/tensorflow/python/framework/indexed_slices.py:448: UserWarning: Converting sparse IndexedSlices(IndexedSlices(indices=Tensor(\"gradients/cond_grad/gradients/cond/GatherV2_grad/Reshape_1:0\", shape=(None,), dtype=int32), values=Tensor(\"gradients/cond_grad/gradients/cond/GatherV2_grad/Reshape:0\", shape=(None,), dtype=float32), dense_shape=Tensor(\"gradients/cond_grad/gradients/cond/GatherV2_grad/Cast:0\", shape=(1,), dtype=int32))) to a dense Tensor of unknown shape. This may consume a large amount of memory.\n",
      "  warnings.warn(\n",
      "Epochs: 100%|█| 1/1 [00:21<00:00, 21.75s/it, t_loss=13.7, i_acc=0.155, e_f1=0.07\n",
      "[2022-04-05 13:57:11,005][rasa.engine.training.hooks][INFO] - Finished training component 'DIETClassifier'.\n",
      "\u001b[92mYour Rasa model is trained and saved at '/Users/kabu/Documents/workspace/rasa2/leaderboard/demo/test2/exp_1_stratify_intents_and_responses__examples-rules-nlu/model:interesting-config-name1,data:examples-rules-nlu,drop:2,exclude:0.0,test:0.2,seed:1__2022-04-05_13-56-47/model/interesting-config-name1.tar.gz'.\u001b[0m\n",
      "[2022-04-05 13:57:14,285][rasa.core.processor][INFO] - Loading model /Users/kabu/Documents/workspace/rasa2/leaderboard/demo/test2/exp_1_stratify_intents_and_responses__examples-rules-nlu/model:interesting-config-name1,data:examples-rules-nlu,drop:2,exclude:0.0,test:0.2,seed:1__2022-04-05_13-56-47/model/interesting-config-name1.tar.gz...\n",
      "/Users/kabu/Library/Caches/pypoetry/virtualenvs/rasa-r-HaG_w--py3.8/lib/python3.8/site-packages/tensorflow/python/framework/indexed_slices.py:448: UserWarning: Converting sparse IndexedSlices(IndexedSlices(indices=Tensor(\"gradients/cond_grad/gradients/cond/GatherV2_grad/Reshape_1:0\", shape=(None,), dtype=int32), values=Tensor(\"gradients/cond_grad/gradients/cond/GatherV2_grad/Reshape:0\", shape=(None,), dtype=float32), dense_shape=Tensor(\"gradients/cond_grad/gradients/cond/GatherV2_grad/Cast:0\", shape=(1,), dtype=int32))) to a dense Tensor of unknown shape. This may consume a large amount of memory.\n",
      "  warnings.warn(\n",
      "\u001b[93m/Users/kabu/Documents/workspace/rasa2/rasa/utils/train_utils.py:528: UserWarning: constrain_similarities is set to `False`. It is recommended to set it to `True` when using cross-entropy loss.\n",
      "  rasa.shared.utils.io.raise_warning(\n",
      "\u001b[0m\u001b[93m/Users/kabu/Documents/workspace/rasa2/rasa/shared/utils/io.py:98: UserWarning: 'evaluate_every_number_of_epochs=20' is greater than 'epochs=1'. No evaluation will occur.\n",
      "\u001b[0m\u001b[93m/Users/kabu/Documents/workspace/rasa2/rasa/shared/utils/io.py:98: UserWarning: Loading domain from 'domain.yml' failed. Using empty domain. Error: 'Failed to load domain specification from '/Users/kabu/Documents/workspace/rasa2/leaderboard/demo/test2/exp_1_stratify_intents_and_responses__examples-rules-nlu/model:interesting-config-name1,data:examples-rules-nlu,drop:2,exclude:0.0,test:0.2,seed:1__2022-04-05_13-56-47/domain.yml'. File not found!'\n",
      "\u001b[0m[2022-04-05 13:57:34,987][rasa.nlu.test][INFO] - Running model for predictions:\n",
      "100%|██████████████████████████████████████████| 58/58 [00:00<00:00, 162.43it/s]\n",
      "[2022-04-05 13:57:35,344][rasa.nlu.test][INFO] - Intent evaluation results:\n",
      "[2022-04-05 13:57:35,345][rasa.nlu.test][INFO] - Intent Evaluation: Only considering those 58 examples that have a defined intent out of 58 examples.\n",
      "/Users/kabu/Library/Caches/pypoetry/virtualenvs/rasa-r-HaG_w--py3.8/lib/python3.8/site-packages/sklearn/metrics/_classification.py:1248: UndefinedMetricWarning: Precision and F-score are ill-defined and being set to 0.0 in labels with no predicted samples. Use `zero_division` parameter to control this behavior.\n",
      "  _warn_prf(average, modifier, msg_start, len(result))\n",
      "/Users/kabu/Library/Caches/pypoetry/virtualenvs/rasa-r-HaG_w--py3.8/lib/python3.8/site-packages/sklearn/metrics/_classification.py:1248: UndefinedMetricWarning: Precision and F-score are ill-defined and being set to 0.0 in labels with no predicted samples. Use `zero_division` parameter to control this behavior.\n",
      "  _warn_prf(average, modifier, msg_start, len(result))\n",
      "/Users/kabu/Library/Caches/pypoetry/virtualenvs/rasa-r-HaG_w--py3.8/lib/python3.8/site-packages/sklearn/metrics/_classification.py:1248: UndefinedMetricWarning: Precision and F-score are ill-defined and being set to 0.0 in labels with no predicted samples. Use `zero_division` parameter to control this behavior.\n",
      "  _warn_prf(average, modifier, msg_start, len(result))\n",
      "/Users/kabu/Library/Caches/pypoetry/virtualenvs/rasa-r-HaG_w--py3.8/lib/python3.8/site-packages/sklearn/metrics/_classification.py:1248: UndefinedMetricWarning: Precision is ill-defined and being set to 0.0 in labels with no predicted samples. Use `zero_division` parameter to control this behavior.\n",
      "  _warn_prf(average, modifier, msg_start, len(result))\n",
      "[2022-04-05 13:57:35,355][rasa.nlu.test][INFO] - Classification report saved to /Users/kabu/Documents/workspace/rasa2/leaderboard/demo/test2/exp_1_stratify_intents_and_responses__examples-rules-nlu/model:interesting-config-name1,data:examples-rules-nlu,drop:2,exclude:0.0,test:0.2,seed:1__2022-04-05_13-56-47/report/intent_report.json.\n",
      "[2022-04-05 13:57:35,356][rasa.nlu.test][INFO] - Incorrect intent predictions saved to /Users/kabu/Documents/workspace/rasa2/leaderboard/demo/test2/exp_1_stratify_intents_and_responses__examples-rules-nlu/model:interesting-config-name1,data:examples-rules-nlu,drop:2,exclude:0.0,test:0.2,seed:1__2022-04-05_13-56-47/report/intent_errors.json.\n",
      "[2022-04-05 13:57:35,641][rasa.utils.plotting][INFO] - Confusion matrix, without normalization: \n",
      "[[ 0  2  0  0  1  0  0  0  0]\n",
      " [ 0  0  0  0  0  0  1  0  0]\n",
      " [ 0  6  0  0  0  0  1  0  0]\n",
      " [ 0  2  0  0  0  0  0  0  0]\n",
      " [ 0  5  0  0  1  0  0  0  0]\n",
      " [ 0 18  0  0  1  5  2  0  0]\n",
      " [ 0  0  0  0  2  0  2  0  0]\n",
      " [ 0  4  0  0  0  0  0  0  0]\n",
      " [ 0  4  0  0  0  0  0  1  0]]\n",
      "[2022-04-05 13:57:37,604][rasa.nlu.test][INFO] - Entity evaluation results:\n",
      " 50%|██████████████████████▌                      | 1/2 [00:55<00:55, 55.86s/it]/Users/kabu/Library/Caches/pypoetry/virtualenvs/rasa-r-HaG_w--py3.8/lib/python3.8/site-packages/matplotlib/__init__.py:169: DeprecationWarning: distutils Version classes are deprecated. Use packaging.version instead.\n",
      "  if LooseVersion(module.__version__) < minver:\n",
      "/Users/kabu/Library/Caches/pypoetry/virtualenvs/rasa-r-HaG_w--py3.8/lib/python3.8/site-packages/setuptools/_distutils/version.py:351: DeprecationWarning: distutils Version classes are deprecated. Use packaging.version instead.\n",
      "  other = LooseVersion(other)\n",
      "/Users/kabu/Library/Caches/pypoetry/virtualenvs/rasa-r-HaG_w--py3.8/lib/python3.8/site-packages/hydra/_internal/core_plugins/importlib_resources_config_source.py:66: DeprecationWarning: is_resource is deprecated. Use files() instead. Refer to https://importlib-resources.readthedocs.io/en/latest/using.html#migrating-from-legacy for migration advice.\n",
      "  ret = resources.is_resource(self.path, \"__init__.py\")  # type:ignore\n",
      "[2022-04-05 13:57:43,792][leaderboard.utils.base_experiment][INFO] - Running: /Users/kabu/Documents/workspace/rasa2/leaderboard/nlu/exp_1_stratify_intents_and_responses.py\n",
      "\u001b[93m/Users/kabu/Documents/workspace/rasa2/rasa/shared/core/slot_mappings.py:221: UserWarning: Slot auto-fill has been removed in 3.0 and replaced with a new explicit mechanism to set slots. Please refer to https://rasa.com/docs/rasa/domain#slots to learn more.\n",
      "  rasa.shared.utils.io.raise_warning(\n",
      "\u001b[0m/Users/kabu/Library/Caches/pypoetry/virtualenvs/rasa-r-HaG_w--py3.8/lib/python3.8/site-packages/tensorflow_addons/utils/ensure_tf_install.py:47: DeprecationWarning: distutils Version classes are deprecated. Use packaging.version instead.\n",
      "  min_version = LooseVersion(INCLUSIVE_MIN_TF_VERSION)\n",
      "\u001b[93m/Users/kabu/Documents/workspace/rasa2/rasa/shared/utils/io.py:98: UserWarning: You have defined synonyms in your training data, but your NLU configuration does not include an 'EntitySynonymMapper'. To map synonyms, add an 'EntitySynonymMapper' to your configuration.\n",
      "  More info at https://rasa.com/docs/rasa/components\n",
      "\u001b[0m[2022-04-05 13:57:44,523][rasa.engine.training.hooks][INFO] - Starting to train component 'LexicalSyntacticFeaturizer'.\n",
      "[2022-04-05 13:57:44,574][rasa.engine.training.hooks][INFO] - Finished training component 'LexicalSyntacticFeaturizer'.\n",
      "[2022-04-05 13:57:44,704][rasa.engine.training.hooks][INFO] - Starting to train component 'CountVectorsFeaturizer'.\n",
      "[2022-04-05 13:57:44,781][rasa.nlu.featurizers.sparse_featurizer.count_vectors_featurizer][INFO] - 243 vocabulary items were created for text attribute.\n",
      "[2022-04-05 13:57:44,783][rasa.engine.training.hooks][INFO] - Finished training component 'CountVectorsFeaturizer'.\n",
      "[2022-04-05 13:57:45,016][rasa.engine.training.hooks][INFO] - Starting to train component 'DIETClassifier'.\n",
      "\u001b[93m/Users/kabu/Documents/workspace/rasa2/rasa/utils/train_utils.py:528: UserWarning: constrain_similarities is set to `False`. It is recommended to set it to `True` when using cross-entropy loss.\n",
      "  rasa.shared.utils.io.raise_warning(\n",
      "\u001b[0m\u001b[93m/Users/kabu/Documents/workspace/rasa2/rasa/shared/utils/io.py:98: UserWarning: 'evaluate_every_number_of_epochs=20' is greater than 'epochs=2'. No evaluation will occur.\n",
      "\u001b[0m/Users/kabu/Documents/workspace/rasa2/rasa/utils/tensorflow/model_data_utils.py:400: VisibleDeprecationWarning: Creating an ndarray from ragged nested sequences (which is a list-or-tuple of lists-or-tuples-or ndarrays with different lengths or shapes) is deprecated. If you meant to do this, you must specify 'dtype=object' when creating the ndarray\n",
      "  np.array([v[0] for v in values]), number_of_dimensions=3\n",
      "2022-04-05 13:57:45.213267: I tensorflow/core/platform/cpu_feature_guard.cc:151] This TensorFlow binary is optimized with oneAPI Deep Neural Network Library (oneDNN) to use the following CPU instructions in performance-critical operations:  AVX2 FMA\n",
      "To enable them in other operations, rebuild TensorFlow with the appropriate compiler flags.\n",
      "/Users/kabu/Documents/workspace/rasa2/rasa/utils/tensorflow/model_data.py:762: VisibleDeprecationWarning: Creating an ndarray from ragged nested sequences (which is a list-or-tuple of lists-or-tuples-or ndarrays with different lengths or shapes) is deprecated. If you meant to do this, you must specify 'dtype=object' when creating the ndarray\n",
      "  np.concatenate(np.array(f)),\n",
      "Epochs:   0%|                                             | 0/2 [00:00<?, ?it/s]/Users/kabu/Library/Caches/pypoetry/virtualenvs/rasa-r-HaG_w--py3.8/lib/python3.8/site-packages/tensorflow/python/framework/indexed_slices.py:448: UserWarning: Converting sparse IndexedSlices(IndexedSlices(indices=Tensor(\"gradients/cond_grad/gradients/cond/GatherV2_grad/Reshape_1:0\", shape=(None,), dtype=int32), values=Tensor(\"gradients/cond_grad/gradients/cond/GatherV2_grad/Reshape:0\", shape=(None,), dtype=float32), dense_shape=Tensor(\"gradients/cond_grad/gradients/cond/GatherV2_grad/Cast:0\", shape=(1,), dtype=int32))) to a dense Tensor of unknown shape. This may consume a large amount of memory.\n",
      "  warnings.warn(\n",
      "Epochs: 100%|███| 2/2 [00:21<00:00, 10.90s/it, t_loss=9.57, i_acc=0.215, e_f1=0]\n",
      "[2022-04-05 13:58:07,387][rasa.engine.training.hooks][INFO] - Finished training component 'DIETClassifier'.\n",
      "\u001b[92mYour Rasa model is trained and saved at '/Users/kabu/Documents/workspace/rasa2/leaderboard/demo/test2/exp_1_stratify_intents_and_responses__examples-rules-nlu/model:another-very-interesting-config-because-reasons,data:examples-rules-nlu,drop:2,exclude:0.0,test:0.2,seed:1__2022-04-05_13-57-43/model/another-very-interesting-config-because-reasons.tar.gz'.\u001b[0m\n",
      "[2022-04-05 13:58:10,550][rasa.core.processor][INFO] - Loading model /Users/kabu/Documents/workspace/rasa2/leaderboard/demo/test2/exp_1_stratify_intents_and_responses__examples-rules-nlu/model:another-very-interesting-config-because-reasons,data:examples-rules-nlu,drop:2,exclude:0.0,test:0.2,seed:1__2022-04-05_13-57-43/model/another-very-interesting-config-because-reasons.tar.gz...\n",
      "/Users/kabu/Library/Caches/pypoetry/virtualenvs/rasa-r-HaG_w--py3.8/lib/python3.8/site-packages/tensorflow/python/framework/indexed_slices.py:448: UserWarning: Converting sparse IndexedSlices(IndexedSlices(indices=Tensor(\"gradients/cond_grad/gradients/cond/GatherV2_grad/Reshape_1:0\", shape=(None,), dtype=int32), values=Tensor(\"gradients/cond_grad/gradients/cond/GatherV2_grad/Reshape:0\", shape=(None,), dtype=float32), dense_shape=Tensor(\"gradients/cond_grad/gradients/cond/GatherV2_grad/Cast:0\", shape=(1,), dtype=int32))) to a dense Tensor of unknown shape. This may consume a large amount of memory.\n",
      "  warnings.warn(\n",
      "\u001b[93m/Users/kabu/Documents/workspace/rasa2/rasa/utils/train_utils.py:528: UserWarning: constrain_similarities is set to `False`. It is recommended to set it to `True` when using cross-entropy loss.\n",
      "  rasa.shared.utils.io.raise_warning(\n",
      "\u001b[0m\u001b[93m/Users/kabu/Documents/workspace/rasa2/rasa/shared/utils/io.py:98: UserWarning: 'evaluate_every_number_of_epochs=20' is greater than 'epochs=2'. No evaluation will occur.\n",
      "\u001b[0m\u001b[93m/Users/kabu/Documents/workspace/rasa2/rasa/shared/utils/io.py:98: UserWarning: Loading domain from 'domain.yml' failed. Using empty domain. Error: 'Failed to load domain specification from '/Users/kabu/Documents/workspace/rasa2/leaderboard/demo/test2/exp_1_stratify_intents_and_responses__examples-rules-nlu/model:another-very-interesting-config-because-reasons,data:examples-rules-nlu,drop:2,exclude:0.0,test:0.2,seed:1__2022-04-05_13-57-43/domain.yml'. File not found!'\n",
      "\u001b[0m[2022-04-05 13:58:31,883][rasa.nlu.test][INFO] - Running model for predictions:\n",
      "100%|██████████████████████████████████████████| 58/58 [00:00<00:00, 132.19it/s]\n",
      "[2022-04-05 13:58:32,322][rasa.nlu.test][INFO] - Intent evaluation results:\n",
      "[2022-04-05 13:58:32,323][rasa.nlu.test][INFO] - Intent Evaluation: Only considering those 58 examples that have a defined intent out of 58 examples.\n",
      "/Users/kabu/Library/Caches/pypoetry/virtualenvs/rasa-r-HaG_w--py3.8/lib/python3.8/site-packages/sklearn/metrics/_classification.py:1248: UndefinedMetricWarning: Precision and F-score are ill-defined and being set to 0.0 in labels with no predicted samples. Use `zero_division` parameter to control this behavior.\n",
      "  _warn_prf(average, modifier, msg_start, len(result))\n",
      "/Users/kabu/Library/Caches/pypoetry/virtualenvs/rasa-r-HaG_w--py3.8/lib/python3.8/site-packages/sklearn/metrics/_classification.py:1248: UndefinedMetricWarning: Precision and F-score are ill-defined and being set to 0.0 in labels with no predicted samples. Use `zero_division` parameter to control this behavior.\n",
      "  _warn_prf(average, modifier, msg_start, len(result))\n",
      "/Users/kabu/Library/Caches/pypoetry/virtualenvs/rasa-r-HaG_w--py3.8/lib/python3.8/site-packages/sklearn/metrics/_classification.py:1248: UndefinedMetricWarning: Precision and F-score are ill-defined and being set to 0.0 in labels with no predicted samples. Use `zero_division` parameter to control this behavior.\n",
      "  _warn_prf(average, modifier, msg_start, len(result))\n",
      "/Users/kabu/Library/Caches/pypoetry/virtualenvs/rasa-r-HaG_w--py3.8/lib/python3.8/site-packages/sklearn/metrics/_classification.py:1248: UndefinedMetricWarning: Precision is ill-defined and being set to 0.0 in labels with no predicted samples. Use `zero_division` parameter to control this behavior.\n",
      "  _warn_prf(average, modifier, msg_start, len(result))\n",
      "[2022-04-05 13:58:32,333][rasa.nlu.test][INFO] - Classification report saved to /Users/kabu/Documents/workspace/rasa2/leaderboard/demo/test2/exp_1_stratify_intents_and_responses__examples-rules-nlu/model:another-very-interesting-config-because-reasons,data:examples-rules-nlu,drop:2,exclude:0.0,test:0.2,seed:1__2022-04-05_13-57-43/report/intent_report.json.\n",
      "[2022-04-05 13:58:32,334][rasa.nlu.test][INFO] - Incorrect intent predictions saved to /Users/kabu/Documents/workspace/rasa2/leaderboard/demo/test2/exp_1_stratify_intents_and_responses__examples-rules-nlu/model:another-very-interesting-config-because-reasons,data:examples-rules-nlu,drop:2,exclude:0.0,test:0.2,seed:1__2022-04-05_13-57-43/report/intent_errors.json.\n",
      "[2022-04-05 13:58:32,626][rasa.utils.plotting][INFO] - Confusion matrix, without normalization: \n",
      "[[ 0  0  0  0  0  3  0  0  0]\n",
      " [ 0  0  0  0  0  1  0  0  0]\n",
      " [ 0  2  0  0  0  2  1  1  1]\n",
      " [ 0  0  0  0  0  2  0  0  0]\n",
      " [ 0  2  0  0  0  4  0  0  0]\n",
      " [ 0  3  0  0  0 22  0  1  0]\n",
      " [ 0  0  0  0  2  2  0  0  0]\n",
      " [ 0  2  0  0  0  1  0  1  0]\n",
      " [ 0  0  0  0  0  3  0  2  0]]\n",
      "[2022-04-05 13:58:34,557][rasa.nlu.test][INFO] - Entity evaluation results:\n",
      "100%|█████████████████████████████████████████████| 2/2 [01:52<00:00, 56.49s/it]\n"
     ]
    }
   ],
   "source": [
    "!python run_exp1.py"
   ]
  },
  {
   "cell_type": "markdown",
   "id": "fa5237be-0541-4e81-a52c-6ccf045fcc1a",
   "metadata": {},
   "source": [
    "The name of the result folder (in the used output directory) tells us which script was run and what the \"name\" of the data was:"
   ]
  },
  {
   "cell_type": "code",
   "execution_count": 5,
   "id": "bad8d803-c3f7-469a-98fd-6a36d11853b5",
   "metadata": {},
   "outputs": [
    {
     "name": "stdout",
     "output_type": "stream",
     "text": [
      "\u001b[34mexp_1_stratify_intents_and_responses__examples-rules-nlu\u001b[m\u001b[m\n"
     ]
    }
   ],
   "source": [
    "!ls ./test2"
   ]
  },
  {
   "cell_type": "markdown",
   "id": "7894f213-b9a0-4430-96be-96ab33387dea",
   "metadata": {},
   "source": [
    "The sub-result folders are formatted in the same way as for "
   ]
  },
  {
   "cell_type": "code",
   "execution_count": 7,
   "id": "f43121f9-27bb-433c-8c36-81b969d145a1",
   "metadata": {},
   "outputs": [
    {
     "name": "stdout",
     "output_type": "stream",
     "text": [
      "\u001b[34mmodel:another-very-interesting-config-because-reasons,data:examples-rules-nlu,drop:2,exclude:0.0,test:0.2,seed:1__2022-04-05_13-57-43\u001b[m\u001b[m\n",
      "\u001b[34mmodel:interesting-config-name1,data:examples-rules-nlu,drop:2,exclude:0.0,test:0.2,seed:1__2022-04-05_13-56-47\u001b[m\u001b[m\n"
     ]
    }
   ],
   "source": [
    "!ls ./test2/exp_1_stratify_intents_and_responses__examples-rules-nlu/ "
   ]
  },
  {
   "cell_type": "code",
   "execution_count": null,
   "id": "532022bc-c708-4bb3-a074-1e72e2b51ed1",
   "metadata": {},
   "outputs": [],
   "source": []
  }
 ],
 "metadata": {
  "kernelspec": {
   "display_name": "Python 3 (ipykernel)",
   "language": "python",
   "name": "python3"
  },
  "language_info": {
   "codemirror_mode": {
    "name": "ipython",
    "version": 3
   },
   "file_extension": ".py",
   "mimetype": "text/x-python",
   "name": "python",
   "nbconvert_exporter": "python",
   "pygments_lexer": "ipython3",
   "version": "3.8.12"
  }
 },
 "nbformat": 4,
 "nbformat_minor": 5
}
