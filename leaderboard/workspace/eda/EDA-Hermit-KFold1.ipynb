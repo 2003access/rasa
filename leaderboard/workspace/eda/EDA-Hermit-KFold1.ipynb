{
 "cells": [
  {
   "cell_type": "markdown",
   "id": "686aa8a0-41ea-4da0-bb86-42bd14fa8b7d",
   "metadata": {},
   "source": [
    "# Hermit Fold 1"
   ]
  },
  {
   "cell_type": "code",
   "execution_count": 1,
   "id": "45fa85cf-4a4f-4a9b-907c-785415350b99",
   "metadata": {},
   "outputs": [],
   "source": [
    "import os\n",
    "from collections import Counter"
   ]
  },
  {
   "cell_type": "code",
   "execution_count": 2,
   "id": "33d524eb-cb09-4e67-abfb-a67db2fac8a4",
   "metadata": {},
   "outputs": [],
   "source": [
    "import pandas as pd"
   ]
  },
  {
   "cell_type": "code",
   "execution_count": 3,
   "id": "a030e19f-7293-465c-a2a1-b26e16040082",
   "metadata": {},
   "outputs": [],
   "source": [
    "from leaderboard.utils import rasa_utils"
   ]
  },
  {
   "cell_type": "code",
   "execution_count": 4,
   "id": "cea937dc-85f3-4caf-96c0-c368e9e8e898",
   "metadata": {},
   "outputs": [
    {
     "data": {
      "text/plain": [
       "<module 'leaderboard.utils.rasa_utils' from '/Users/kabu/Documents/workspace/rasa2/leaderboard/utils/rasa_utils.py'>"
      ]
     },
     "execution_count": 4,
     "metadata": {},
     "output_type": "execute_result"
    }
   ],
   "source": [
    "import importlib\n",
    "importlib.reload(rasa_utils)"
   ]
  },
  {
   "cell_type": "markdown",
   "id": "95829459-c1dd-4a27-86c5-b809cb109654",
   "metadata": {},
   "source": [
    "## Load Data"
   ]
  },
  {
   "cell_type": "code",
   "execution_count": 5,
   "id": "ecd176f5-440a-45a2-9860-ce7d3379a29b",
   "metadata": {},
   "outputs": [],
   "source": [
    "data_path = \"../../../../training-data/public/HERMIT/KFold_1\""
   ]
  },
  {
   "cell_type": "code",
   "execution_count": 6,
   "id": "23e62958-016e-4ab9-aa05-829108c88735",
   "metadata": {},
   "outputs": [
    {
     "name": "stdout",
     "output_type": "stream",
     "text": [
      "\u001b[34mtest\u001b[m\u001b[m  \u001b[34mtrain\u001b[m\u001b[m\n"
     ]
    }
   ],
   "source": [
    "!ls {data_path}"
   ]
  },
  {
   "cell_type": "code",
   "execution_count": 7,
   "id": "658f0047-dc07-4183-9e95-cd57ff123050",
   "metadata": {},
   "outputs": [
    {
     "name": "stdout",
     "output_type": "stream",
     "text": [
      "version: \"2.0\"\n",
      "nlu:\n",
      "- intent: alarm_query\n",
      "  examples: |\n",
      "    - what alarms do i have set right now\n",
      "    - checkout [today](date) alarm of meeting\n",
      "    - report alarm settings\n",
      "    - see see for me the alarms that you have set [tomorrow](date) [morning](timeofday)\n",
      "    - is there an alarm for [ten am](time)\n",
      "    - confirm the alarm time\n"
     ]
    }
   ],
   "source": [
    "!head {data_path}/train/train.yml"
   ]
  },
  {
   "cell_type": "code",
   "execution_count": 8,
   "id": "13552b54-23b5-458e-b31d-69a2d6b286cc",
   "metadata": {},
   "outputs": [
    {
     "ename": "NameError",
     "evalue": "name 'hermit_path' is not defined",
     "output_type": "error",
     "traceback": [
      "\u001b[0;31m---------------------------------------------------------------------------\u001b[0m",
      "\u001b[0;31mNameError\u001b[0m                                 Traceback (most recent call last)",
      "Input \u001b[0;32mIn [8]\u001b[0m, in \u001b[0;36m<cell line: 1>\u001b[0;34m()\u001b[0m\n\u001b[0;32m----> 1\u001b[0m data \u001b[38;5;241m=\u001b[39m {split: rasa_utils\u001b[38;5;241m.\u001b[39mload_nlu_data(os\u001b[38;5;241m.\u001b[39mpath\u001b[38;5;241m.\u001b[39mjoin(hermit_path, split, \u001b[38;5;124mf\u001b[39m\u001b[38;5;124m'\u001b[39m\u001b[38;5;132;01m{\u001b[39;00msplit\u001b[38;5;132;01m}\u001b[39;00m\u001b[38;5;124m.yml\u001b[39m\u001b[38;5;124m'\u001b[39m), domain_path \u001b[38;5;241m=\u001b[39m \u001b[38;5;28;01mNone\u001b[39;00m) \u001b[38;5;28;01mfor\u001b[39;00m split \u001b[38;5;129;01min\u001b[39;00m [\u001b[38;5;124m'\u001b[39m\u001b[38;5;124mtrain\u001b[39m\u001b[38;5;124m'\u001b[39m, \u001b[38;5;124m'\u001b[39m\u001b[38;5;124mtest\u001b[39m\u001b[38;5;124m'\u001b[39m]}\n",
      "Input \u001b[0;32mIn [8]\u001b[0m, in \u001b[0;36m<dictcomp>\u001b[0;34m(.0)\u001b[0m\n\u001b[0;32m----> 1\u001b[0m data \u001b[38;5;241m=\u001b[39m {split: rasa_utils\u001b[38;5;241m.\u001b[39mload_nlu_data(os\u001b[38;5;241m.\u001b[39mpath\u001b[38;5;241m.\u001b[39mjoin(\u001b[43mhermit_path\u001b[49m, split, \u001b[38;5;124mf\u001b[39m\u001b[38;5;124m'\u001b[39m\u001b[38;5;132;01m{\u001b[39;00msplit\u001b[38;5;132;01m}\u001b[39;00m\u001b[38;5;124m.yml\u001b[39m\u001b[38;5;124m'\u001b[39m), domain_path \u001b[38;5;241m=\u001b[39m \u001b[38;5;28;01mNone\u001b[39;00m) \u001b[38;5;28;01mfor\u001b[39;00m split \u001b[38;5;129;01min\u001b[39;00m [\u001b[38;5;124m'\u001b[39m\u001b[38;5;124mtrain\u001b[39m\u001b[38;5;124m'\u001b[39m, \u001b[38;5;124m'\u001b[39m\u001b[38;5;124mtest\u001b[39m\u001b[38;5;124m'\u001b[39m]}\n",
      "\u001b[0;31mNameError\u001b[0m: name 'hermit_path' is not defined"
     ]
    }
   ],
   "source": [
    "data = {split: rasa_utils.load_nlu_data(os.path.join(hermit_path, split, f'{split}.yml'), domain_path = None) for split in ['train', 'test']}"
   ]
  },
  {
   "cell_type": "code",
   "execution_count": null,
   "id": "2a85e636-5d39-4cb4-ab1a-36db1c96f5af",
   "metadata": {},
   "outputs": [],
   "source": [
    "dfs = { \n",
    "    split: pd.DataFrame(\n",
    "        [\n",
    "            { 'text': message.get('text'), \n",
    "             'intent' : message.get('intent'), \n",
    "             'entities' : [entity['entity'] for entity in message.get('entities',[])],\n",
    "            }\n",
    "            for message in data[split].nlu_examples\n",
    "        ]\n",
    "    ) for split in data }"
   ]
  },
  {
   "cell_type": "markdown",
   "id": "606c355e-8de1-47e4-9ddb-66d99310ac98",
   "metadata": {},
   "source": [
    "## Intents"
   ]
  },
  {
   "cell_type": "code",
   "execution_count": null,
   "id": "068858a7-07d7-4ef4-8453-a7851f9d42e2",
   "metadata": {},
   "outputs": [],
   "source": [
    "for split, df in dfs.items():\n",
    "    print(f'\\n{split}\\n' + '-'*20)\n",
    "    display(df['intent'].describe())"
   ]
  },
  {
   "cell_type": "code",
   "execution_count": null,
   "id": "a162a961-5038-4d00-bba0-e7be1e52f4b2",
   "metadata": {},
   "outputs": [],
   "source": [
    "dfs['train']['intent'].value_counts().hist()\n",
    "dfs['test']['intent'].value_counts().hist(color = \"orange\")"
   ]
  },
  {
   "cell_type": "code",
   "execution_count": null,
   "id": "f9680d55-a5b6-415b-b1a8-00255951fe2e",
   "metadata": {},
   "outputs": [],
   "source": [
    "dfs['train']['intent'].value_counts(ascending=True)[:10]"
   ]
  },
  {
   "cell_type": "code",
   "execution_count": null,
   "id": "fe94e9c2-6730-4b34-8897-cbaa58503234",
   "metadata": {},
   "outputs": [],
   "source": [
    "dfs['train']['intent'].value_counts(ascending=False)[:10]"
   ]
  },
  {
   "cell_type": "markdown",
   "id": "5bca17a5-3b54-4802-a1f7-b97823c55c3a",
   "metadata": {},
   "source": [
    "## Entities"
   ]
  },
  {
   "cell_type": "markdown",
   "id": "54c166f7-c9b0-4195-9f77-92114fc91037",
   "metadata": {},
   "source": [
    "### Entities per Message"
   ]
  },
  {
   "cell_type": "code",
   "execution_count": null,
   "id": "b9870e13-7b7f-4eb8-b51f-428553dfca5c",
   "metadata": {},
   "outputs": [],
   "source": [
    "for df in dfs.values():\n",
    "    df['num_entities'] = df['entities'].apply(len)"
   ]
  },
  {
   "cell_type": "code",
   "execution_count": null,
   "id": "b6303370-da11-4e43-a1c2-3eec6dd22a1f",
   "metadata": {},
   "outputs": [],
   "source": [
    "dfs['train']['num_entities'].hist(figsize=(15,5))\n",
    "dfs['test']['num_entities'].hist(color = \"orange\")"
   ]
  },
  {
   "cell_type": "code",
   "execution_count": null,
   "id": "add7d210-27ed-4005-9324-1e4ffcd3aa05",
   "metadata": {},
   "outputs": [],
   "source": [
    "dfs['train']['num_entities'].value_counts(normalize=True)*100"
   ]
  },
  {
   "cell_type": "code",
   "execution_count": null,
   "id": "f112b52f-120d-4260-bfd3-0d6ab56fb133",
   "metadata": {},
   "outputs": [],
   "source": [
    "dfs['train']['num_entities'].value_counts()"
   ]
  },
  {
   "cell_type": "code",
   "execution_count": null,
   "id": "05cae738-b378-4ff3-9766-e8612ac08c8b",
   "metadata": {},
   "outputs": [],
   "source": [
    "dfs['test']['num_entities'].value_counts()"
   ]
  },
  {
   "cell_type": "markdown",
   "id": "330a1b25-bcc9-4751-bb8e-d37812ec4c82",
   "metadata": {
    "tags": []
   },
   "source": [
    "### Messages per Entity"
   ]
  },
  {
   "cell_type": "code",
   "execution_count": null,
   "id": "124c407b-d6b7-4d66-bef5-6fa68769e215",
   "metadata": {},
   "outputs": [],
   "source": [
    "def count_messages_per_entity(df) -> pd.DataFrame:\n",
    "    entities_counter = Counter()\n",
    "    for entities in df['entities']:\n",
    "        entities_counter.update(entities)\n",
    "\n",
    "    entities_counter_df = pd.DataFrame.from_dict(entities_counter,orient='index').reset_index()\n",
    "    entities_counter_df.columns = ['entity', 'message_count']\n",
    "    entities_counter_df.sort_values('message_count', inplace=True)\n",
    "    return entities_counter_df"
   ]
  },
  {
   "cell_type": "code",
   "execution_count": null,
   "id": "dc9bbed6-5d00-43a6-9ae7-d978e34fb619",
   "metadata": {},
   "outputs": [],
   "source": [
    "message_per_entity_counts = {split: count_messages_per_entity(df) for split, df in dfs.items()}"
   ]
  },
  {
   "cell_type": "code",
   "execution_count": null,
   "id": "7d328d8d-29ac-4cca-8087-af42c7001734",
   "metadata": {},
   "outputs": [],
   "source": [
    "message_per_entity_counts['train']['message_count'].hist(figsize=(15,5), bins=100)\n",
    "message_per_entity_counts['test']['message_count'].hist(figsize=(15,5), bins=50, color = 'orange')"
   ]
  },
  {
   "cell_type": "code",
   "execution_count": null,
   "id": "275d2334-e9da-4b2a-82dc-8a3cf985fb31",
   "metadata": {},
   "outputs": [],
   "source": [
    "message_per_entity_counts['test']['message_count'].hist(figsize=(15,5), bins=50, color = 'orange')"
   ]
  },
  {
   "cell_type": "code",
   "execution_count": null,
   "id": "d68cd34a-bd03-4260-95d8-18a28cf3af1e",
   "metadata": {},
   "outputs": [],
   "source": [
    "message_per_entity_counts['train']['message_count'].head(10)"
   ]
  },
  {
   "cell_type": "code",
   "execution_count": null,
   "id": "fb7da9fa-6932-40e9-a195-bea7995c0e99",
   "metadata": {},
   "outputs": [],
   "source": [
    "message_per_entity_counts['train']['message_count'].tail(10)"
   ]
  },
  {
   "cell_type": "code",
   "execution_count": null,
   "id": "326bd747-f6f7-467f-bd36-615ca95b2ad2",
   "metadata": {},
   "outputs": [],
   "source": [
    "message_per_entity_counts['train']['message_count'].head(10)"
   ]
  },
  {
   "cell_type": "code",
   "execution_count": null,
   "id": "c215d275-6ff9-48be-9fd6-8bbdbf94904c",
   "metadata": {},
   "outputs": [],
   "source": [
    "message_per_entity_counts['test']['message_count'].tail(10)"
   ]
  },
  {
   "cell_type": "code",
   "execution_count": null,
   "id": "22c36fa7-794e-45ed-b824-98b896be6adc",
   "metadata": {},
   "outputs": [],
   "source": []
  }
 ],
 "metadata": {
  "kernelspec": {
   "display_name": "Python 3 (ipykernel)",
   "language": "python",
   "name": "python3"
  },
  "language_info": {
   "codemirror_mode": {
    "name": "ipython",
    "version": 3
   },
   "file_extension": ".py",
   "mimetype": "text/x-python",
   "name": "python",
   "nbconvert_exporter": "python",
   "pygments_lexer": "ipython3",
   "version": "3.8.12"
  }
 },
 "nbformat": 4,
 "nbformat_minor": 5
}
