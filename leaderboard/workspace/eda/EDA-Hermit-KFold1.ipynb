{
 "cells": [
  {
   "cell_type": "markdown",
   "id": "686aa8a0-41ea-4da0-bb86-42bd14fa8b7d",
   "metadata": {},
   "source": [
    "# Hermit Fold 1"
   ]
  },
  {
   "cell_type": "code",
   "execution_count": 1,
   "id": "45fa85cf-4a4f-4a9b-907c-785415350b99",
   "metadata": {},
   "outputs": [],
   "source": [
    "import os\n",
    "from collections import Counter"
   ]
  },
  {
   "cell_type": "code",
   "execution_count": 2,
   "id": "33d524eb-cb09-4e67-abfb-a67db2fac8a4",
   "metadata": {},
   "outputs": [],
   "source": [
    "import pandas as pd"
   ]
  },
  {
   "cell_type": "code",
   "execution_count": 3,
   "id": "a030e19f-7293-465c-a2a1-b26e16040082",
   "metadata": {},
   "outputs": [],
   "source": [
    "from leaderboard.utils import rasa_utils"
   ]
  },
  {
   "cell_type": "code",
   "execution_count": 4,
   "id": "cea937dc-85f3-4caf-96c0-c368e9e8e898",
   "metadata": {},
   "outputs": [
    {
     "data": {
      "text/plain": [
       "<module 'leaderboard.utils.rasa_utils' from '/Users/kabu/Documents/workspace/rasa2/leaderboard/utils/rasa_utils.py'>"
      ]
     },
     "execution_count": 4,
     "metadata": {},
     "output_type": "execute_result"
    }
   ],
   "source": [
    "import importlib\n",
    "importlib.reload(rasa_utils)"
   ]
  },
  {
   "cell_type": "markdown",
   "id": "95829459-c1dd-4a27-86c5-b809cb109654",
   "metadata": {},
   "source": [
    "## Load Data"
   ]
  },
  {
   "cell_type": "code",
   "execution_count": 5,
   "id": "ecd176f5-440a-45a2-9860-ce7d3379a29b",
   "metadata": {},
   "outputs": [],
   "source": [
    "data_path = \"../../../../training-data/public/HERMIT/KFold_1\""
   ]
  },
  {
   "cell_type": "code",
   "execution_count": 6,
   "id": "23e62958-016e-4ab9-aa05-829108c88735",
   "metadata": {},
   "outputs": [
    {
     "name": "stdout",
     "output_type": "stream",
     "text": [
      "\u001b[34mtest\u001b[m\u001b[m  \u001b[34mtrain\u001b[m\u001b[m\n"
     ]
    }
   ],
   "source": [
    "!ls {data_path}"
   ]
  },
  {
   "cell_type": "code",
   "execution_count": 7,
   "id": "658f0047-dc07-4183-9e95-cd57ff123050",
   "metadata": {},
   "outputs": [
    {
     "name": "stdout",
     "output_type": "stream",
     "text": [
      "version: \"2.0\"\n",
      "nlu:\n",
      "- intent: alarm_query\n",
      "  examples: |\n",
      "    - what alarms do i have set right now\n",
      "    - checkout [today](date) alarm of meeting\n",
      "    - report alarm settings\n",
      "    - see see for me the alarms that you have set [tomorrow](date) [morning](timeofday)\n",
      "    - is there an alarm for [ten am](time)\n",
      "    - confirm the alarm time\n"
     ]
    }
   ],
   "source": [
    "!head {data_path}/train/train.yml"
   ]
  },
  {
   "cell_type": "code",
   "execution_count": 8,
   "id": "13552b54-23b5-458e-b31d-69a2d6b286cc",
   "metadata": {},
   "outputs": [
    {
     "name": "stderr",
     "output_type": "stream",
     "text": [
      "\u001b[93m/Users/kabu/Documents/workspace/rasa2/rasa/shared/utils/io.py:98: UserWarning: Training data file /Users/kabu/Documents/workspace/training-data/public/HERMIT/KFold_1/train/train.yml has a lower format version than your Rasa Open Source installation: 2.0 < 3.1. Rasa Open Source will read the file as a version 3.1 file. Please update your version key to 3.1. See https://rasa.com/docs/rasa/training-data-format.\n",
      "\u001b[0m\u001b[93m/Users/kabu/Documents/workspace/rasa2/rasa/shared/utils/io.py:98: UserWarning: Training data file /Users/kabu/Documents/workspace/training-data/public/HERMIT/KFold_1/test/test.yml has a lower format version than your Rasa Open Source installation: 2.0 < 3.1. Rasa Open Source will read the file as a version 3.1 file. Please update your version key to 3.1. See https://rasa.com/docs/rasa/training-data-format.\n",
      "\u001b[0m"
     ]
    }
   ],
   "source": [
    "data = {split: rasa_utils.load_nlu_data(os.path.join(data_path, split, f'{split}.yml')) for split in ['train', 'test']}"
   ]
  },
  {
   "cell_type": "code",
   "execution_count": 9,
   "id": "2a85e636-5d39-4cb4-ab1a-36db1c96f5af",
   "metadata": {},
   "outputs": [],
   "source": [
    "dfs = { \n",
    "    split: pd.DataFrame(\n",
    "        [\n",
    "            { 'text': message.get('text'), \n",
    "             'intent' : message.get('intent'), \n",
    "             'entities' : [entity['entity'] for entity in message.get('entities',[])],\n",
    "            }\n",
    "            for message in data[split].nlu_examples\n",
    "        ]\n",
    "    ) for split in data }"
   ]
  },
  {
   "cell_type": "markdown",
   "id": "606c355e-8de1-47e4-9ddb-66d99310ac98",
   "metadata": {},
   "source": [
    "## Intents"
   ]
  },
  {
   "cell_type": "code",
   "execution_count": 10,
   "id": "068858a7-07d7-4ef4-8453-a7851f9d42e2",
   "metadata": {},
   "outputs": [
    {
     "name": "stdout",
     "output_type": "stream",
     "text": [
      "\n",
      "train\n",
      "--------------------\n"
     ]
    },
    {
     "data": {
      "text/plain": [
       "count            9960\n",
       "unique             64\n",
       "top       alarm_query\n",
       "freq              175\n",
       "Name: intent, dtype: object"
      ]
     },
     "metadata": {},
     "output_type": "display_data"
    },
    {
     "name": "stdout",
     "output_type": "stream",
     "text": [
      "\n",
      "test\n",
      "--------------------\n"
     ]
    },
    {
     "data": {
      "text/plain": [
       "count            1076\n",
       "unique             64\n",
       "top       alarm_query\n",
       "freq               19\n",
       "Name: intent, dtype: object"
      ]
     },
     "metadata": {},
     "output_type": "display_data"
    }
   ],
   "source": [
    "for split, df in dfs.items():\n",
    "    print(f'\\n{split}\\n' + '-'*20)\n",
    "    display(df['intent'].describe())"
   ]
  },
  {
   "cell_type": "code",
   "execution_count": 11,
   "id": "a162a961-5038-4d00-bba0-e7be1e52f4b2",
   "metadata": {},
   "outputs": [
    {
     "data": {
      "text/plain": [
       "<AxesSubplot:>"
      ]
     },
     "execution_count": 11,
     "metadata": {},
     "output_type": "execute_result"
    },
    {
     "data": {
      "image/png": "[encoded data removed]",
      "text/plain": [
       "<Figure size 432x288 with 1 Axes>"
      ]
     },
     "metadata": {
      "needs_background": "light"
     },
     "output_type": "display_data"
    }
   ],
   "source": [
    "dfs['train']['intent'].value_counts().hist()\n",
    "dfs['test']['intent'].value_counts().hist(color = \"orange\")"
   ]
  },
  {
   "cell_type": "code",
   "execution_count": 12,
   "id": "f9680d55-a5b6-415b-b1a8-00255951fe2e",
   "metadata": {},
   "outputs": [
    {
     "data": {
      "text/plain": [
       "iot_hue_lighton           35\n",
       "iot_wemo_on               69\n",
       "music_settings            70\n",
       "audio_volume_down         72\n",
       "datetime_convert          79\n",
       "email_addcontact          79\n",
       "iot_wemo_off              89\n",
       "recommendation_movies     97\n",
       "alarm_remove             106\n",
       "general_joke             110\n",
       "Name: intent, dtype: int64"
      ]
     },
     "execution_count": 12,
     "metadata": {},
     "output_type": "execute_result"
    }
   ],
   "source": [
    "dfs['train']['intent'].value_counts(ascending=True)[:10]"
   ]
  },
  {
   "cell_type": "code",
   "execution_count": 13,
   "id": "fe94e9c2-6730-4b34-8897-cbaa58503234",
   "metadata": {},
   "outputs": [
    {
     "data": {
      "text/plain": [
       "alarm_query          175\n",
       "play_radio           175\n",
       "iot_hue_lightoff     175\n",
       "lists_createoradd    175\n",
       "lists_query          175\n",
       "lists_remove         175\n",
       "music_query          175\n",
       "news_query           175\n",
       "play_audiobook       175\n",
       "play_game            175\n",
       "Name: intent, dtype: int64"
      ]
     },
     "execution_count": 13,
     "metadata": {},
     "output_type": "execute_result"
    }
   ],
   "source": [
    "dfs['train']['intent'].value_counts(ascending=False)[:10]"
   ]
  },
  {
   "cell_type": "markdown",
   "id": "5bca17a5-3b54-4802-a1f7-b97823c55c3a",
   "metadata": {},
   "source": [
    "## Entities"
   ]
  },
  {
   "cell_type": "markdown",
   "id": "54c166f7-c9b0-4195-9f77-92114fc91037",
   "metadata": {},
   "source": [
    "### Entities per Message"
   ]
  },
  {
   "cell_type": "code",
   "execution_count": 14,
   "id": "b9870e13-7b7f-4eb8-b51f-428553dfca5c",
   "metadata": {},
   "outputs": [],
   "source": [
    "for df in dfs.values():\n",
    "    df['num_entities'] = df['entities'].apply(len)"
   ]
  },
  {
   "cell_type": "code",
   "execution_count": 15,
   "id": "b6303370-da11-4e43-a1c2-3eec6dd22a1f",
   "metadata": {},
   "outputs": [
    {
     "data": {
      "text/plain": [
       "<AxesSubplot:>"
      ]
     },
     "execution_count": 15,
     "metadata": {},
     "output_type": "execute_result"
    },
    {
     "data": {
      "image/png": "[encoded data removed]",
      "text/plain": [
       "<Figure size 1080x360 with 1 Axes>"
      ]
     },
     "metadata": {
      "needs_background": "light"
     },
     "output_type": "display_data"
    }
   ],
   "source": [
    "dfs['train']['num_entities'].hist(figsize=(15,5))\n",
    "dfs['test']['num_entities'].hist(color = \"orange\")"
   ]
  },
  {
   "cell_type": "code",
   "execution_count": 16,
   "id": "add7d210-27ed-4005-9324-1e4ffcd3aa05",
   "metadata": {},
   "outputs": [
    {
     "data": {
      "text/plain": [
       "0    42.248996\n",
       "1    37.831325\n",
       "2    15.612450\n",
       "3     3.524096\n",
       "4     0.692771\n",
       "5     0.080321\n",
       "6     0.010040\n",
       "Name: num_entities, dtype: float64"
      ]
     },
     "execution_count": 16,
     "metadata": {},
     "output_type": "execute_result"
    }
   ],
   "source": [
    "dfs['train']['num_entities'].value_counts(normalize=True)*100"
   ]
  },
  {
   "cell_type": "code",
   "execution_count": 17,
   "id": "f112b52f-120d-4260-bfd3-0d6ab56fb133",
   "metadata": {},
   "outputs": [
    {
     "data": {
      "text/plain": [
       "0    4208\n",
       "1    3768\n",
       "2    1555\n",
       "3     351\n",
       "4      69\n",
       "5       8\n",
       "6       1\n",
       "Name: num_entities, dtype: int64"
      ]
     },
     "execution_count": 17,
     "metadata": {},
     "output_type": "execute_result"
    }
   ],
   "source": [
    "dfs['train']['num_entities'].value_counts()"
   ]
  },
  {
   "cell_type": "code",
   "execution_count": 18,
   "id": "05cae738-b378-4ff3-9766-e8612ac08c8b",
   "metadata": {},
   "outputs": [
    {
     "data": {
      "text/plain": [
       "0    447\n",
       "1    431\n",
       "2    153\n",
       "3     37\n",
       "4      8\n",
       "Name: num_entities, dtype: int64"
      ]
     },
     "execution_count": 18,
     "metadata": {},
     "output_type": "execute_result"
    }
   ],
   "source": [
    "dfs['test']['num_entities'].value_counts()"
   ]
  },
  {
   "cell_type": "markdown",
   "id": "330a1b25-bcc9-4751-bb8e-d37812ec4c82",
   "metadata": {
    "tags": []
   },
   "source": [
    "### Messages per Entity"
   ]
  },
  {
   "cell_type": "code",
   "execution_count": 19,
   "id": "124c407b-d6b7-4d66-bef5-6fa68769e215",
   "metadata": {},
   "outputs": [],
   "source": [
    "def count_messages_per_entity(df) -> pd.DataFrame:\n",
    "    entities_counter = Counter()\n",
    "    for entities in df['entities']:\n",
    "        entities_counter.update(entities)\n",
    "\n",
    "    entities_counter_df = pd.DataFrame.from_dict(entities_counter,orient='index').reset_index()\n",
    "    entities_counter_df.columns = ['entity', 'message_count']\n",
    "    entities_counter_df.sort_values('message_count', inplace=True)\n",
    "    return entities_counter_df"
   ]
  },
  {
   "cell_type": "code",
   "execution_count": 20,
   "id": "dc9bbed6-5d00-43a6-9ae7-d978e34fb619",
   "metadata": {},
   "outputs": [],
   "source": [
    "message_per_entity_counts = {split: count_messages_per_entity(df) for split, df in dfs.items()}"
   ]
  },
  {
   "cell_type": "code",
   "execution_count": 21,
   "id": "7d328d8d-29ac-4cca-8087-af42c7001734",
   "metadata": {},
   "outputs": [
    {
     "data": {
      "text/plain": [
       "<AxesSubplot:>"
      ]
     },
     "execution_count": 21,
     "metadata": {},
     "output_type": "execute_result"
    },
    {
     "data": {
      "image/png": "[encoded data removed]",
      "text/plain": [
       "<Figure size 1080x360 with 1 Axes>"
      ]
     },
     "metadata": {
      "needs_background": "light"
     },
     "output_type": "display_data"
    }
   ],
   "source": [
    "message_per_entity_counts['train']['message_count'].hist(figsize=(15,5), bins=100)\n",
    "message_per_entity_counts['test']['message_count'].hist(figsize=(15,5), bins=50, color = 'orange')"
   ]
  },
  {
   "cell_type": "code",
   "execution_count": 22,
   "id": "275d2334-e9da-4b2a-82dc-8a3cf985fb31",
   "metadata": {},
   "outputs": [
    {
     "data": {
      "text/plain": [
       "<AxesSubplot:>"
      ]
     },
     "execution_count": 22,
     "metadata": {},
     "output_type": "execute_result"
    },
    {
     "data": {
      "image/png": "[encoded data removed]",
      "text/plain": [
       "<Figure size 1080x360 with 1 Axes>"
      ]
     },
     "metadata": {
      "needs_background": "light"
     },
     "output_type": "display_data"
    }
   ],
   "source": [
    "message_per_entity_counts['test']['message_count'].hist(figsize=(15,5), bins=50, color = 'orange')"
   ]
  },
  {
   "cell_type": "code",
   "execution_count": 23,
   "id": "d68cd34a-bd03-4260-95d8-18a28cf3af1e",
   "metadata": {},
   "outputs": [
    {
     "data": {
      "text/plain": [
       "41     1\n",
       "36     1\n",
       "19     6\n",
       "39    10\n",
       "52    10\n",
       "20    10\n",
       "51    11\n",
       "47    13\n",
       "3     14\n",
       "32    17\n",
       "Name: message_count, dtype: int64"
      ]
     },
     "execution_count": 23,
     "metadata": {},
     "output_type": "execute_result"
    }
   ],
   "source": [
    "message_per_entity_counts['train']['message_count'].head(10)"
   ]
  },
  {
   "cell_type": "code",
   "execution_count": 24,
   "id": "fb7da9fa-6932-40e9-a195-bea7995c0e99",
   "metadata": {},
   "outputs": [
    {
     "data": {
      "text/plain": [
       "18    302\n",
       "4     352\n",
       "5     353\n",
       "50    363\n",
       "8     370\n",
       "16    394\n",
       "7     468\n",
       "2     511\n",
       "11    869\n",
       "0     905\n",
       "Name: message_count, dtype: int64"
      ]
     },
     "execution_count": 24,
     "metadata": {},
     "output_type": "execute_result"
    }
   ],
   "source": [
    "message_per_entity_counts['train']['message_count'].tail(10)"
   ]
  },
  {
   "cell_type": "code",
   "execution_count": 25,
   "id": "326bd747-f6f7-467f-bd36-615ca95b2ad2",
   "metadata": {},
   "outputs": [
    {
     "data": {
      "text/plain": [
       "41     1\n",
       "36     1\n",
       "19     6\n",
       "39    10\n",
       "52    10\n",
       "20    10\n",
       "51    11\n",
       "47    13\n",
       "3     14\n",
       "32    17\n",
       "Name: message_count, dtype: int64"
      ]
     },
     "execution_count": 25,
     "metadata": {},
     "output_type": "execute_result"
    }
   ],
   "source": [
    "message_per_entity_counts['train']['message_count'].head(10)"
   ]
  },
  {
   "cell_type": "code",
   "execution_count": 26,
   "id": "c215d275-6ff9-48be-9fd6-8bbdbf94904c",
   "metadata": {},
   "outputs": [
    {
     "data": {
      "text/plain": [
       "36    35\n",
       "41    35\n",
       "26    40\n",
       "8     41\n",
       "38    41\n",
       "10    42\n",
       "4     48\n",
       "2     62\n",
       "0     85\n",
       "13    95\n",
       "Name: message_count, dtype: int64"
      ]
     },
     "execution_count": 26,
     "metadata": {},
     "output_type": "execute_result"
    }
   ],
   "source": [
    "message_per_entity_counts['test']['message_count'].tail(10)"
   ]
  },
  {
   "cell_type": "code",
   "execution_count": null,
   "id": "22c36fa7-794e-45ed-b824-98b896be6adc",
   "metadata": {},
   "outputs": [],
   "source": []
  }
 ],
 "metadata": {
  "kernelspec": {
   "display_name": "Python 3 (ipykernel)",
   "language": "python",
   "name": "python3"
  },
  "language_info": {
   "codemirror_mode": {
    "name": "ipython",
    "version": 3
   },
   "file_extension": ".py",
   "mimetype": "text/x-python",
   "name": "python",
   "nbconvert_exporter": "python",
   "pygments_lexer": "ipython3",
   "version": "3.8.12"
  }
 },
 "nbformat": 4,
 "nbformat_minor": 5
}
