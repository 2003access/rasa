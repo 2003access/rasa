{
 "cells": [
  {
   "cell_type": "markdown",
   "id": "85bccd11-b189-46d3-bfab-356f1da6448c",
   "metadata": {},
   "source": [
    "# Banking 77"
   ]
  },
  {
   "cell_type": "code",
   "execution_count": 1,
   "id": "c729f80a-9db2-4f95-abe8-db44de4fd07b",
   "metadata": {},
   "outputs": [],
   "source": [
    "import os\n",
    "from collections import Counter"
   ]
  },
  {
   "cell_type": "code",
   "execution_count": 2,
   "id": "4522312a-93b9-4aaf-b3c0-6f3451a9ba0e",
   "metadata": {},
   "outputs": [],
   "source": [
    "import pandas as pd"
   ]
  },
  {
   "cell_type": "code",
   "execution_count": 3,
   "id": "f5ada3fc-9687-44a3-a811-56c440c724f7",
   "metadata": {},
   "outputs": [],
   "source": [
    "from leaderboard.utils import rasa_utils"
   ]
  },
  {
   "cell_type": "code",
   "execution_count": 4,
   "id": "47ff60db-cb49-4853-9019-fe7306704b43",
   "metadata": {},
   "outputs": [
    {
     "data": {
      "text/plain": [
       "<module 'leaderboard.utils.rasa_utils' from '/Users/kabu/Documents/workspace/rasa2/leaderboard/utils/rasa_utils.py'>"
      ]
     },
     "execution_count": 4,
     "metadata": {},
     "output_type": "execute_result"
    }
   ],
   "source": [
    "import importlib\n",
    "importlib.reload(rasa_utils)"
   ]
  },
  {
   "cell_type": "markdown",
   "id": "7afa5154-3216-43c7-bedb-aa34484b639b",
   "metadata": {},
   "source": [
    "## Load Data"
   ]
  },
  {
   "cell_type": "code",
   "execution_count": 5,
   "id": "36b8ff52-1373-443f-8cbb-dabdc1e9dd88",
   "metadata": {},
   "outputs": [],
   "source": [
    "data_path = \"../../../../training-data/public/Banking77\""
   ]
  },
  {
   "cell_type": "code",
   "execution_count": 6,
   "id": "5e592bba-4692-46da-bc50-efd8829e9e77",
   "metadata": {},
   "outputs": [
    {
     "name": "stdout",
     "output_type": "stream",
     "text": [
      "README.md  convert.py \u001b[34mtest\u001b[m\u001b[m       \u001b[34mtrain\u001b[m\u001b[m\n"
     ]
    }
   ],
   "source": [
    "!ls {data_path}"
   ]
  },
  {
   "cell_type": "code",
   "execution_count": 7,
   "id": "9af1eb49-dcbc-4418-8836-472b2dbfb53f",
   "metadata": {},
   "outputs": [
    {
     "name": "stdout",
     "output_type": "stream",
     "text": [
      "version: \"2.0\"\n",
      "nlu:\n",
      "- intent: card_arrival\n",
      "  examples: |\n",
      "    - I am still waiting on my card?\n",
      "    - What can I do if my card still hasn't arrived after 2 weeks?\n",
      "    - I have been waiting over a week. Is the card still coming?\n",
      "    - Can I track my card while it is in the process of delivery?\n",
      "    - How do I know if I will get my card, or if it is lost?\n",
      "    - When did you send me my new card?\n"
     ]
    }
   ],
   "source": [
    "!head {data_path}/train/train.yml"
   ]
  },
  {
   "cell_type": "code",
   "execution_count": 8,
   "id": "1c02374d-f325-4990-9e9f-beadd7e2928d",
   "metadata": {},
   "outputs": [
    {
     "name": "stderr",
     "output_type": "stream",
     "text": [
      "\u001b[93m/Users/kabu/Documents/workspace/rasa2/rasa/shared/utils/io.py:98: UserWarning: Training data file /Users/kabu/Documents/workspace/training-data/public/Banking77/train/train.yml has a lower format version than your Rasa Open Source installation: 2.0 < 3.1. Rasa Open Source will read the file as a version 3.1 file. Please update your version key to 3.1. See https://rasa.com/docs/rasa/training-data-format.\n",
      "\u001b[0m\u001b[93m/Users/kabu/Documents/workspace/rasa2/rasa/shared/utils/io.py:98: UserWarning: Training data file /Users/kabu/Documents/workspace/training-data/public/Banking77/test/test.yml has a lower format version than your Rasa Open Source installation: 2.0 < 3.1. Rasa Open Source will read the file as a version 3.1 file. Please update your version key to 3.1. See https://rasa.com/docs/rasa/training-data-format.\n",
      "\u001b[0m"
     ]
    }
   ],
   "source": [
    "data = {split: rasa_utils.load_nlu_data(os.path.join(data_path, split, f'{split}.yml')) for split in ['train', 'test']}"
   ]
  },
  {
   "cell_type": "code",
   "execution_count": 9,
   "id": "3d172012-d755-48a2-9322-315817dc86b7",
   "metadata": {},
   "outputs": [],
   "source": [
    "dfs = { \n",
    "    split: pd.DataFrame(\n",
    "        [\n",
    "            { 'text': message.get('text'), \n",
    "             'intent' : message.get('intent'), \n",
    "             'entities' : [entity['entity'] for entity in message.get('entities',[])],\n",
    "            }\n",
    "            for message in data[split].nlu_examples\n",
    "        ]\n",
    "    ) for split in data }"
   ]
  },
  {
   "cell_type": "markdown",
   "id": "7ec0c5fb-a969-42ac-baf2-418797655132",
   "metadata": {},
   "source": [
    "## Intents"
   ]
  },
  {
   "cell_type": "code",
   "execution_count": 10,
   "id": "9248603e-59f5-4290-8378-61a493adac71",
   "metadata": {},
   "outputs": [
    {
     "name": "stdout",
     "output_type": "stream",
     "text": [
      "\n",
      "train\n",
      "--------------------\n"
     ]
    },
    {
     "data": {
      "text/plain": [
       "count                         9995\n",
       "unique                          77\n",
       "top       card_payment_fee_charged\n",
       "freq                           187\n",
       "Name: intent, dtype: object"
      ]
     },
     "metadata": {},
     "output_type": "display_data"
    },
    {
     "name": "stdout",
     "output_type": "stream",
     "text": [
      "\n",
      "test\n",
      "--------------------\n"
     ]
    },
    {
     "data": {
      "text/plain": [
       "count             3077\n",
       "unique              77\n",
       "top       card_arrival\n",
       "freq                40\n",
       "Name: intent, dtype: object"
      ]
     },
     "metadata": {},
     "output_type": "display_data"
    }
   ],
   "source": [
    "for split, df in dfs.items():\n",
    "    print(f'\\n{split}\\n' + '-'*20)\n",
    "    display(df['intent'].describe())"
   ]
  },
  {
   "cell_type": "code",
   "execution_count": 11,
   "id": "d18a1020-8097-4bf9-8cb1-c8d575ccb6b2",
   "metadata": {},
   "outputs": [
    {
     "data": {
      "text/plain": [
       "<AxesSubplot:>"
      ]
     },
     "execution_count": 11,
     "metadata": {},
     "output_type": "execute_result"
    },
    {
     "data": {
      "image/png": "[encoded data removed]",
      "text/plain": [
       "<Figure size 432x288 with 1 Axes>"
      ]
     },
     "metadata": {
      "needs_background": "light"
     },
     "output_type": "display_data"
    }
   ],
   "source": [
    "dfs['train']['intent'].value_counts().hist()\n",
    "dfs['test']['intent'].value_counts().hist(color = \"orange\")"
   ]
  },
  {
   "cell_type": "code",
   "execution_count": 12,
   "id": "20e6c2fa-65fd-48a2-ba57-a6a29fa350b2",
   "metadata": {},
   "outputs": [
    {
     "data": {
      "text/plain": [
       "contactless_not_working        35\n",
       "virtual_card_not_working       41\n",
       "card_acceptance                58\n",
       "card_swallowed                 61\n",
       "lost_or_stolen_card            82\n",
       "atm_support                    85\n",
       "compromised_card               86\n",
       "receiving_money                95\n",
       "top_up_limits                  97\n",
       "get_disposable_virtual_card    97\n",
       "Name: intent, dtype: int64"
      ]
     },
     "execution_count": 12,
     "metadata": {},
     "output_type": "execute_result"
    }
   ],
   "source": [
    "dfs['train']['intent'].value_counts(ascending=True)[:10]"
   ]
  },
  {
   "cell_type": "code",
   "execution_count": 13,
   "id": "45e61344-0e12-4ad4-b342-79dfa3104291",
   "metadata": {},
   "outputs": [
    {
     "data": {
      "text/plain": [
       "card_payment_fee_charged                            187\n",
       "direct_debit_payment_not_recognised                 182\n",
       "balance_not_updated_after_cheque_or_cash_deposit    181\n",
       "wrong_amount_of_cash_received                       180\n",
       "cash_withdrawal_charge                              177\n",
       "transaction_charged_twice                           175\n",
       "declined_cash_withdrawal                            173\n",
       "transfer_fee_charged                                172\n",
       "transfer_not_received_by_recipient                  171\n",
       "balance_not_updated_after_bank_transfer             171\n",
       "Name: intent, dtype: int64"
      ]
     },
     "execution_count": 13,
     "metadata": {},
     "output_type": "execute_result"
    }
   ],
   "source": [
    "dfs['train']['intent'].value_counts(ascending=False)[:10]"
   ]
  },
  {
   "cell_type": "markdown",
   "id": "cd57f14e-e92a-4c76-87a0-d6dc5a15012b",
   "metadata": {},
   "source": [
    "## Entities"
   ]
  },
  {
   "cell_type": "markdown",
   "id": "5c36ed6f-4f6f-474b-b6c1-3e85c2bbdb97",
   "metadata": {},
   "source": [
    "### Entities per Message"
   ]
  },
  {
   "cell_type": "code",
   "execution_count": 14,
   "id": "a37f3334-7f05-48b4-9c5b-0db5a7a6cc15",
   "metadata": {},
   "outputs": [],
   "source": [
    "for df in dfs.values():\n",
    "    df['num_entities'] = df['entities'].apply(len)"
   ]
  },
  {
   "cell_type": "code",
   "execution_count": 15,
   "id": "dfb848bf-88be-4d84-854c-8d8c2f53d3c0",
   "metadata": {},
   "outputs": [
    {
     "data": {
      "text/plain": [
       "<AxesSubplot:>"
      ]
     },
     "execution_count": 15,
     "metadata": {},
     "output_type": "execute_result"
    },
    {
     "data": {
      "image/png": "[encoded data removed]",
      "text/plain": [
       "<Figure size 1080x360 with 1 Axes>"
      ]
     },
     "metadata": {
      "needs_background": "light"
     },
     "output_type": "display_data"
    }
   ],
   "source": [
    "dfs['train']['num_entities'].hist(figsize=(15,5))\n",
    "dfs['test']['num_entities'].hist(color = \"orange\")"
   ]
  },
  {
   "cell_type": "code",
   "execution_count": null,
   "id": "81b7e894-a56a-4c69-ada2-6e238ba88740",
   "metadata": {},
   "outputs": [],
   "source": []
  }
 ],
 "metadata": {
  "kernelspec": {
   "display_name": "Python 3 (ipykernel)",
   "language": "python",
   "name": "python3"
  },
  "language_info": {
   "codemirror_mode": {
    "name": "ipython",
    "version": 3
   },
   "file_extension": ".py",
   "mimetype": "text/x-python",
   "name": "python",
   "nbconvert_exporter": "python",
   "pygments_lexer": "ipython3",
   "version": "3.8.12"
  }
 },
 "nbformat": 4,
 "nbformat_minor": 5
}
