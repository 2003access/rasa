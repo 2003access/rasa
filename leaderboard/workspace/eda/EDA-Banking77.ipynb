{
 "cells": [
  {
   "cell_type": "markdown",
   "id": "85bccd11-b189-46d3-bfab-356f1da6448c",
   "metadata": {},
   "source": [
    "# Banking 77"
   ]
  },
  {
   "cell_type": "code",
   "execution_count": 1,
   "id": "c729f80a-9db2-4f95-abe8-db44de4fd07b",
   "metadata": {},
   "outputs": [],
   "source": [
    "import os\n",
    "from collections import Counter"
   ]
  },
  {
   "cell_type": "code",
   "execution_count": 2,
   "id": "4522312a-93b9-4aaf-b3c0-6f3451a9ba0e",
   "metadata": {},
   "outputs": [],
   "source": [
    "import pandas as pd"
   ]
  },
  {
   "cell_type": "code",
   "execution_count": 3,
   "id": "f5ada3fc-9687-44a3-a811-56c440c724f7",
   "metadata": {},
   "outputs": [],
   "source": [
    "from leaderboard.utils import rasa_utils"
   ]
  },
  {
   "cell_type": "code",
   "execution_count": 4,
   "id": "47ff60db-cb49-4853-9019-fe7306704b43",
   "metadata": {},
   "outputs": [
    {
     "data": {
      "text/plain": [
       "<module 'leaderboard.utils.rasa_utils' from '/Users/kabu/Documents/workspace/rasa2/leaderboard/utils/rasa_utils.py'>"
      ]
     },
     "execution_count": 4,
     "metadata": {},
     "output_type": "execute_result"
    }
   ],
   "source": [
    "import importlib\n",
    "importlib.reload(rasa_utils)"
   ]
  },
  {
   "cell_type": "markdown",
   "id": "7afa5154-3216-43c7-bedb-aa34484b639b",
   "metadata": {},
   "source": [
    "## Load Data"
   ]
  },
  {
   "cell_type": "code",
   "execution_count": 5,
   "id": "36b8ff52-1373-443f-8cbb-dabdc1e9dd88",
   "metadata": {},
   "outputs": [],
   "source": [
    "data_path = \"../../../../training-data/public/Banking77\""
   ]
  },
  {
   "cell_type": "code",
   "execution_count": 6,
   "id": "5e592bba-4692-46da-bc50-efd8829e9e77",
   "metadata": {},
   "outputs": [
    {
     "name": "stdout",
     "output_type": "stream",
     "text": [
      "README.md  convert.py \u001b[34mtest\u001b[m\u001b[m       \u001b[34mtrain\u001b[m\u001b[m\n"
     ]
    }
   ],
   "source": [
    "!ls {data_path}"
   ]
  },
  {
   "cell_type": "code",
   "execution_count": 7,
   "id": "9af1eb49-dcbc-4418-8836-472b2dbfb53f",
   "metadata": {},
   "outputs": [
    {
     "name": "stdout",
     "output_type": "stream",
     "text": [
      "version: \"2.0\"\n",
      "nlu:\n",
      "- intent: card_arrival\n",
      "  examples: |\n",
      "    - I am still waiting on my card?\n",
      "    - What can I do if my card still hasn't arrived after 2 weeks?\n",
      "    - I have been waiting over a week. Is the card still coming?\n",
      "    - Can I track my card while it is in the process of delivery?\n",
      "    - How do I know if I will get my card, or if it is lost?\n",
      "    - When did you send me my new card?\n"
     ]
    }
   ],
   "source": [
    "!head {data_path}/train/train.yml"
   ]
  },
  {
   "cell_type": "code",
   "execution_count": 8,
   "id": "1c02374d-f325-4990-9e9f-beadd7e2928d",
   "metadata": {},
   "outputs": [
    {
     "ename": "TypeError",
     "evalue": "load_nlu_data() got an unexpected keyword argument 'domain_path'",
     "output_type": "error",
     "traceback": [
      "\u001b[0;31m---------------------------------------------------------------------------\u001b[0m",
      "\u001b[0;31mTypeError\u001b[0m                                 Traceback (most recent call last)",
      "Input \u001b[0;32mIn [8]\u001b[0m, in \u001b[0;36m<cell line: 1>\u001b[0;34m()\u001b[0m\n\u001b[0;32m----> 1\u001b[0m data \u001b[38;5;241m=\u001b[39m {split: rasa_utils\u001b[38;5;241m.\u001b[39mload_nlu_data(os\u001b[38;5;241m.\u001b[39mpath\u001b[38;5;241m.\u001b[39mjoin(data_path, split, \u001b[38;5;124mf\u001b[39m\u001b[38;5;124m'\u001b[39m\u001b[38;5;132;01m{\u001b[39;00msplit\u001b[38;5;132;01m}\u001b[39;00m\u001b[38;5;124m.yml\u001b[39m\u001b[38;5;124m'\u001b[39m), domain_path \u001b[38;5;241m=\u001b[39m \u001b[38;5;28;01mNone\u001b[39;00m) \u001b[38;5;28;01mfor\u001b[39;00m split \u001b[38;5;129;01min\u001b[39;00m [\u001b[38;5;124m'\u001b[39m\u001b[38;5;124mtrain\u001b[39m\u001b[38;5;124m'\u001b[39m, \u001b[38;5;124m'\u001b[39m\u001b[38;5;124mtest\u001b[39m\u001b[38;5;124m'\u001b[39m]}\n",
      "Input \u001b[0;32mIn [8]\u001b[0m, in \u001b[0;36m<dictcomp>\u001b[0;34m(.0)\u001b[0m\n\u001b[0;32m----> 1\u001b[0m data \u001b[38;5;241m=\u001b[39m {split: \u001b[43mrasa_utils\u001b[49m\u001b[38;5;241;43m.\u001b[39;49m\u001b[43mload_nlu_data\u001b[49m\u001b[43m(\u001b[49m\u001b[43mos\u001b[49m\u001b[38;5;241;43m.\u001b[39;49m\u001b[43mpath\u001b[49m\u001b[38;5;241;43m.\u001b[39;49m\u001b[43mjoin\u001b[49m\u001b[43m(\u001b[49m\u001b[43mdata_path\u001b[49m\u001b[43m,\u001b[49m\u001b[43m \u001b[49m\u001b[43msplit\u001b[49m\u001b[43m,\u001b[49m\u001b[43m \u001b[49m\u001b[38;5;124;43mf\u001b[39;49m\u001b[38;5;124;43m'\u001b[39;49m\u001b[38;5;132;43;01m{\u001b[39;49;00m\u001b[43msplit\u001b[49m\u001b[38;5;132;43;01m}\u001b[39;49;00m\u001b[38;5;124;43m.yml\u001b[39;49m\u001b[38;5;124;43m'\u001b[39;49m\u001b[43m)\u001b[49m\u001b[43m,\u001b[49m\u001b[43m \u001b[49m\u001b[43mdomain_path\u001b[49m\u001b[43m \u001b[49m\u001b[38;5;241;43m=\u001b[39;49m\u001b[43m \u001b[49m\u001b[38;5;28;43;01mNone\u001b[39;49;00m\u001b[43m)\u001b[49m \u001b[38;5;28;01mfor\u001b[39;00m split \u001b[38;5;129;01min\u001b[39;00m [\u001b[38;5;124m'\u001b[39m\u001b[38;5;124mtrain\u001b[39m\u001b[38;5;124m'\u001b[39m, \u001b[38;5;124m'\u001b[39m\u001b[38;5;124mtest\u001b[39m\u001b[38;5;124m'\u001b[39m]}\n",
      "\u001b[0;31mTypeError\u001b[0m: load_nlu_data() got an unexpected keyword argument 'domain_path'"
     ]
    }
   ],
   "source": [
    "data = {split: rasa_utils.load_nlu_data(os.path.join(data_path, split, f'{split}.yml'), domain_path = None) for split in ['train', 'test']}"
   ]
  },
  {
   "cell_type": "code",
   "execution_count": null,
   "id": "3d172012-d755-48a2-9322-315817dc86b7",
   "metadata": {},
   "outputs": [],
   "source": [
    "dfs = { \n",
    "    split: pd.DataFrame(\n",
    "        [\n",
    "            { 'text': message.get('text'), \n",
    "             'intent' : message.get('intent'), \n",
    "             'entities' : [entity['entity'] for entity in message.get('entities',[])],\n",
    "            }\n",
    "            for message in data[split].nlu_examples\n",
    "        ]\n",
    "    ) for split in data }"
   ]
  },
  {
   "cell_type": "markdown",
   "id": "7ec0c5fb-a969-42ac-baf2-418797655132",
   "metadata": {},
   "source": [
    "## Intents"
   ]
  },
  {
   "cell_type": "code",
   "execution_count": null,
   "id": "9248603e-59f5-4290-8378-61a493adac71",
   "metadata": {},
   "outputs": [],
   "source": [
    "for split, df in dfs.items():\n",
    "    print(f'\\n{split}\\n' + '-'*20)\n",
    "    display(df['intent'].describe())"
   ]
  },
  {
   "cell_type": "code",
   "execution_count": null,
   "id": "d18a1020-8097-4bf9-8cb1-c8d575ccb6b2",
   "metadata": {},
   "outputs": [],
   "source": [
    "dfs['train']['intent'].value_counts().hist()\n",
    "dfs['test']['intent'].value_counts().hist(color = \"orange\")"
   ]
  },
  {
   "cell_type": "code",
   "execution_count": null,
   "id": "20e6c2fa-65fd-48a2-ba57-a6a29fa350b2",
   "metadata": {},
   "outputs": [],
   "source": [
    "dfs['train']['intent'].value_counts(ascending=True)[:10]"
   ]
  },
  {
   "cell_type": "code",
   "execution_count": null,
   "id": "45e61344-0e12-4ad4-b342-79dfa3104291",
   "metadata": {},
   "outputs": [],
   "source": [
    "dfs['train']['intent'].value_counts(ascending=False)[:10]"
   ]
  },
  {
   "cell_type": "markdown",
   "id": "cd57f14e-e92a-4c76-87a0-d6dc5a15012b",
   "metadata": {},
   "source": [
    "## Entities"
   ]
  },
  {
   "cell_type": "markdown",
   "id": "5c36ed6f-4f6f-474b-b6c1-3e85c2bbdb97",
   "metadata": {},
   "source": [
    "### Entities per Message"
   ]
  },
  {
   "cell_type": "code",
   "execution_count": null,
   "id": "a37f3334-7f05-48b4-9c5b-0db5a7a6cc15",
   "metadata": {},
   "outputs": [],
   "source": [
    "for df in dfs.values():\n",
    "    df['num_entities'] = df['entities'].apply(len)"
   ]
  },
  {
   "cell_type": "code",
   "execution_count": null,
   "id": "dfb848bf-88be-4d84-854c-8d8c2f53d3c0",
   "metadata": {},
   "outputs": [],
   "source": [
    "dfs['train']['num_entities'].hist(figsize=(15,5))\n",
    "dfs['test']['num_entities'].hist(color = \"orange\")"
   ]
  },
  {
   "cell_type": "code",
   "execution_count": null,
   "id": "81b7e894-a56a-4c69-ada2-6e238ba88740",
   "metadata": {},
   "outputs": [],
   "source": []
  }
 ],
 "metadata": {
  "kernelspec": {
   "display_name": "Python 3 (ipykernel)",
   "language": "python",
   "name": "python3"
  },
  "language_info": {
   "codemirror_mode": {
    "name": "ipython",
    "version": 3
   },
   "file_extension": ".py",
   "mimetype": "text/x-python",
   "name": "python",
   "nbconvert_exporter": "python",
   "pygments_lexer": "ipython3",
   "version": "3.8.12"
  }
 },
 "nbformat": 4,
 "nbformat_minor": 5
}
