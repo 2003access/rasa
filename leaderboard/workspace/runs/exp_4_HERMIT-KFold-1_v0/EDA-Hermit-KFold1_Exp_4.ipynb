{
 "cells": [
  {
   "cell_type": "markdown",
   "id": "686aa8a0-41ea-4da0-bb86-42bd14fa8b7d",
   "metadata": {},
   "source": [
    "# Hermit Fold 1 - Inspect Training Data Exclusion in Exp 4"
   ]
  },
  {
   "cell_type": "code",
   "execution_count": 1,
   "id": "45fa85cf-4a4f-4a9b-907c-785415350b99",
   "metadata": {},
   "outputs": [],
   "source": [
    "import os\n",
    "from collections import Counter"
   ]
  },
  {
   "cell_type": "code",
   "execution_count": 2,
   "id": "33d524eb-cb09-4e67-abfb-a67db2fac8a4",
   "metadata": {},
   "outputs": [],
   "source": [
    "import pandas as pd"
   ]
  },
  {
   "cell_type": "code",
   "execution_count": 3,
   "id": "a030e19f-7293-465c-a2a1-b26e16040082",
   "metadata": {},
   "outputs": [],
   "source": [
    "from leaderboard.utils import rasa_utils, eda_utils"
   ]
  },
  {
   "cell_type": "markdown",
   "id": "95829459-c1dd-4a27-86c5-b809cb109654",
   "metadata": {},
   "source": [
    "## Load Data"
   ]
  },
  {
   "cell_type": "code",
   "execution_count": 4,
   "id": "ecd176f5-440a-45a2-9860-ce7d3379a29b",
   "metadata": {},
   "outputs": [],
   "source": [
    "data_path = \"../../../../training-data/public/HERMIT/KFold_1\""
   ]
  },
  {
   "cell_type": "code",
   "execution_count": 5,
   "id": "89976f4b-5f93-4d04-bf5b-64ff04d52c5c",
   "metadata": {},
   "outputs": [],
   "source": [
    "from omegaconf import MISSING"
   ]
  },
  {
   "cell_type": "code",
   "execution_count": 6,
   "id": "1228d450-599b-462d-8a2c-e258194fb0bd",
   "metadata": {},
   "outputs": [],
   "source": [
    "from leaderboard.utils import experiment, rasa_utils\n",
    "import leaderboard.nlu.exp_4_stratify_infrequent_entities_only_for_exclusion as exp_4"
   ]
  },
  {
   "cell_type": "code",
   "execution_count": 7,
   "id": "8c646ea6-5684-42fa-ae44-2673d6971840",
   "metadata": {},
   "outputs": [],
   "source": [
    "base_config = exp_4.Config(\n",
    "    train_exclusion_fraction=MISSING,\n",
    "    data=experiment.DataConfig(\n",
    "        name=\"name\",\n",
    "        data_path=os.path.join(data_path, 'train', 'train.yml'),\n",
    "    ),\n",
    "    model=experiment.ModelConfig(),\n",
    "    clear_rasa_cache=True,\n",
    "    test_data_path= os.path.join(data_path, 'test', 'test.yml'),\n",
    ")"
   ]
  },
  {
   "cell_type": "code",
   "execution_count": 8,
   "id": "115cda6e-d1e3-4021-8565-e1769e9bcff0",
   "metadata": {},
   "outputs": [
    {
     "data": {
      "text/plain": [
       "Config(script='/Users/kabu/Documents/workspace/rasa2/leaderboard/nlu/exp_4_stratify_infrequent_entities_only_for_exclusion.py', model=ModelConfig(name='???', config_path='???'), data=DataConfig(name='name', data_path='../../../../training-data/public/HERMIT/KFold_1/train/train.yml'), clear_rasa_cache=True, train_exclusion_fraction='???', exclusion_seed=345, test_data_path='../../../../training-data/public/HERMIT/KFold_1/test/test.yml')"
      ]
     },
     "execution_count": 8,
     "metadata": {},
     "output_type": "execute_result"
    }
   ],
   "source": [
    "base_config"
   ]
  },
  {
   "cell_type": "markdown",
   "id": "14c19f63-19cb-49de-b8dc-cf205a79e70c",
   "metadata": {},
   "source": [
    "## Test Exclusion Method"
   ]
  },
  {
   "cell_type": "code",
   "execution_count": 9,
   "id": "7a40a730-264e-48c5-b43e-9ce02bd464d5",
   "metadata": {},
   "outputs": [],
   "source": [
    "base_config.train_exclusion_fraction = 0.75\n",
    "base_config.exclusion_ignore_leq = 10"
   ]
  },
  {
   "cell_type": "code",
   "execution_count": 10,
   "id": "1e1b3b1b-8300-480b-96c6-6bd3f9661a25",
   "metadata": {},
   "outputs": [],
   "source": [
    "exp = exp_4.EntityExperiment(base_config, out_dir='./')"
   ]
  },
  {
   "cell_type": "code",
   "execution_count": 11,
   "id": "3e6f6a64-1b9b-4271-bcb5-04e5ab2d8584",
   "metadata": {},
   "outputs": [
    {
     "name": "stderr",
     "output_type": "stream",
     "text": [
      "\u001b[93m/Users/kabu/Documents/workspace/rasa2/rasa/shared/utils/io.py:98: UserWarning: Training data file /Users/kabu/Documents/workspace/training-data/public/HERMIT/KFold_1/train/train.yml has a lower format version than your Rasa Open Source installation: 2.0 < 3.1. Rasa Open Source will read the file as a version 3.1 file. Please update your version key to 3.1. See https://rasa.com/docs/rasa/training-data-format.\n",
      "\u001b[0m"
     ]
    }
   ],
   "source": [
    "train_data = rasa_utils.load_nlu_data(exp.config.data.data_path)"
   ]
  },
  {
   "cell_type": "code",
   "execution_count": 12,
   "id": "34f297ec-49f6-470b-be46-77948e9e7730",
   "metadata": {},
   "outputs": [],
   "source": [
    "labels = exp._pseudo_labels(train_data)"
   ]
  },
  {
   "cell_type": "code",
   "execution_count": 13,
   "id": "8b72ec3f-993f-4444-9378-b5cc904165cf",
   "metadata": {},
   "outputs": [
    {
     "data": {
      "text/plain": [
       "coffee_type             31\n",
       "general_frequency       27\n",
       "playlist_name           21\n",
       "movie_name              18\n",
       "email_folder            17\n",
       "music_descriptor        17\n",
       "ingredient              15\n",
       "alarm_type              14\n",
       "movie_type              13\n",
       "transport_descriptor    11\n",
       "dtype: int64"
      ]
     },
     "execution_count": 13,
     "metadata": {},
     "output_type": "execute_result"
    }
   ],
   "source": [
    "pd.Series(labels).value_counts().tail(10)"
   ]
  },
  {
   "cell_type": "code",
   "execution_count": 14,
   "id": "7b1afae4-7927-4223-8d6f-011fad0f7df5",
   "metadata": {},
   "outputs": [
    {
     "name": "stderr",
     "output_type": "stream",
     "text": [
      "\u001b[93m/Users/kabu/Documents/workspace/rasa2/rasa/shared/utils/io.py:98: UserWarning: Training data file /Users/kabu/Documents/workspace/training-data/public/HERMIT/KFold_1/train/train.yml has a lower format version than your Rasa Open Source installation: 2.0 < 3.1. Rasa Open Source will read the file as a version 3.1 file. Please update your version key to 3.1. See https://rasa.com/docs/rasa/training-data-format.\n",
      "\u001b[0m\u001b[93m/Users/kabu/Documents/workspace/rasa2/rasa/shared/utils/io.py:98: UserWarning: Training data file /Users/kabu/Documents/workspace/training-data/public/HERMIT/KFold_1/test/test.yml has a lower format version than your Rasa Open Source installation: 2.0 < 3.1. Rasa Open Source will read the file as a version 3.1 file. Please update your version key to 3.1. See https://rasa.com/docs/rasa/training-data-format.\n",
      "\u001b[0m"
     ]
    }
   ],
   "source": [
    "train, test = exp.load_train_test_split()"
   ]
  },
  {
   "cell_type": "code",
   "execution_count": 15,
   "id": "7cb554d1-d0be-4f77-a98d-0b2ae2f1784e",
   "metadata": {},
   "outputs": [],
   "source": [
    "splits = {'train' : train, 'test': test}\n",
    "splits = {key : eda_utils.nlu_data_to_df(data) for key, data in [('train',train), ('test', test)]}"
   ]
  },
  {
   "cell_type": "code",
   "execution_count": 16,
   "id": "22c36fa7-794e-45ed-b824-98b896be6adc",
   "metadata": {},
   "outputs": [
    {
     "data": {
      "image/png": "[encoded data removed]",
      "text/plain": [
       "<Figure size 720x360 with 1 Axes>"
      ]
     },
     "metadata": {
      "needs_background": "light"
     },
     "output_type": "display_data"
    }
   ],
   "source": [
    "_ = eda_utils.intent_support(splits)"
   ]
  },
  {
   "cell_type": "code",
   "execution_count": 17,
   "id": "29a5c371-d171-40d1-94c4-8ce90572bfcd",
   "metadata": {},
   "outputs": [
    {
     "data": {
      "image/png": "[encoded data removed]",
      "text/plain": [
       "<Figure size 720x360 with 1 Axes>"
      ]
     },
     "metadata": {
      "needs_background": "light"
     },
     "output_type": "display_data"
    }
   ],
   "source": [
    "entity_support = eda_utils.entity_support(splits, bins=100)"
   ]
  },
  {
   "cell_type": "code",
   "execution_count": 18,
   "id": "8be899bf-7016-4f05-94e9-26d682b590c4",
   "metadata": {},
   "outputs": [
    {
     "data": {
      "text/html": [
       "<div>\n",
       "<style scoped>\n",
       "    .dataframe tbody tr th:only-of-type {\n",
       "        vertical-align: middle;\n",
       "    }\n",
       "\n",
       "    .dataframe tbody tr th {\n",
       "        vertical-align: top;\n",
       "    }\n",
       "\n",
       "    .dataframe thead th {\n",
       "        text-align: right;\n",
       "    }\n",
       "</style>\n",
       "<table border=\"1\" class=\"dataframe\">\n",
       "  <thead>\n",
       "    <tr style=\"text-align: right;\">\n",
       "      <th></th>\n",
       "      <th>entity</th>\n",
       "      <th>message_count</th>\n",
       "    </tr>\n",
       "  </thead>\n",
       "  <tbody>\n",
       "    <tr>\n",
       "      <th>32</th>\n",
       "      <td>ingredient</td>\n",
       "      <td>4</td>\n",
       "    </tr>\n",
       "    <tr>\n",
       "      <th>27</th>\n",
       "      <td>music_descriptor</td>\n",
       "      <td>4</td>\n",
       "    </tr>\n",
       "    <tr>\n",
       "      <th>49</th>\n",
       "      <td>audiobook_author</td>\n",
       "      <td>4</td>\n",
       "    </tr>\n",
       "    <tr>\n",
       "      <th>50</th>\n",
       "      <td>alarm_type</td>\n",
       "      <td>4</td>\n",
       "    </tr>\n",
       "    <tr>\n",
       "      <th>31</th>\n",
       "      <td>cooking_type</td>\n",
       "      <td>3</td>\n",
       "    </tr>\n",
       "    <tr>\n",
       "      <th>44</th>\n",
       "      <td>transport_name</td>\n",
       "      <td>3</td>\n",
       "    </tr>\n",
       "    <tr>\n",
       "      <th>45</th>\n",
       "      <td>movie_type</td>\n",
       "      <td>3</td>\n",
       "    </tr>\n",
       "    <tr>\n",
       "      <th>46</th>\n",
       "      <td>transport_descriptor</td>\n",
       "      <td>3</td>\n",
       "    </tr>\n",
       "    <tr>\n",
       "      <th>51</th>\n",
       "      <td>drink_type</td>\n",
       "      <td>1</td>\n",
       "    </tr>\n",
       "    <tr>\n",
       "      <th>52</th>\n",
       "      <td>game_type</td>\n",
       "      <td>1</td>\n",
       "    </tr>\n",
       "  </tbody>\n",
       "</table>\n",
       "</div>"
      ],
      "text/plain": [
       "                  entity  message_count\n",
       "32            ingredient              4\n",
       "27      music_descriptor              4\n",
       "49      audiobook_author              4\n",
       "50            alarm_type              4\n",
       "31          cooking_type              3\n",
       "44        transport_name              3\n",
       "45            movie_type              3\n",
       "46  transport_descriptor              3\n",
       "51            drink_type              1\n",
       "52             game_type              1"
      ]
     },
     "execution_count": 18,
     "metadata": {},
     "output_type": "execute_result"
    }
   ],
   "source": [
    "entity_support['train'].tail(10)"
   ]
  },
  {
   "cell_type": "code",
   "execution_count": null,
   "id": "95c4963a-3b5d-4faa-ae0a-3d8394ae00f1",
   "metadata": {},
   "outputs": [],
   "source": []
  }
 ],
 "metadata": {
  "kernelspec": {
   "display_name": "Python 3 (ipykernel)",
   "language": "python",
   "name": "python3"
  },
  "language_info": {
   "codemirror_mode": {
    "name": "ipython",
    "version": 3
   },
   "file_extension": ".py",
   "mimetype": "text/x-python",
   "name": "python",
   "nbconvert_exporter": "python",
   "pygments_lexer": "ipython3",
   "version": "3.8.12"
  }
 },
 "nbformat": 4,
 "nbformat_minor": 5
}
